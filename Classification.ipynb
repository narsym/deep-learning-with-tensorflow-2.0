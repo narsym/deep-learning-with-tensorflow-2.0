{
  "nbformat": 4,
  "nbformat_minor": 0,
  "metadata": {
    "colab": {
      "name": "Classification.ipynb",
      "provenance": [],
      "collapsed_sections": [],
      "authorship_tag": "ABX9TyORnctS46fJIzWqhEknwiW5",
      "include_colab_link": true
    },
    "kernelspec": {
      "name": "python3",
      "display_name": "Python 3"
    }
  },
  "cells": [
    {
      "cell_type": "markdown",
      "metadata": {
        "id": "view-in-github",
        "colab_type": "text"
      },
      "source": [
        "<a href=\"https://colab.research.google.com/github/narsym/deep-learning-with-tensorflow-2.0/blob/master/Classification.ipynb\" target=\"_parent\"><img src=\"https://colab.research.google.com/assets/colab-badge.svg\" alt=\"Open In Colab\"/></a>"
      ]
    },
    {
      "cell_type": "markdown",
      "metadata": {
        "id": "6rrovqUUNHIi",
        "colab_type": "text"
      },
      "source": [
        "#Mnist digit classification using logistic regression"
      ]
    },
    {
      "cell_type": "code",
      "metadata": {
        "id": "x4y942HNNQPv",
        "colab_type": "code",
        "colab": {
          "base_uri": "https://localhost:8080/",
          "height": 35
        },
        "outputId": "1b49a4f7-bc23-45db-d121-20e98b97cc1f"
      },
      "source": [
        "import tensorflow as tf\n",
        "from tensorflow import keras\n",
        "import numpy as np\n",
        "import matplotlib.pyplot as plt\n",
        "print(tf.__version__)"
      ],
      "execution_count": 2,
      "outputs": [
        {
          "output_type": "stream",
          "text": [
            "2.2.0\n"
          ],
          "name": "stdout"
        }
      ]
    },
    {
      "cell_type": "markdown",
      "metadata": {
        "id": "oX5O-90jNcW8",
        "colab_type": "text"
      },
      "source": [
        "Load data"
      ]
    },
    {
      "cell_type": "code",
      "metadata": {
        "id": "1JuiXJWhNnyf",
        "colab_type": "code",
        "colab": {
          "base_uri": "https://localhost:8080/",
          "height": 53
        },
        "outputId": "defb2062-3432-4574-9276-885b14ec832f"
      },
      "source": [
        "(train_data,train_labels), (eval_data,eval_labels) = tf.keras.datasets.mnist.load_data()"
      ],
      "execution_count": 3,
      "outputs": [
        {
          "output_type": "stream",
          "text": [
            "Downloading data from https://storage.googleapis.com/tensorflow/tf-keras-datasets/mnist.npz\n",
            "11493376/11490434 [==============================] - 0s 0us/step\n"
          ],
          "name": "stdout"
        }
      ]
    },
    {
      "cell_type": "markdown",
      "metadata": {
        "id": "ZrNII3f9NzcW",
        "colab_type": "text"
      },
      "source": [
        "Preprocess data"
      ]
    },
    {
      "cell_type": "code",
      "metadata": {
        "id": "gVppxTBpN4qz",
        "colab_type": "code",
        "colab": {}
      },
      "source": [
        "train_data = train_data / 255\n",
        "train_labels = train_labels.astype(np.int32)\n",
        "\n",
        "eval_data = eval_data / 255\n",
        "eval_labels = eval_labels.astype(np.int32)"
      ],
      "execution_count": 0,
      "outputs": []
    },
    {
      "cell_type": "markdown",
      "metadata": {
        "id": "SfGupF2POHa9",
        "colab_type": "text"
      },
      "source": [
        "Define numerical features "
      ]
    },
    {
      "cell_type": "code",
      "metadata": {
        "id": "0K6F62D2OYJu",
        "colab_type": "code",
        "colab": {}
      },
      "source": [
        "feature_columns = [tf.feature_column.numeric_column('x',shape = [28,28])]"
      ],
      "execution_count": 0,
      "outputs": []
    },
    {
      "cell_type": "markdown",
      "metadata": {
        "id": "3wmzqPiiOmhZ",
        "colab_type": "text"
      },
      "source": [
        "Creating estimators"
      ]
    },
    {
      "cell_type": "code",
      "metadata": {
        "id": "4aTAreJaOv7M",
        "colab_type": "code",
        "colab": {
          "base_uri": "https://localhost:8080/",
          "height": 182
        },
        "outputId": "93d86146-96f2-4c96-9c34-b731c352c3fb"
      },
      "source": [
        "Classifier = tf.estimator.LinearClassifier(feature_columns = feature_columns,n_classes = 10,model_dir = 'mnist_model/')"
      ],
      "execution_count": 9,
      "outputs": [
        {
          "output_type": "stream",
          "text": [
            "INFO:tensorflow:Using default config.\n",
            "INFO:tensorflow:Using config: {'_model_dir': 'mnist_model/', '_tf_random_seed': None, '_save_summary_steps': 100, '_save_checkpoints_steps': None, '_save_checkpoints_secs': 600, '_session_config': allow_soft_placement: true\n",
            "graph_options {\n",
            "  rewrite_options {\n",
            "    meta_optimizer_iterations: ONE\n",
            "  }\n",
            "}\n",
            ", '_keep_checkpoint_max': 5, '_keep_checkpoint_every_n_hours': 10000, '_log_step_count_steps': 100, '_train_distribute': None, '_device_fn': None, '_protocol': None, '_eval_distribute': None, '_experimental_distribute': None, '_experimental_max_worker_delay_secs': None, '_session_creation_timeout_secs': 7200, '_service': None, '_cluster_spec': ClusterSpec({}), '_task_type': 'worker', '_task_id': 0, '_global_id_in_cluster': 0, '_master': '', '_evaluation_master': '', '_is_chief': True, '_num_ps_replicas': 0, '_num_worker_replicas': 1}\n"
          ],
          "name": "stdout"
        }
      ]
    },
    {
      "cell_type": "markdown",
      "metadata": {
        "id": "YyUYnV-dPHPH",
        "colab_type": "text"
      },
      "source": [
        "Input function to feed to estimator"
      ]
    },
    {
      "cell_type": "code",
      "metadata": {
        "id": "9Qv5GgjnPXqL",
        "colab_type": "code",
        "colab": {}
      },
      "source": [
        "train_input_fn = tf.compat.v1.estimator.inputs.numpy_input_fn(\n",
        "    x = {'x':train_data},\n",
        "    y = train_labels,\n",
        "    batch_size = 100,\n",
        "    num_epochs = None,\n",
        "    shuffle = True\n",
        ")"
      ],
      "execution_count": 0,
      "outputs": []
    },
    {
      "cell_type": "markdown",
      "metadata": {
        "id": "Jak8LTZePygc",
        "colab_type": "text"
      },
      "source": [
        "Train Classifier"
      ]
    },
    {
      "cell_type": "code",
      "metadata": {
        "id": "VORFw4MzP3eT",
        "colab_type": "code",
        "colab": {}
      },
      "source": [
        "Classifier.train(input_fn = train_input_fn,steps = 10)"
      ],
      "execution_count": 0,
      "outputs": []
    },
    {
      "cell_type": "markdown",
      "metadata": {
        "id": "xpIKBrayP-hG",
        "colab_type": "text"
      },
      "source": [
        "Create input function for validation data"
      ]
    },
    {
      "cell_type": "code",
      "metadata": {
        "id": "LKTCKPg8QEaB",
        "colab_type": "code",
        "colab": {}
      },
      "source": [
        "val_input_fn = tf.compat.v1.estimator.inputs.numpy_input_fn(\n",
        "    x = {'x':eval_data},\n",
        "    y = eval_labels,\n",
        "    num_epochs = 1,\n",
        "    shuffle = False\n",
        ")"
      ],
      "execution_count": 0,
      "outputs": []
    },
    {
      "cell_type": "markdown",
      "metadata": {
        "id": "JoPb-mTTQZWD",
        "colab_type": "text"
      },
      "source": [
        "Evaluate results"
      ]
    },
    {
      "cell_type": "code",
      "metadata": {
        "id": "SwtBHMXgQgQh",
        "colab_type": "code",
        "colab": {
          "base_uri": "https://localhost:8080/",
          "height": 364
        },
        "outputId": "b5bb43d4-57e6-4522-c550-ee9f04d2ab4c"
      },
      "source": [
        "eval_results = Classifier.evaluate(input_fn = val_input_fn)\n",
        "print(eval_results)"
      ],
      "execution_count": 18,
      "outputs": [
        {
          "output_type": "stream",
          "text": [
            "INFO:tensorflow:Calling model_fn.\n",
            "WARNING:tensorflow:Layer linear/linear_model is casting an input tensor from dtype float64 to the layer's dtype of float32, which is new behavior in TensorFlow 2.  The layer has dtype float32 because it's dtype defaults to floatx.\n",
            "\n",
            "If you intended to run this layer in float32, you can safely ignore this warning. If in doubt, this warning is likely only an issue if you are porting a TensorFlow 1.X model to TensorFlow 2.\n",
            "\n",
            "To change all layers to have dtype float64 by default, call `tf.keras.backend.set_floatx('float64')`. To change just this layer, pass dtype='float64' to the layer constructor. If you are the author of this layer, you can disable autocasting by passing autocast=False to the base Layer constructor.\n",
            "\n",
            "INFO:tensorflow:Done calling model_fn.\n",
            "INFO:tensorflow:Starting evaluation at 2020-05-29T02:30:40Z\n",
            "INFO:tensorflow:Graph was finalized.\n",
            "INFO:tensorflow:Restoring parameters from mnist_model/model.ckpt-140\n",
            "INFO:tensorflow:Running local_init_op.\n",
            "INFO:tensorflow:Done running local_init_op.\n",
            "INFO:tensorflow:Inference Time : 0.28436s\n",
            "INFO:tensorflow:Finished evaluation at 2020-05-29-02:30:40\n",
            "INFO:tensorflow:Saving dict for global step 140: accuracy = 0.1135, average_loss = 2.3006675, global_step = 140, loss = 2.3005712\n",
            "INFO:tensorflow:Saving 'checkpoint_path' summary for global step 140: mnist_model/model.ckpt-140\n",
            "{'accuracy': 0.1135, 'average_loss': 2.3006675, 'loss': 2.3005712, 'global_step': 140}\n"
          ],
          "name": "stdout"
        }
      ]
    }
  ]
}