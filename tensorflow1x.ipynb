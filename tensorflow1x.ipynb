{
  "nbformat": 4,
  "nbformat_minor": 0,
  "metadata": {
    "colab": {
      "name": "tensorflow1x.ipynb",
      "provenance": [],
      "collapsed_sections": [],
      "authorship_tag": "ABX9TyOUoHhzvrZuUFi+qfjGV2G2",
      "include_colab_link": true
    },
    "kernelspec": {
      "name": "python3",
      "display_name": "Python 3"
    }
  },
  "cells": [
    {
      "cell_type": "markdown",
      "metadata": {
        "id": "view-in-github",
        "colab_type": "text"
      },
      "source": [
        "<a href=\"https://colab.research.google.com/github/narsym/deep-learning-with-tensorflow-2.0/blob/master/tensorflow1x.ipynb\" target=\"_parent\"><img src=\"https://colab.research.google.com/assets/colab-badge.svg\" alt=\"Open In Colab\"/></a>"
      ]
    },
    {
      "cell_type": "markdown",
      "metadata": {
        "id": "XrIZa7fJJHxu",
        "colab_type": "text"
      },
      "source": [
        "#These are not be used in tensorflow 2.x"
      ]
    },
    {
      "cell_type": "code",
      "metadata": {
        "id": "mJU1e5OiIaEg",
        "colab_type": "code",
        "outputId": "ca454864-aabd-4a01-8f1b-670e93f801c8",
        "colab": {
          "base_uri": "https://localhost:8080/",
          "height": 92
        }
      },
      "source": [
        "import tensorflow.compat.v1 as tf\n",
        "tf.disable_v2_behavior()"
      ],
      "execution_count": 0,
      "outputs": [
        {
          "output_type": "stream",
          "text": [
            "WARNING:tensorflow:From /usr/local/lib/python3.6/dist-packages/tensorflow/python/compat/v2_compat.py:96: disable_resource_variables (from tensorflow.python.ops.variable_scope) is deprecated and will be removed in a future version.\n",
            "Instructions for updating:\n",
            "non-resource variables are not supported in the long term\n"
          ],
          "name": "stdout"
        }
      ]
    },
    {
      "cell_type": "code",
      "metadata": {
        "id": "fO9Jrn-mIeSb",
        "colab_type": "code",
        "colab": {}
      },
      "source": [
        "v1 = tf.constant([1,2,3,4])\n",
        "v2 = tf.constant([2,1,5,3])\n",
        "v_add = tf.add(v1,v2)"
      ],
      "execution_count": 0,
      "outputs": []
    },
    {
      "cell_type": "code",
      "metadata": {
        "id": "59Lah58LIp7R",
        "colab_type": "code",
        "outputId": "c4cbf91b-75c2-4f6b-8a0a-c68dd840e2f1",
        "colab": {
          "base_uri": "https://localhost:8080/",
          "height": 35
        }
      },
      "source": [
        "with tf.Session() as sess:\n",
        "  print(sess.run(v_add))"
      ],
      "execution_count": 0,
      "outputs": [
        {
          "output_type": "stream",
          "text": [
            "[3 3 8 7]\n"
          ],
          "name": "stdout"
        }
      ]
    },
    {
      "cell_type": "markdown",
      "metadata": {
        "id": "FRA_O1PfIvmD",
        "colab_type": "text"
      },
      "source": [
        "#tensorflow constants"
      ]
    },
    {
      "cell_type": "code",
      "metadata": {
        "id": "ItmvG3VPKTjM",
        "colab_type": "code",
        "colab": {}
      },
      "source": [
        "t1 = tf.constant([4])"
      ],
      "execution_count": 0,
      "outputs": []
    },
    {
      "cell_type": "code",
      "metadata": {
        "id": "kSmhA5DxKV_b",
        "colab_type": "code",
        "colab": {}
      },
      "source": [
        "t2 = tf.constant([2,3,4])"
      ],
      "execution_count": 0,
      "outputs": []
    },
    {
      "cell_type": "code",
      "metadata": {
        "id": "tGW6EASUKYlE",
        "colab_type": "code",
        "colab": {}
      },
      "source": [
        "zero_t = tf.zeros([2,3],dtype = tf.int32)"
      ],
      "execution_count": 0,
      "outputs": []
    },
    {
      "cell_type": "code",
      "metadata": {
        "id": "fEzojS8hKf9T",
        "colab_type": "code",
        "outputId": "3ba2ad64-c332-4f60-e39c-a681f7478be9",
        "colab": {
          "base_uri": "https://localhost:8080/",
          "height": 35
        }
      },
      "source": [
        "zero_t.shape"
      ],
      "execution_count": 0,
      "outputs": [
        {
          "output_type": "execute_result",
          "data": {
            "text/plain": [
              "TensorShape([Dimension(2), Dimension(3)])"
            ]
          },
          "metadata": {
            "tags": []
          },
          "execution_count": 11
        }
      ]
    },
    {
      "cell_type": "code",
      "metadata": {
        "id": "4mf2OzGyKhmC",
        "colab_type": "code",
        "outputId": "72b8216a-beb7-4434-d70f-bcc0dcfa1926",
        "colab": {
          "base_uri": "https://localhost:8080/",
          "height": 35
        }
      },
      "source": [
        "tf.zeros_like(t2)"
      ],
      "execution_count": 0,
      "outputs": [
        {
          "output_type": "execute_result",
          "data": {
            "text/plain": [
              "<tf.Tensor 'zeros_like:0' shape=(3,) dtype=int32>"
            ]
          },
          "metadata": {
            "tags": []
          },
          "execution_count": 12
        }
      ]
    },
    {
      "cell_type": "code",
      "metadata": {
        "id": "xvSOkBpXKmab",
        "colab_type": "code",
        "outputId": "50d6823c-cadb-4b05-c8cb-31059bdd4e97",
        "colab": {
          "base_uri": "https://localhost:8080/",
          "height": 35
        }
      },
      "source": [
        "tf.ones_like(t2)"
      ],
      "execution_count": 0,
      "outputs": [
        {
          "output_type": "execute_result",
          "data": {
            "text/plain": [
              "<tf.Tensor 'ones_like:0' shape=(3,) dtype=int32>"
            ]
          },
          "metadata": {
            "tags": []
          },
          "execution_count": 13
        }
      ]
    },
    {
      "cell_type": "code",
      "metadata": {
        "id": "PphixYnYKoFV",
        "colab_type": "code",
        "colab": {}
      },
      "source": [
        "one_t = tf.ones([2,3],dtype = tf.int32)"
      ],
      "execution_count": 0,
      "outputs": []
    },
    {
      "cell_type": "markdown",
      "metadata": {
        "id": "JXfjUU_FKs6k",
        "colab_type": "text"
      },
      "source": [
        "#tensorflow sequences"
      ]
    },
    {
      "cell_type": "code",
      "metadata": {
        "id": "broUi2a-Kwc3",
        "colab_type": "code",
        "colab": {}
      },
      "source": [
        "range_t = tf.linspace(2.0,5.0,5)"
      ],
      "execution_count": 0,
      "outputs": []
    },
    {
      "cell_type": "code",
      "metadata": {
        "id": "4gltNxkSi_F0",
        "colab_type": "code",
        "outputId": "1a153d68-218a-46aa-f061-e6da9f885314",
        "colab": {
          "base_uri": "https://localhost:8080/",
          "height": 35
        }
      },
      "source": [
        "range_t"
      ],
      "execution_count": 0,
      "outputs": [
        {
          "output_type": "execute_result",
          "data": {
            "text/plain": [
              "<tf.Tensor 'LinSpace:0' shape=(5,) dtype=float32>"
            ]
          },
          "metadata": {
            "tags": []
          },
          "execution_count": 16
        }
      ]
    },
    {
      "cell_type": "code",
      "metadata": {
        "id": "TOMuXFaHi_3L",
        "colab_type": "code",
        "outputId": "e62aa4d9-d981-4928-da90-e5fe01f2cbca",
        "colab": {
          "base_uri": "https://localhost:8080/",
          "height": 35
        }
      },
      "source": [
        "tf.range(10)"
      ],
      "execution_count": 0,
      "outputs": [
        {
          "output_type": "execute_result",
          "data": {
            "text/plain": [
              "<tf.Tensor 'range:0' shape=(10,) dtype=int32>"
            ]
          },
          "metadata": {
            "tags": []
          },
          "execution_count": 17
        }
      ]
    },
    {
      "cell_type": "markdown",
      "metadata": {
        "id": "-EIK1RZGjDyD",
        "colab_type": "text"
      },
      "source": [
        "#Random Sequences"
      ]
    },
    {
      "cell_type": "code",
      "metadata": {
        "id": "QD1A-PUrjHND",
        "colab_type": "code",
        "colab": {}
      },
      "source": [
        "t_random = tf.random_normal([2,3],mean = 2,stddev = 4,seed = 12)"
      ],
      "execution_count": 0,
      "outputs": []
    },
    {
      "cell_type": "code",
      "metadata": {
        "id": "qGPYxMdIjX0U",
        "colab_type": "code",
        "outputId": "b592095a-a6fd-4df5-a24e-e8bf837aba18",
        "colab": {
          "base_uri": "https://localhost:8080/",
          "height": 35
        }
      },
      "source": [
        "t_random"
      ],
      "execution_count": 0,
      "outputs": [
        {
          "output_type": "execute_result",
          "data": {
            "text/plain": [
              "<tf.Tensor 'random_normal:0' shape=(2, 3) dtype=float32>"
            ]
          },
          "metadata": {
            "tags": []
          },
          "execution_count": 19
        }
      ]
    },
    {
      "cell_type": "code",
      "metadata": {
        "id": "xdkn0CdNjYaY",
        "colab_type": "code",
        "colab": {}
      },
      "source": [
        "t_random = tf.truncated_normal([1,5],mean = 2,stddev = 4,seed = 12)"
      ],
      "execution_count": 0,
      "outputs": []
    },
    {
      "cell_type": "code",
      "metadata": {
        "id": "jyk3gczijmFU",
        "colab_type": "code",
        "outputId": "2f25721f-7eab-488a-cfd9-3817f77f121b",
        "colab": {
          "base_uri": "https://localhost:8080/",
          "height": 35
        }
      },
      "source": [
        "t_random"
      ],
      "execution_count": 0,
      "outputs": [
        {
          "output_type": "execute_result",
          "data": {
            "text/plain": [
              "<tf.Tensor 'truncated_normal:0' shape=(1, 5) dtype=float32>"
            ]
          },
          "metadata": {
            "tags": []
          },
          "execution_count": 21
        }
      ]
    },
    {
      "cell_type": "code",
      "metadata": {
        "id": "mx5ASHs5jm_m",
        "colab_type": "code",
        "colab": {}
      },
      "source": [
        "t_random = tf.random_uniform([2,3],maxval = 4,seed = 12)"
      ],
      "execution_count": 0,
      "outputs": []
    },
    {
      "cell_type": "code",
      "metadata": {
        "id": "YI_Ob-JSjyGb",
        "colab_type": "code",
        "outputId": "caf890c8-a253-4007-90b9-f1ed22021ca0",
        "colab": {
          "base_uri": "https://localhost:8080/",
          "height": 35
        }
      },
      "source": [
        "t_random"
      ],
      "execution_count": 0,
      "outputs": [
        {
          "output_type": "execute_result",
          "data": {
            "text/plain": [
              "<tf.Tensor 'random_uniform/Mul:0' shape=(2, 3) dtype=float32>"
            ]
          },
          "metadata": {
            "tags": []
          },
          "execution_count": 23
        }
      ]
    },
    {
      "cell_type": "code",
      "metadata": {
        "id": "Y3_44e4-jyls",
        "colab_type": "code",
        "outputId": "84b059d9-1e0b-453c-9c67-15fa4ee568c7",
        "colab": {
          "base_uri": "https://localhost:8080/",
          "height": 35
        }
      },
      "source": [
        "tf.random_crop(t_random,[2,5],seed = 12)"
      ],
      "execution_count": 0,
      "outputs": [
        {
          "output_type": "execute_result",
          "data": {
            "text/plain": [
              "<tf.Tensor 'random_crop:0' shape=(2, 5) dtype=float32>"
            ]
          },
          "metadata": {
            "tags": []
          },
          "execution_count": 25
        }
      ]
    },
    {
      "cell_type": "code",
      "metadata": {
        "id": "bewxV_VQj8zi",
        "colab_type": "code",
        "outputId": "2b98fa7d-1376-48b0-f8f7-b74cc77a4914",
        "colab": {
          "base_uri": "https://localhost:8080/",
          "height": 35
        }
      },
      "source": [
        "tf.random_shuffle(t_random)"
      ],
      "execution_count": 0,
      "outputs": [
        {
          "output_type": "execute_result",
          "data": {
            "text/plain": [
              "<tf.Tensor 'RandomShuffle:0' shape=(2, 3) dtype=float32>"
            ]
          },
          "metadata": {
            "tags": []
          },
          "execution_count": 26
        }
      ]
    },
    {
      "cell_type": "code",
      "metadata": {
        "id": "OPieNOJ7kEIQ",
        "colab_type": "code",
        "colab": {}
      },
      "source": [
        "tf.set_random_seed(54)"
      ],
      "execution_count": 0,
      "outputs": []
    },
    {
      "cell_type": "markdown",
      "metadata": {
        "id": "_vdkp--GkRLZ",
        "colab_type": "text"
      },
      "source": [
        "#variables"
      ]
    },
    {
      "cell_type": "code",
      "metadata": {
        "id": "zUcixkf8kTZ5",
        "colab_type": "code",
        "colab": {}
      },
      "source": [
        "t_rand = tf.random_uniform([50,50],0,10,seed = 12)\n",
        "t_a = tf.Variable(t_rand)\n",
        "t_b = tf.Variable(t_rand)"
      ],
      "execution_count": 0,
      "outputs": []
    },
    {
      "cell_type": "code",
      "metadata": {
        "id": "TMCTBbTekxs0",
        "colab_type": "code",
        "colab": {}
      },
      "source": [
        "weights = tf.Variable(tf.random_normal([100,100],stddev = 2))\n",
        "bias = tf.Variable(tf.zeros([100],name = 'biases'))"
      ],
      "execution_count": 0,
      "outputs": []
    },
    {
      "cell_type": "code",
      "metadata": {
        "id": "J1DIbJyHlHta",
        "colab_type": "code",
        "outputId": "5e65e739-9431-4559-a52d-82b380484fb5",
        "colab": {
          "base_uri": "https://localhost:8080/",
          "height": 92
        }
      },
      "source": [
        "weight2 = tf.Variable(weights.initialized_value(),name = 'w2')"
      ],
      "execution_count": 0,
      "outputs": [
        {
          "output_type": "stream",
          "text": [
            "WARNING:tensorflow:From <ipython-input-30-ad10f52994e5>:1: Variable.initialized_value (from tensorflow.python.ops.variables) is deprecated and will be removed in a future version.\n",
            "Instructions for updating:\n",
            "Use Variable.read_value. Variables in 2.X are initialized automatically both in eager and graph (inside tf.defun) contexts.\n"
          ],
          "name": "stdout"
        }
      ]
    },
    {
      "cell_type": "code",
      "metadata": {
        "id": "JKlAIUCklZRr",
        "colab_type": "code",
        "colab": {}
      },
      "source": [
        "initial_op = tf.global_variables_initializer()\n",
        "bias = tf.Variable(tf.zeros([100,100]))\n",
        "with tf.Session() as sess:\n",
        "  sess.run(bias.initializer)"
      ],
      "execution_count": 0,
      "outputs": []
    },
    {
      "cell_type": "code",
      "metadata": {
        "id": "1yTqtAJUl7rV",
        "colab_type": "code",
        "colab": {}
      },
      "source": [
        "saver = tf.train.Saver()"
      ],
      "execution_count": 0,
      "outputs": []
    },
    {
      "cell_type": "code",
      "metadata": {
        "id": "kGtzdOTmmFKV",
        "colab_type": "code",
        "outputId": "e0799fc9-c1a4-4d29-e052-ad444320cb3a",
        "colab": {
          "base_uri": "https://localhost:8080/",
          "height": 108
        }
      },
      "source": [
        "x = tf.placeholder('float')\n",
        "y = 2 * x\n",
        "data = tf.random_uniform([4,5],10)\n",
        "with tf.Session() as sess:\n",
        "  x_data = sess.run(data)\n",
        "  print(sess.run(t1))\n",
        "  print(sess.run(y,feed_dict = {x:x_data}))"
      ],
      "execution_count": 0,
      "outputs": [
        {
          "output_type": "stream",
          "text": [
            "[4]\n",
            "[[ 4.8085537  6.3119774 10.223864   8.42939   14.28741  ]\n",
            " [ 4.9629717 12.117883  12.301756   3.2272701  8.00914  ]\n",
            " [ 6.705183  13.243496   9.155466  16.986301  10.15469  ]\n",
            " [15.3249655  4.1175823 11.658148  11.398666   5.34706  ]]\n"
          ],
          "name": "stdout"
        }
      ]
    },
    {
      "cell_type": "markdown",
      "metadata": {
        "id": "4UeDy8Msmnhn",
        "colab_type": "text"
      },
      "source": [
        "#An example of tensorflow 1.x in tensorflow 2.x"
      ]
    },
    {
      "cell_type": "code",
      "metadata": {
        "id": "_jwpmupfu_pz",
        "colab_type": "code",
        "colab": {}
      },
      "source": [
        "in_a = tf.placeholder(dtype=tf.float32,shape = (2))\n",
        "def model(x):\n",
        "  with tf.varaible_scope('matmul'):\n",
        "    W = tf.get_variable(\"W\",initializer= tf.ones(shape = (2,2)))\n",
        "    b = tf.get_variable(\"b\",initializer = tf.ones(shape = (2)))\n",
        "  out_a = model(in_a)\n",
        "  with tf.Session() as sess:\n",
        "    sess.run(tf.global_variables_initializer())\n",
        "    outs = sess.run([out_a],feed_dict=[1,0])\n",
        "    writer = tf.summary.FileWriter(\"./logs/example\",sess.graph)\n",
        "    "
      ],
      "execution_count": 0,
      "outputs": []
    },
    {
      "cell_type": "code",
      "metadata": {
        "id": "RH23AVLewIQK",
        "colab_type": "code",
        "colab": {}
      },
      "source": [
        "!tensorboard --logdir ./logs/example"
      ],
      "execution_count": 0,
      "outputs": []
    }
  ]
}