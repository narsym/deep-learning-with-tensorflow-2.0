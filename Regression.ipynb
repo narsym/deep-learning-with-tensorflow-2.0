{
  "nbformat": 4,
  "nbformat_minor": 0,
  "metadata": {
    "colab": {
      "name": "Regression.ipynb",
      "provenance": [],
      "collapsed_sections": [],
      "authorship_tag": "ABX9TyPxrXIvwB0rQLKeItjoIzvT",
      "include_colab_link": true
    },
    "kernelspec": {
      "name": "python3",
      "display_name": "Python 3"
    }
  },
  "cells": [
    {
      "cell_type": "markdown",
      "metadata": {
        "id": "view-in-github",
        "colab_type": "text"
      },
      "source": [
        "<a href=\"https://colab.research.google.com/github/narsym/deep-learning-with-tensorflow-2.0/blob/master/Regression.ipynb\" target=\"_parent\"><img src=\"https://colab.research.google.com/assets/colab-badge.svg\" alt=\"Open In Colab\"/></a>"
      ]
    },
    {
      "cell_type": "markdown",
      "metadata": {
        "id": "zvR7ULhRhmJP",
        "colab_type": "text"
      },
      "source": [
        "#Simple regression example"
      ]
    },
    {
      "cell_type": "code",
      "metadata": {
        "id": "aRmwy0GPhaMW",
        "colab_type": "code",
        "colab": {}
      },
      "source": [
        "import numpy as np\n",
        "import matplotlib.pyplot as plt\n",
        "import pandas as pd"
      ],
      "execution_count": 0,
      "outputs": []
    },
    {
      "cell_type": "markdown",
      "metadata": {
        "id": "00uygWi4hj_z",
        "colab_type": "text"
      },
      "source": [
        "Generating data with linear relationship and noise"
      ]
    },
    {
      "cell_type": "code",
      "metadata": {
        "id": "CWxuFrsEhuu9",
        "colab_type": "code",
        "colab": {}
      },
      "source": [
        "np.random.seed(0)\n",
        "area = 2.5 * np.random.randn(100) + 25\n",
        "price = 25 * area + 5 + np.random.randint(20,50,size = len(area))"
      ],
      "execution_count": 0,
      "outputs": []
    },
    {
      "cell_type": "markdown",
      "metadata": {
        "id": "0sjQj0LniGxD",
        "colab_type": "text"
      },
      "source": [
        "Creating Data Frame"
      ]
    },
    {
      "cell_type": "code",
      "metadata": {
        "id": "n6QAUdejiOnX",
        "colab_type": "code",
        "colab": {}
      },
      "source": [
        "data = np.array(([area,price]))\n",
        "data = pd.DataFrame(data = data.T, columns = ['area','price'])"
      ],
      "execution_count": 0,
      "outputs": []
    },
    {
      "cell_type": "markdown",
      "metadata": {
        "id": "9W9OFg_Kiad8",
        "colab_type": "text"
      },
      "source": [
        "Plotting the data"
      ]
    },
    {
      "cell_type": "code",
      "metadata": {
        "id": "3vhpgrLHid2O",
        "colab_type": "code",
        "outputId": "16fd1f6c-1579-4d77-fa20-fcb30720111f",
        "colab": {
          "base_uri": "https://localhost:8080/",
          "height": 196
        }
      },
      "source": [
        "plt.scatter(data['area'],data['price'])\n",
        "plt.show()"
      ],
      "execution_count": 0,
      "outputs": [
        {
          "output_type": "display_data",
          "data": {
            "image/png": "[encoded data removed]",
            "text/plain": [
              "<Figure size 432x288 with 1 Axes>"
            ]
          },
          "metadata": {
            "tags": [],
            "needs_background": "light"
          }
        }
      ]
    },
    {
      "cell_type": "markdown",
      "metadata": {
        "id": "EWoZ2s91ikZm",
        "colab_type": "text"
      },
      "source": [
        "Calculate regression line using formula"
      ]
    },
    {
      "cell_type": "code",
      "metadata": {
        "id": "nzKFhNx0kBa4",
        "colab_type": "code",
        "outputId": "b52ae23e-1c35-40f0-cbb7-ae2921fb352b",
        "colab": {
          "base_uri": "https://localhost:8080/",
          "height": 54
        }
      },
      "source": [
        "W = sum(price * (area - np.mean(area))) / sum((area - np.mean(area))** 2)\n",
        "b = np.mean(price) - W * np.mean(area)\n",
        "print('The regression coefficients are:', W, b)"
      ],
      "execution_count": 0,
      "outputs": [
        {
          "output_type": "stream",
          "text": [
            "The regression coefficients are: 24.815544052284988 43.4989785533412\n"
          ],
          "name": "stdout"
        }
      ]
    },
    {
      "cell_type": "markdown",
      "metadata": {
        "id": "u05KPioUkjV3",
        "colab_type": "text"
      },
      "source": [
        "Let's predict the prices"
      ]
    },
    {
      "cell_type": "code",
      "metadata": {
        "id": "RZNeYQY-koHb",
        "colab_type": "code",
        "colab": {}
      },
      "source": [
        "y_pred = W * area + b"
      ],
      "execution_count": 0,
      "outputs": []
    },
    {
      "cell_type": "markdown",
      "metadata": {
        "id": "GIBtRXdrksOF",
        "colab_type": "text"
      },
      "source": [
        "Plot the predicted prices with the actual prices"
      ]
    },
    {
      "cell_type": "code",
      "metadata": {
        "id": "clChj9GMkznU",
        "colab_type": "code",
        "outputId": "07decae8-99bd-4c57-f5bf-bf1982644f43",
        "colab": {
          "base_uri": "https://localhost:8080/",
          "height": 199
        }
      },
      "source": [
        "plt.scatter(data['area'],data['price'],label = 'Training data')\n",
        "plt.scatter(area,y_pred,color = 'red',label = 'Predicted Price')\n",
        "plt.xlabel('Area')\n",
        "plt.ylabel('Price')\n",
        "plt.show()"
      ],
      "execution_count": 0,
      "outputs": [
        {
          "output_type": "display_data",
          "data": {
            "image/png": "[encoded data removed]",
            "text/plain": [
              "<Figure size 432x288 with 1 Axes>"
            ]
          },
          "metadata": {
            "tags": [],
            "needs_background": "light"
          }
        }
      ]
    },
    {
      "cell_type": "markdown",
      "metadata": {
        "id": "Vy7DmGorlH_Z",
        "colab_type": "text"
      },
      "source": [
        "#Tensorflow Estimators"
      ]
    },
    {
      "cell_type": "markdown",
      "metadata": {
        "id": "raNrh7gYnLCh",
        "colab_type": "text"
      },
      "source": [
        "**1.Feature columns**\n",
        "\n",
        "**2.Input functions**"
      ]
    },
    {
      "cell_type": "markdown",
      "metadata": {
        "id": "d8H2Qm2LnUa1",
        "colab_type": "text"
      },
      "source": [
        "**tf.feature_columns**\n",
        "\n",
        "* **categorical_column_with_identity**: Here each category is one-hot encoded, and thus has a unique identity. This can be used for numeric values only.\n",
        "\n",
        "* **categorical_column_with_vocabulary_file**: This is used when the categorical input is a string and the categories are given in a file. The string is first converted to a numeric value and then one-hot encoded.\n",
        "\n",
        "* **categorical_column_with_vocabulary_list**: This is used when the categorical input is a string and the categories are explicitly defined in a list. The string is first converted to a numeric value and then one-hot encoded.\n",
        "\n",
        "* **categorical_column_with_hash_bucket**: In case the number of categories is very large, and it is not possible to one-hot encode, we use hashing.\n",
        "\n",
        "* **crossed_column**: When we want to use two columns combined as one feature, for example, in the case of geolocation-based data it makes sense to combine longitude and latitude values as one feature.\n",
        "\n",
        "* numeric_column: Used when the feature is a numeric, it can be a single value or even a matrix.\n",
        "\n",
        "* **indicator_column**: We do not use this directly. Instead, it is used with the categorical column, but only when the number of categories is limited and can be represented as one-hot encoded.\n",
        "\n",
        "* **embedding_column**: We do not use this directly. Instead, it is used with the categorical column, but only when the number of categories is very large and cannot be represented as one-hot encoded.\n",
        "\n",
        "* bucketized_column: This is used when, instead of a specific numeric value, we split the data into different categories depending upon its value."
      ]
    },
    {
      "cell_type": "markdown",
      "metadata": {
        "id": "z7fccJ6vn8Pg",
        "colab_type": "text"
      },
      "source": [
        "**input functions**\n",
        "The data for training, evaluation, as well as prediction, needs to be made available through an input function. The input function returns a tf.data.Dataset object; the object returns a tuple containing features and labels"
      ]
    },
    {
      "cell_type": "markdown",
      "metadata": {
        "id": "f_H0EflrtBVX",
        "colab_type": "text"
      },
      "source": [
        "#Home price prediction using Tensorflow Estimators"
      ]
    },
    {
      "cell_type": "code",
      "metadata": {
        "id": "HX6bx8R57Z0p",
        "colab_type": "code",
        "colab": {}
      },
      "source": [
        "import tensorflow as tf\n",
        "from tensorflow import feature_column as fc\n",
        "numeric_column = fc.numeric_column\n",
        "categorical_column_with_vocabulary_list = fc.categorical_column_with_vocabulary_list"
      ],
      "execution_count": 0,
      "outputs": []
    },
    {
      "cell_type": "code",
      "metadata": {
        "id": "faZEen6V8Bza",
        "colab_type": "code",
        "colab": {}
      },
      "source": [
        "feat_cols = [\n",
        "             numeric_column('area'),categorical_column_with_vocabulary_list('type',['bungalow','apartment'])\n",
        "]"
      ],
      "execution_count": 0,
      "outputs": []
    },
    {
      "cell_type": "code",
      "metadata": {
        "id": "tBzCSPtu8tIz",
        "colab_type": "code",
        "colab": {}
      },
      "source": [
        "def train_input_fn():\n",
        "  features = {\n",
        "      'area':[1000,2000,4000,1000,2000,4000],\n",
        "      'type':[\"bungalow\",\"bungalow\",\"house\",\"apartment\",\"apartment\",\"apartment\"],\n",
        "  }\n",
        "  labels = [500 , 1000 , 1500 , 700 , 1300 , 1900]\n",
        "  return features,labels"
      ],
      "execution_count": 0,
      "outputs": []
    },
    {
      "cell_type": "code",
      "metadata": {
        "id": "kk149ELT9gIU",
        "colab_type": "code",
        "colab": {}
      },
      "source": [
        "model = tf.estimator.LinearRegressor(feat_cols)\n",
        "model.train(train_input_fn,steps = 200)"
      ],
      "execution_count": 0,
      "outputs": []
    },
    {
      "cell_type": "code",
      "metadata": {
        "id": "nItRGLjD-BNU",
        "colab_type": "code",
        "colab": {}
      },
      "source": [
        "def predict_input_fn():\n",
        "    features = {\"area\":[1500,1800],\n",
        "              \"type\":[\"house\",\"apartment\"]}\n",
        "    return features\n",
        "predictions = model.predict(predict_input_fn)"
      ],
      "execution_count": 0,
      "outputs": []
    },
    {
      "cell_type": "code",
      "metadata": {
        "id": "0XYJS73M-nD9",
        "colab_type": "code",
        "outputId": "a1b0480f-d507-4f0a-8de0-daffc04971ce",
        "colab": {
          "base_uri": "https://localhost:8080/",
          "height": 193
        }
      },
      "source": [
        "print(next(predictions))\n",
        "print(next(predictions))"
      ],
      "execution_count": 0,
      "outputs": [
        {
          "output_type": "stream",
          "text": [
            "WARNING:tensorflow:Input graph does not use tf.data.Dataset or contain a QueueRunner. That means predict yields forever. This is probably a mistake.\n",
            "INFO:tensorflow:Calling model_fn.\n",
            "INFO:tensorflow:Done calling model_fn.\n",
            "INFO:tensorflow:Graph was finalized.\n",
            "INFO:tensorflow:Restoring parameters from /tmp/tmpkhad3ogi/model.ckpt-200\n",
            "INFO:tensorflow:Running local_init_op.\n",
            "INFO:tensorflow:Done running local_init_op.\n",
            "{'predictions': array([692.7829], dtype=float32)}\n",
            "{'predictions': array([834.6093], dtype=float32)}\n"
          ],
          "name": "stdout"
        }
      ]
    },
    {
      "cell_type": "markdown",
      "metadata": {
        "id": "LD7fjHnl-r42",
        "colab_type": "text"
      },
      "source": [
        "#Boston House price prediction"
      ]
    },
    {
      "cell_type": "code",
      "metadata": {
        "id": "K1R0-1Vh_3M8",
        "colab_type": "code",
        "colab": {}
      },
      "source": [
        "from tensorflow.keras.datasets import boston_housing"
      ],
      "execution_count": 0,
      "outputs": []
    },
    {
      "cell_type": "code",
      "metadata": {
        "id": "SXKfpUCwAhc2",
        "colab_type": "code",
        "colab": {}
      },
      "source": [
        "(x_train,y_train), (x_test,y_test) = boston_housing.load_data()"
      ],
      "execution_count": 0,
      "outputs": []
    },
    {
      "cell_type": "code",
      "metadata": {
        "id": "mpcWMDntAq0B",
        "colab_type": "code",
        "outputId": "d886326d-07c6-4d91-e15f-d604d3c36031",
        "colab": {
          "base_uri": "https://localhost:8080/",
          "height": 226
        }
      },
      "source": [
        " \n",
        "features = ['CRIM', 'ZN', 'INDUS','CHAS','NOX','RM','AGE',\n",
        "            'DIS', 'RAD', 'TAX', 'PTRATIO', 'B', 'LSTAT']\n",
        " \n",
        "x_train_df = pd.DataFrame(x_train, columns= features)\n",
        "x_test_df = pd.DataFrame(x_test, columns= features)\n",
        "y_train_df = pd.DataFrame(y_train, columns=['MEDV'])\n",
        "y_test_df = pd.DataFrame(y_test, columns=['MEDV'])\n",
        "x_train_df.head()"
      ],
      "execution_count": 0,
      "outputs": [
        {
          "output_type": "execute_result",
          "data": {
            "text/html": [
              "<div>\n",
              "<style scoped>\n",
              "    .dataframe tbody tr th:only-of-type {\n",
              "        vertical-align: middle;\n",
              "    }\n",
              "\n",
              "    .dataframe tbody tr th {\n",
              "        vertical-align: top;\n",
              "    }\n",
              "\n",
              "    .dataframe thead th {\n",
              "        text-align: right;\n",
              "    }\n",
              "</style>\n",
              "<table border=\"1\" class=\"dataframe\">\n",
              "  <thead>\n",
              "    <tr style=\"text-align: right;\">\n",
              "      <th></th>\n",
              "      <th>CRIM</th>\n",
              "      <th>ZN</th>\n",
              "      <th>INDUS</th>\n",
              "      <th>CHAS</th>\n",
              "      <th>NOX</th>\n",
              "      <th>RM</th>\n",
              "      <th>AGE</th>\n",
              "      <th>DIS</th>\n",
              "      <th>RAD</th>\n",
              "      <th>TAX</th>\n",
              "      <th>PTRATIO</th>\n",
              "      <th>B</th>\n",
              "      <th>LSTAT</th>\n",
              "    </tr>\n",
              "  </thead>\n",
              "  <tbody>\n",
              "    <tr>\n",
              "      <th>0</th>\n",
              "      <td>1.23247</td>\n",
              "      <td>0.0</td>\n",
              "      <td>8.14</td>\n",
              "      <td>0.0</td>\n",
              "      <td>0.538</td>\n",
              "      <td>6.142</td>\n",
              "      <td>91.7</td>\n",
              "      <td>3.9769</td>\n",
              "      <td>4.0</td>\n",
              "      <td>307.0</td>\n",
              "      <td>21.0</td>\n",
              "      <td>396.90</td>\n",
              "      <td>18.72</td>\n",
              "    </tr>\n",
              "    <tr>\n",
              "      <th>1</th>\n",
              "      <td>0.02177</td>\n",
              "      <td>82.5</td>\n",
              "      <td>2.03</td>\n",
              "      <td>0.0</td>\n",
              "      <td>0.415</td>\n",
              "      <td>7.610</td>\n",
              "      <td>15.7</td>\n",
              "      <td>6.2700</td>\n",
              "      <td>2.0</td>\n",
              "      <td>348.0</td>\n",
              "      <td>14.7</td>\n",
              "      <td>395.38</td>\n",
              "      <td>3.11</td>\n",
              "    </tr>\n",
              "    <tr>\n",
              "      <th>2</th>\n",
              "      <td>4.89822</td>\n",
              "      <td>0.0</td>\n",
              "      <td>18.10</td>\n",
              "      <td>0.0</td>\n",
              "      <td>0.631</td>\n",
              "      <td>4.970</td>\n",
              "      <td>100.0</td>\n",
              "      <td>1.3325</td>\n",
              "      <td>24.0</td>\n",
              "      <td>666.0</td>\n",
              "      <td>20.2</td>\n",
              "      <td>375.52</td>\n",
              "      <td>3.26</td>\n",
              "    </tr>\n",
              "    <tr>\n",
              "      <th>3</th>\n",
              "      <td>0.03961</td>\n",
              "      <td>0.0</td>\n",
              "      <td>5.19</td>\n",
              "      <td>0.0</td>\n",
              "      <td>0.515</td>\n",
              "      <td>6.037</td>\n",
              "      <td>34.5</td>\n",
              "      <td>5.9853</td>\n",
              "      <td>5.0</td>\n",
              "      <td>224.0</td>\n",
              "      <td>20.2</td>\n",
              "      <td>396.90</td>\n",
              "      <td>8.01</td>\n",
              "    </tr>\n",
              "    <tr>\n",
              "      <th>4</th>\n",
              "      <td>3.69311</td>\n",
              "      <td>0.0</td>\n",
              "      <td>18.10</td>\n",
              "      <td>0.0</td>\n",
              "      <td>0.713</td>\n",
              "      <td>6.376</td>\n",
              "      <td>88.4</td>\n",
              "      <td>2.5671</td>\n",
              "      <td>24.0</td>\n",
              "      <td>666.0</td>\n",
              "      <td>20.2</td>\n",
              "      <td>391.43</td>\n",
              "      <td>14.65</td>\n",
              "    </tr>\n",
              "  </tbody>\n",
              "</table>\n",
              "</div>"
            ],
            "text/plain": [
              "      CRIM    ZN  INDUS  CHAS    NOX  ...   RAD    TAX  PTRATIO       B  LSTAT\n",
              "0  1.23247   0.0   8.14   0.0  0.538  ...   4.0  307.0     21.0  396.90  18.72\n",
              "1  0.02177  82.5   2.03   0.0  0.415  ...   2.0  348.0     14.7  395.38   3.11\n",
              "2  4.89822   0.0  18.10   0.0  0.631  ...  24.0  666.0     20.2  375.52   3.26\n",
              "3  0.03961   0.0   5.19   0.0  0.515  ...   5.0  224.0     20.2  396.90   8.01\n",
              "4  3.69311   0.0  18.10   0.0  0.713  ...  24.0  666.0     20.2  391.43  14.65\n",
              "\n",
              "[5 rows x 13 columns]"
            ]
          },
          "metadata": {
            "tags": []
          },
          "execution_count": 71
        }
      ]
    },
    {
      "cell_type": "code",
      "metadata": {
        "id": "w4rlPNyUBQ9E",
        "colab_type": "code",
        "outputId": "710ccf04-ccbd-4cb2-c52f-9f381ea8c019",
        "colab": {
          "base_uri": "https://localhost:8080/",
          "height": 54
        }
      },
      "source": [
        "feature_columns = []\n",
        "for feature_name in features:\n",
        "    feature_columns.append(fc.numeric_column(feature_name, dtype=tf.float32))\n",
        " \n",
        "print(feature_columns)"
      ],
      "execution_count": 0,
      "outputs": [
        {
          "output_type": "stream",
          "text": [
            "[NumericColumn(key='CRIM', shape=(1,), default_value=None, dtype=tf.float32, normalizer_fn=None), NumericColumn(key='ZN', shape=(1,), default_value=None, dtype=tf.float32, normalizer_fn=None), NumericColumn(key='INDUS', shape=(1,), default_value=None, dtype=tf.float32, normalizer_fn=None), NumericColumn(key='CHAS', shape=(1,), default_value=None, dtype=tf.float32, normalizer_fn=None), NumericColumn(key='NOX', shape=(1,), default_value=None, dtype=tf.float32, normalizer_fn=None), NumericColumn(key='RM', shape=(1,), default_value=None, dtype=tf.float32, normalizer_fn=None), NumericColumn(key='AGE', shape=(1,), default_value=None, dtype=tf.float32, normalizer_fn=None), NumericColumn(key='DIS', shape=(1,), default_value=None, dtype=tf.float32, normalizer_fn=None), NumericColumn(key='RAD', shape=(1,), default_value=None, dtype=tf.float32, normalizer_fn=None), NumericColumn(key='TAX', shape=(1,), default_value=None, dtype=tf.float32, normalizer_fn=None), NumericColumn(key='PTRATIO', shape=(1,), default_value=None, dtype=tf.float32, normalizer_fn=None), NumericColumn(key='B', shape=(1,), default_value=None, dtype=tf.float32, normalizer_fn=None), NumericColumn(key='LSTAT', shape=(1,), default_value=None, dtype=tf.float32, normalizer_fn=None)]\n"
          ],
          "name": "stdout"
        }
      ]
    },
    {
      "cell_type": "code",
      "metadata": {
        "id": "jIxUD-nHBz6k",
        "colab_type": "code",
        "colab": {}
      },
      "source": [
        "def estimator_input_fn(df_data, df_label, epochs=20, shuffle=True, batch_size=64):\n",
        "    def input_function():\n",
        "        ds = tf.data.Dataset.from_tensor_slices((dict(df_data), df_label))\n",
        "        if shuffle:\n",
        "            ds = ds.shuffle(100)\n",
        "        ds = ds.batch(batch_size).repeat(epochs)\n",
        "        return ds\n",
        "    return input_function\n",
        " \n",
        "train_input_fn = estimator_input_fn(x_train_df, y_train_df)\n",
        "val_input_fn = estimator_input_fn(x_test_df, y_test_df, epochs=1, shuffle=False)"
      ],
      "execution_count": 0,
      "outputs": []
    },
    {
      "cell_type": "code",
      "metadata": {
        "id": "Lm2Ct8F3DMlu",
        "colab_type": "code",
        "colab": {}
      },
      "source": [
        "linear_est = tf.estimator.LinearRegressor(feature_columns=feature_columns, model_dir = 'logs/func/')\n",
        "linear_est.train(train_input_fn, steps=100)\n",
        "result = linear_est.evaluate(val_input_fn)\n",
        "print(result)"
      ],
      "execution_count": 0,
      "outputs": []
    },
    {
      "cell_type": "code",
      "metadata": {
        "id": "2vltsjYfDldH",
        "colab_type": "code",
        "colab": {}
      },
      "source": [
        "result = linear_est.predict(val_input_fn)"
      ],
      "execution_count": 0,
      "outputs": []
    },
    {
      "cell_type": "code",
      "metadata": {
        "id": "LhuW3FoNFD6k",
        "colab_type": "code",
        "outputId": "d5bc1d3b-2b3e-43f1-967f-c9e51637d264",
        "colab": {
          "base_uri": "https://localhost:8080/",
          "height": 799
        }
      },
      "source": [
        "for pred,exp in zip(result, y_test[:32]):\n",
        "    print(\"Predicted Value: \", pred['predictions'][0], \"Expected: \", exp)"
      ],
      "execution_count": 0,
      "outputs": [
        {
          "output_type": "stream",
          "text": [
            "INFO:tensorflow:Calling model_fn.\n",
            "WARNING:tensorflow:Layer linear/linear_model is casting an input tensor from dtype float64 to the layer's dtype of float32, which is new behavior in TensorFlow 2.  The layer has dtype float32 because it's dtype defaults to floatx.\n",
            "\n",
            "If you intended to run this layer in float32, you can safely ignore this warning. If in doubt, this warning is likely only an issue if you are porting a TensorFlow 1.X model to TensorFlow 2.\n",
            "\n",
            "To change all layers to have dtype float64 by default, call `tf.keras.backend.set_floatx('float64')`. To change just this layer, pass dtype='float64' to the layer constructor. If you are the author of this layer, you can disable autocasting by passing autocast=False to the base Layer constructor.\n",
            "\n",
            "INFO:tensorflow:Done calling model_fn.\n",
            "INFO:tensorflow:Graph was finalized.\n",
            "INFO:tensorflow:Restoring parameters from logs/func/model.ckpt-200\n",
            "INFO:tensorflow:Running local_init_op.\n",
            "INFO:tensorflow:Done running local_init_op.\n",
            "Predicted Value:  3.7023149 Expected:  7.2\n",
            "Predicted Value:  23.445196 Expected:  18.8\n",
            "Predicted Value:  21.667759 Expected:  19.0\n",
            "Predicted Value:  24.757256 Expected:  27.0\n",
            "Predicted Value:  22.706882 Expected:  22.2\n",
            "Predicted Value:  20.994888 Expected:  24.5\n",
            "Predicted Value:  29.774565 Expected:  31.2\n",
            "Predicted Value:  25.631086 Expected:  22.9\n",
            "Predicted Value:  19.715033 Expected:  20.5\n",
            "Predicted Value:  24.107506 Expected:  23.2\n",
            "Predicted Value:  11.12782 Expected:  18.6\n",
            "Predicted Value:  23.519554 Expected:  14.5\n",
            "Predicted Value:  22.769955 Expected:  17.8\n",
            "Predicted Value:  23.714422 Expected:  50.0\n",
            "Predicted Value:  19.22548 Expected:  20.8\n",
            "Predicted Value:  24.456173 Expected:  24.3\n",
            "Predicted Value:  19.919786 Expected:  24.2\n",
            "Predicted Value:  21.253008 Expected:  19.8\n",
            "Predicted Value:  23.84998 Expected:  19.1\n",
            "Predicted Value:  26.797113 Expected:  22.7\n",
            "Predicted Value:  18.491837 Expected:  12.0\n",
            "Predicted Value:  5.7811756 Expected:  10.2\n",
            "Predicted Value:  21.476254 Expected:  20.0\n",
            "Predicted Value:  23.678728 Expected:  18.5\n",
            "Predicted Value:  30.565845 Expected:  20.9\n",
            "Predicted Value:  24.371126 Expected:  23.0\n",
            "Predicted Value:  25.27057 Expected:  27.5\n",
            "Predicted Value:  33.544857 Expected:  30.1\n",
            "Predicted Value:  7.5649743 Expected:  9.5\n",
            "Predicted Value:  22.940079 Expected:  22.0\n",
            "Predicted Value:  23.458868 Expected:  21.2\n",
            "Predicted Value:  9.702703 Expected:  14.1\n"
          ],
          "name": "stdout"
        }
      ]
    },
    {
      "cell_type": "code",
      "metadata": {
        "id": "hE7NmPZZFIIu",
        "colab_type": "code",
        "outputId": "ba7df340-6bb4-4cfe-cf52-21cb7340488e",
        "colab": {
          "base_uri": "https://localhost:8080/",
          "height": 35
        }
      },
      "source": [
        "%tensorboard --logdir logs/func"
      ],
      "execution_count": 0,
      "outputs": [
        {
          "output_type": "stream",
          "text": [
            "UsageError: Line magic function `%tensorboard` not found.\n"
          ],
          "name": "stderr"
        }
      ]
    },
    {
      "cell_type": "code",
      "metadata": {
        "id": "q1v7pIhHFLqp",
        "colab_type": "code",
        "colab": {}
      },
      "source": [
        ""
      ],
      "execution_count": 0,
      "outputs": []
    }
  ]
}