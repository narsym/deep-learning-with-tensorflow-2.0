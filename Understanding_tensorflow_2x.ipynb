{
  "nbformat": 4,
  "nbformat_minor": 0,
  "metadata": {
    "colab": {
      "name": "Understanding tensorflow 2x.ipynb",
      "provenance": [],
      "collapsed_sections": [],
      "authorship_tag": "ABX9TyPJexEb4N8HMdI5h2d+pIY3",
      "include_colab_link": true
    },
    "kernelspec": {
      "name": "python3",
      "display_name": "Python 3"
    },
    "widgets": {
      "application/vnd.jupyter.widget-state+json": {
        "51b82a18598b4ef19127d5a03565b71f": {
          "model_module": "@jupyter-widgets/controls",
          "model_name": "HBoxModel",
          "state": {
            "_view_name": "HBoxView",
            "_dom_classes": [],
            "_model_name": "HBoxModel",
            "_view_module": "@jupyter-widgets/controls",
            "_model_module_version": "1.5.0",
            "_view_count": null,
            "_view_module_version": "1.5.0",
            "box_style": "",
            "layout": "IPY_MODEL_56c2d815f7df4e69918ff1e5deec197e",
            "_model_module": "@jupyter-widgets/controls",
            "children": [
              "IPY_MODEL_ac8cf24377714ae3ae62bf386f358bdd",
              "IPY_MODEL_f7fe3d22ec8a43a380650a212a29da00"
            ]
          }
        },
        "56c2d815f7df4e69918ff1e5deec197e": {
          "model_module": "@jupyter-widgets/base",
          "model_name": "LayoutModel",
          "state": {
            "_view_name": "LayoutView",
            "grid_template_rows": null,
            "right": null,
            "justify_content": null,
            "_view_module": "@jupyter-widgets/base",
            "overflow": null,
            "_model_module_version": "1.2.0",
            "_view_count": null,
            "flex_flow": null,
            "width": null,
            "min_width": null,
            "border": null,
            "align_items": null,
            "bottom": null,
            "_model_module": "@jupyter-widgets/base",
            "top": null,
            "grid_column": null,
            "overflow_y": null,
            "overflow_x": null,
            "grid_auto_flow": null,
            "grid_area": null,
            "grid_template_columns": null,
            "flex": null,
            "_model_name": "LayoutModel",
            "justify_items": null,
            "grid_row": null,
            "max_height": null,
            "align_content": null,
            "visibility": null,
            "align_self": null,
            "height": null,
            "min_height": null,
            "padding": null,
            "grid_auto_rows": null,
            "grid_gap": null,
            "max_width": null,
            "order": null,
            "_view_module_version": "1.2.0",
            "grid_template_areas": null,
            "object_position": null,
            "object_fit": null,
            "grid_auto_columns": null,
            "margin": null,
            "display": null,
            "left": null
          }
        },
        "ac8cf24377714ae3ae62bf386f358bdd": {
          "model_module": "@jupyter-widgets/controls",
          "model_name": "FloatProgressModel",
          "state": {
            "_view_name": "ProgressView",
            "style": "IPY_MODEL_5e65d97bd6244cc8a6af2275b0ee51ce",
            "_dom_classes": [],
            "description": "Dl Completed...: 100%",
            "_model_name": "FloatProgressModel",
            "bar_style": "success",
            "max": 1,
            "_view_module": "@jupyter-widgets/controls",
            "_model_module_version": "1.5.0",
            "value": 1,
            "_view_count": null,
            "_view_module_version": "1.5.0",
            "orientation": "horizontal",
            "min": 0,
            "description_tooltip": null,
            "_model_module": "@jupyter-widgets/controls",
            "layout": "IPY_MODEL_ce87ecb71ad54f55a8d17fff8bb7ec8b"
          }
        },
        "f7fe3d22ec8a43a380650a212a29da00": {
          "model_module": "@jupyter-widgets/controls",
          "model_name": "HTMLModel",
          "state": {
            "_view_name": "HTMLView",
            "style": "IPY_MODEL_5e2030e650964e8bbce729eb2240974e",
            "_dom_classes": [],
            "description": "",
            "_model_name": "HTMLModel",
            "placeholder": "​",
            "_view_module": "@jupyter-widgets/controls",
            "_model_module_version": "1.5.0",
            "value": " 1/1 [00:07&lt;00:00,  7.91s/ url]",
            "_view_count": null,
            "_view_module_version": "1.5.0",
            "description_tooltip": null,
            "_model_module": "@jupyter-widgets/controls",
            "layout": "IPY_MODEL_128554c9102f4522b74925f6caa7d54c"
          }
        },
        "5e65d97bd6244cc8a6af2275b0ee51ce": {
          "model_module": "@jupyter-widgets/controls",
          "model_name": "ProgressStyleModel",
          "state": {
            "_view_name": "StyleView",
            "_model_name": "ProgressStyleModel",
            "description_width": "initial",
            "_view_module": "@jupyter-widgets/base",
            "_model_module_version": "1.5.0",
            "_view_count": null,
            "_view_module_version": "1.2.0",
            "bar_color": null,
            "_model_module": "@jupyter-widgets/controls"
          }
        },
        "ce87ecb71ad54f55a8d17fff8bb7ec8b": {
          "model_module": "@jupyter-widgets/base",
          "model_name": "LayoutModel",
          "state": {
            "_view_name": "LayoutView",
            "grid_template_rows": null,
            "right": null,
            "justify_content": null,
            "_view_module": "@jupyter-widgets/base",
            "overflow": null,
            "_model_module_version": "1.2.0",
            "_view_count": null,
            "flex_flow": null,
            "width": null,
            "min_width": null,
            "border": null,
            "align_items": null,
            "bottom": null,
            "_model_module": "@jupyter-widgets/base",
            "top": null,
            "grid_column": null,
            "overflow_y": null,
            "overflow_x": null,
            "grid_auto_flow": null,
            "grid_area": null,
            "grid_template_columns": null,
            "flex": null,
            "_model_name": "LayoutModel",
            "justify_items": null,
            "grid_row": null,
            "max_height": null,
            "align_content": null,
            "visibility": null,
            "align_self": null,
            "height": null,
            "min_height": null,
            "padding": null,
            "grid_auto_rows": null,
            "grid_gap": null,
            "max_width": null,
            "order": null,
            "_view_module_version": "1.2.0",
            "grid_template_areas": null,
            "object_position": null,
            "object_fit": null,
            "grid_auto_columns": null,
            "margin": null,
            "display": null,
            "left": null
          }
        },
        "5e2030e650964e8bbce729eb2240974e": {
          "model_module": "@jupyter-widgets/controls",
          "model_name": "DescriptionStyleModel",
          "state": {
            "_view_name": "StyleView",
            "_model_name": "DescriptionStyleModel",
            "description_width": "",
            "_view_module": "@jupyter-widgets/base",
            "_model_module_version": "1.5.0",
            "_view_count": null,
            "_view_module_version": "1.2.0",
            "_model_module": "@jupyter-widgets/controls"
          }
        },
        "128554c9102f4522b74925f6caa7d54c": {
          "model_module": "@jupyter-widgets/base",
          "model_name": "LayoutModel",
          "state": {
            "_view_name": "LayoutView",
            "grid_template_rows": null,
            "right": null,
            "justify_content": null,
            "_view_module": "@jupyter-widgets/base",
            "overflow": null,
            "_model_module_version": "1.2.0",
            "_view_count": null,
            "flex_flow": null,
            "width": null,
            "min_width": null,
            "border": null,
            "align_items": null,
            "bottom": null,
            "_model_module": "@jupyter-widgets/base",
            "top": null,
            "grid_column": null,
            "overflow_y": null,
            "overflow_x": null,
            "grid_auto_flow": null,
            "grid_area": null,
            "grid_template_columns": null,
            "flex": null,
            "_model_name": "LayoutModel",
            "justify_items": null,
            "grid_row": null,
            "max_height": null,
            "align_content": null,
            "visibility": null,
            "align_self": null,
            "height": null,
            "min_height": null,
            "padding": null,
            "grid_auto_rows": null,
            "grid_gap": null,
            "max_width": null,
            "order": null,
            "_view_module_version": "1.2.0",
            "grid_template_areas": null,
            "object_position": null,
            "object_fit": null,
            "grid_auto_columns": null,
            "margin": null,
            "display": null,
            "left": null
          }
        },
        "9ecbc68c9d3e473a935cda573fcf8511": {
          "model_module": "@jupyter-widgets/controls",
          "model_name": "HBoxModel",
          "state": {
            "_view_name": "HBoxView",
            "_dom_classes": [],
            "_model_name": "HBoxModel",
            "_view_module": "@jupyter-widgets/controls",
            "_model_module_version": "1.5.0",
            "_view_count": null,
            "_view_module_version": "1.5.0",
            "box_style": "",
            "layout": "IPY_MODEL_92ea93c3ce7247f0ae2a5d9538b077a2",
            "_model_module": "@jupyter-widgets/controls",
            "children": [
              "IPY_MODEL_74da8ee59bf94663ac0d76398d21a5dd",
              "IPY_MODEL_0a3041a0ed1441daa97b65f369dcd0fb"
            ]
          }
        },
        "92ea93c3ce7247f0ae2a5d9538b077a2": {
          "model_module": "@jupyter-widgets/base",
          "model_name": "LayoutModel",
          "state": {
            "_view_name": "LayoutView",
            "grid_template_rows": null,
            "right": null,
            "justify_content": null,
            "_view_module": "@jupyter-widgets/base",
            "overflow": null,
            "_model_module_version": "1.2.0",
            "_view_count": null,
            "flex_flow": null,
            "width": null,
            "min_width": null,
            "border": null,
            "align_items": null,
            "bottom": null,
            "_model_module": "@jupyter-widgets/base",
            "top": null,
            "grid_column": null,
            "overflow_y": null,
            "overflow_x": null,
            "grid_auto_flow": null,
            "grid_area": null,
            "grid_template_columns": null,
            "flex": null,
            "_model_name": "LayoutModel",
            "justify_items": null,
            "grid_row": null,
            "max_height": null,
            "align_content": null,
            "visibility": null,
            "align_self": null,
            "height": null,
            "min_height": null,
            "padding": null,
            "grid_auto_rows": null,
            "grid_gap": null,
            "max_width": null,
            "order": null,
            "_view_module_version": "1.2.0",
            "grid_template_areas": null,
            "object_position": null,
            "object_fit": null,
            "grid_auto_columns": null,
            "margin": null,
            "display": null,
            "left": null
          }
        },
        "74da8ee59bf94663ac0d76398d21a5dd": {
          "model_module": "@jupyter-widgets/controls",
          "model_name": "FloatProgressModel",
          "state": {
            "_view_name": "ProgressView",
            "style": "IPY_MODEL_1b40228df53c4a03a88b406921b9af74",
            "_dom_classes": [],
            "description": "Dl Size...: 100%",
            "_model_name": "FloatProgressModel",
            "bar_style": "success",
            "max": 1,
            "_view_module": "@jupyter-widgets/controls",
            "_model_module_version": "1.5.0",
            "value": 1,
            "_view_count": null,
            "_view_module_version": "1.5.0",
            "orientation": "horizontal",
            "min": 0,
            "description_tooltip": null,
            "_model_module": "@jupyter-widgets/controls",
            "layout": "IPY_MODEL_28ebc5a6d8d949f3b13325c7cd993879"
          }
        },
        "0a3041a0ed1441daa97b65f369dcd0fb": {
          "model_module": "@jupyter-widgets/controls",
          "model_name": "HTMLModel",
          "state": {
            "_view_name": "HTMLView",
            "style": "IPY_MODEL_18daf6d726cb4ff8b294ba25567c742f",
            "_dom_classes": [],
            "description": "",
            "_model_name": "HTMLModel",
            "placeholder": "​",
            "_view_module": "@jupyter-widgets/controls",
            "_model_module_version": "1.5.0",
            "value": " 80/80 [00:07&lt;00:00, 10.14 MiB/s]",
            "_view_count": null,
            "_view_module_version": "1.5.0",
            "description_tooltip": null,
            "_model_module": "@jupyter-widgets/controls",
            "layout": "IPY_MODEL_7d7bf8b6701644aeb6134a991b183958"
          }
        },
        "1b40228df53c4a03a88b406921b9af74": {
          "model_module": "@jupyter-widgets/controls",
          "model_name": "ProgressStyleModel",
          "state": {
            "_view_name": "StyleView",
            "_model_name": "ProgressStyleModel",
            "description_width": "initial",
            "_view_module": "@jupyter-widgets/base",
            "_model_module_version": "1.5.0",
            "_view_count": null,
            "_view_module_version": "1.2.0",
            "bar_color": null,
            "_model_module": "@jupyter-widgets/controls"
          }
        },
        "28ebc5a6d8d949f3b13325c7cd993879": {
          "model_module": "@jupyter-widgets/base",
          "model_name": "LayoutModel",
          "state": {
            "_view_name": "LayoutView",
            "grid_template_rows": null,
            "right": null,
            "justify_content": null,
            "_view_module": "@jupyter-widgets/base",
            "overflow": null,
            "_model_module_version": "1.2.0",
            "_view_count": null,
            "flex_flow": null,
            "width": null,
            "min_width": null,
            "border": null,
            "align_items": null,
            "bottom": null,
            "_model_module": "@jupyter-widgets/base",
            "top": null,
            "grid_column": null,
            "overflow_y": null,
            "overflow_x": null,
            "grid_auto_flow": null,
            "grid_area": null,
            "grid_template_columns": null,
            "flex": null,
            "_model_name": "LayoutModel",
            "justify_items": null,
            "grid_row": null,
            "max_height": null,
            "align_content": null,
            "visibility": null,
            "align_self": null,
            "height": null,
            "min_height": null,
            "padding": null,
            "grid_auto_rows": null,
            "grid_gap": null,
            "max_width": null,
            "order": null,
            "_view_module_version": "1.2.0",
            "grid_template_areas": null,
            "object_position": null,
            "object_fit": null,
            "grid_auto_columns": null,
            "margin": null,
            "display": null,
            "left": null
          }
        },
        "18daf6d726cb4ff8b294ba25567c742f": {
          "model_module": "@jupyter-widgets/controls",
          "model_name": "DescriptionStyleModel",
          "state": {
            "_view_name": "StyleView",
            "_model_name": "DescriptionStyleModel",
            "description_width": "",
            "_view_module": "@jupyter-widgets/base",
            "_model_module_version": "1.5.0",
            "_view_count": null,
            "_view_module_version": "1.2.0",
            "_model_module": "@jupyter-widgets/controls"
          }
        },
        "7d7bf8b6701644aeb6134a991b183958": {
          "model_module": "@jupyter-widgets/base",
          "model_name": "LayoutModel",
          "state": {
            "_view_name": "LayoutView",
            "grid_template_rows": null,
            "right": null,
            "justify_content": null,
            "_view_module": "@jupyter-widgets/base",
            "overflow": null,
            "_model_module_version": "1.2.0",
            "_view_count": null,
            "flex_flow": null,
            "width": null,
            "min_width": null,
            "border": null,
            "align_items": null,
            "bottom": null,
            "_model_module": "@jupyter-widgets/base",
            "top": null,
            "grid_column": null,
            "overflow_y": null,
            "overflow_x": null,
            "grid_auto_flow": null,
            "grid_area": null,
            "grid_template_columns": null,
            "flex": null,
            "_model_name": "LayoutModel",
            "justify_items": null,
            "grid_row": null,
            "max_height": null,
            "align_content": null,
            "visibility": null,
            "align_self": null,
            "height": null,
            "min_height": null,
            "padding": null,
            "grid_auto_rows": null,
            "grid_gap": null,
            "max_width": null,
            "order": null,
            "_view_module_version": "1.2.0",
            "grid_template_areas": null,
            "object_position": null,
            "object_fit": null,
            "grid_auto_columns": null,
            "margin": null,
            "display": null,
            "left": null
          }
        },
        "62b75599433246aa8a4d3e86f36e634d": {
          "model_module": "@jupyter-widgets/controls",
          "model_name": "HBoxModel",
          "state": {
            "_view_name": "HBoxView",
            "_dom_classes": [],
            "_model_name": "HBoxModel",
            "_view_module": "@jupyter-widgets/controls",
            "_model_module_version": "1.5.0",
            "_view_count": null,
            "_view_module_version": "1.5.0",
            "box_style": "",
            "layout": "IPY_MODEL_0623cd7438554f1788b85f73eaccf836",
            "_model_module": "@jupyter-widgets/controls",
            "children": [
              "IPY_MODEL_75e87dbf97654c4fb4d20566b6a7283f",
              "IPY_MODEL_548ad0d4bd704cb783c3a5dbce5c8104"
            ]
          }
        },
        "0623cd7438554f1788b85f73eaccf836": {
          "model_module": "@jupyter-widgets/base",
          "model_name": "LayoutModel",
          "state": {
            "_view_name": "LayoutView",
            "grid_template_rows": null,
            "right": null,
            "justify_content": null,
            "_view_module": "@jupyter-widgets/base",
            "overflow": null,
            "_model_module_version": "1.2.0",
            "_view_count": null,
            "flex_flow": null,
            "width": null,
            "min_width": null,
            "border": null,
            "align_items": null,
            "bottom": null,
            "_model_module": "@jupyter-widgets/base",
            "top": null,
            "grid_column": null,
            "overflow_y": null,
            "overflow_x": null,
            "grid_auto_flow": null,
            "grid_area": null,
            "grid_template_columns": null,
            "flex": null,
            "_model_name": "LayoutModel",
            "justify_items": null,
            "grid_row": null,
            "max_height": null,
            "align_content": null,
            "visibility": null,
            "align_self": null,
            "height": null,
            "min_height": null,
            "padding": null,
            "grid_auto_rows": null,
            "grid_gap": null,
            "max_width": null,
            "order": null,
            "_view_module_version": "1.2.0",
            "grid_template_areas": null,
            "object_position": null,
            "object_fit": null,
            "grid_auto_columns": null,
            "margin": null,
            "display": null,
            "left": null
          }
        },
        "75e87dbf97654c4fb4d20566b6a7283f": {
          "model_module": "@jupyter-widgets/controls",
          "model_name": "FloatProgressModel",
          "state": {
            "_view_name": "ProgressView",
            "style": "IPY_MODEL_a2b6eacc6b9b482eaff51c7adcf24fdf",
            "_dom_classes": [],
            "description": "",
            "_model_name": "FloatProgressModel",
            "bar_style": "info",
            "max": 1,
            "_view_module": "@jupyter-widgets/controls",
            "_model_module_version": "1.5.0",
            "value": 1,
            "_view_count": null,
            "_view_module_version": "1.5.0",
            "orientation": "horizontal",
            "min": 0,
            "description_tooltip": null,
            "_model_module": "@jupyter-widgets/controls",
            "layout": "IPY_MODEL_16ee3c3b4a4d4c70aa56285c876dbabe"
          }
        },
        "548ad0d4bd704cb783c3a5dbce5c8104": {
          "model_module": "@jupyter-widgets/controls",
          "model_name": "HTMLModel",
          "state": {
            "_view_name": "HTMLView",
            "style": "IPY_MODEL_70d92b8ae8b54be682c9faa1d9034f67",
            "_dom_classes": [],
            "description": "",
            "_model_name": "HTMLModel",
            "placeholder": "​",
            "_view_module": "@jupyter-widgets/controls",
            "_model_module_version": "1.5.0",
            "value": " 25000/0 [00:14&lt;00:00, 3048.65 examples/s]",
            "_view_count": null,
            "_view_module_version": "1.5.0",
            "description_tooltip": null,
            "_model_module": "@jupyter-widgets/controls",
            "layout": "IPY_MODEL_fe357d27015547539b08a19bd68e2d21"
          }
        },
        "a2b6eacc6b9b482eaff51c7adcf24fdf": {
          "model_module": "@jupyter-widgets/controls",
          "model_name": "ProgressStyleModel",
          "state": {
            "_view_name": "StyleView",
            "_model_name": "ProgressStyleModel",
            "description_width": "initial",
            "_view_module": "@jupyter-widgets/base",
            "_model_module_version": "1.5.0",
            "_view_count": null,
            "_view_module_version": "1.2.0",
            "bar_color": null,
            "_model_module": "@jupyter-widgets/controls"
          }
        },
        "16ee3c3b4a4d4c70aa56285c876dbabe": {
          "model_module": "@jupyter-widgets/base",
          "model_name": "LayoutModel",
          "state": {
            "_view_name": "LayoutView",
            "grid_template_rows": null,
            "right": null,
            "justify_content": null,
            "_view_module": "@jupyter-widgets/base",
            "overflow": null,
            "_model_module_version": "1.2.0",
            "_view_count": null,
            "flex_flow": null,
            "width": null,
            "min_width": null,
            "border": null,
            "align_items": null,
            "bottom": null,
            "_model_module": "@jupyter-widgets/base",
            "top": null,
            "grid_column": null,
            "overflow_y": null,
            "overflow_x": null,
            "grid_auto_flow": null,
            "grid_area": null,
            "grid_template_columns": null,
            "flex": null,
            "_model_name": "LayoutModel",
            "justify_items": null,
            "grid_row": null,
            "max_height": null,
            "align_content": null,
            "visibility": null,
            "align_self": null,
            "height": null,
            "min_height": null,
            "padding": null,
            "grid_auto_rows": null,
            "grid_gap": null,
            "max_width": null,
            "order": null,
            "_view_module_version": "1.2.0",
            "grid_template_areas": null,
            "object_position": null,
            "object_fit": null,
            "grid_auto_columns": null,
            "margin": null,
            "display": null,
            "left": null
          }
        },
        "70d92b8ae8b54be682c9faa1d9034f67": {
          "model_module": "@jupyter-widgets/controls",
          "model_name": "DescriptionStyleModel",
          "state": {
            "_view_name": "StyleView",
            "_model_name": "DescriptionStyleModel",
            "description_width": "",
            "_view_module": "@jupyter-widgets/base",
            "_model_module_version": "1.5.0",
            "_view_count": null,
            "_view_module_version": "1.2.0",
            "_model_module": "@jupyter-widgets/controls"
          }
        },
        "fe357d27015547539b08a19bd68e2d21": {
          "model_module": "@jupyter-widgets/base",
          "model_name": "LayoutModel",
          "state": {
            "_view_name": "LayoutView",
            "grid_template_rows": null,
            "right": null,
            "justify_content": null,
            "_view_module": "@jupyter-widgets/base",
            "overflow": null,
            "_model_module_version": "1.2.0",
            "_view_count": null,
            "flex_flow": null,
            "width": null,
            "min_width": null,
            "border": null,
            "align_items": null,
            "bottom": null,
            "_model_module": "@jupyter-widgets/base",
            "top": null,
            "grid_column": null,
            "overflow_y": null,
            "overflow_x": null,
            "grid_auto_flow": null,
            "grid_area": null,
            "grid_template_columns": null,
            "flex": null,
            "_model_name": "LayoutModel",
            "justify_items": null,
            "grid_row": null,
            "max_height": null,
            "align_content": null,
            "visibility": null,
            "align_self": null,
            "height": null,
            "min_height": null,
            "padding": null,
            "grid_auto_rows": null,
            "grid_gap": null,
            "max_width": null,
            "order": null,
            "_view_module_version": "1.2.0",
            "grid_template_areas": null,
            "object_position": null,
            "object_fit": null,
            "grid_auto_columns": null,
            "margin": null,
            "display": null,
            "left": null
          }
        },
        "c88e81e1fa64442782966865f8b7f0e6": {
          "model_module": "@jupyter-widgets/controls",
          "model_name": "HBoxModel",
          "state": {
            "_view_name": "HBoxView",
            "_dom_classes": [],
            "_model_name": "HBoxModel",
            "_view_module": "@jupyter-widgets/controls",
            "_model_module_version": "1.5.0",
            "_view_count": null,
            "_view_module_version": "1.5.0",
            "box_style": "",
            "layout": "IPY_MODEL_0ef9a67e27c146d0b6c48e9229ae1d47",
            "_model_module": "@jupyter-widgets/controls",
            "children": [
              "IPY_MODEL_8c889700071f44c184c546037a8e9e1e",
              "IPY_MODEL_e770f8eab78445b596f76701ba97683f"
            ]
          }
        },
        "0ef9a67e27c146d0b6c48e9229ae1d47": {
          "model_module": "@jupyter-widgets/base",
          "model_name": "LayoutModel",
          "state": {
            "_view_name": "LayoutView",
            "grid_template_rows": null,
            "right": null,
            "justify_content": null,
            "_view_module": "@jupyter-widgets/base",
            "overflow": null,
            "_model_module_version": "1.2.0",
            "_view_count": null,
            "flex_flow": null,
            "width": null,
            "min_width": null,
            "border": null,
            "align_items": null,
            "bottom": null,
            "_model_module": "@jupyter-widgets/base",
            "top": null,
            "grid_column": null,
            "overflow_y": null,
            "overflow_x": null,
            "grid_auto_flow": null,
            "grid_area": null,
            "grid_template_columns": null,
            "flex": null,
            "_model_name": "LayoutModel",
            "justify_items": null,
            "grid_row": null,
            "max_height": null,
            "align_content": null,
            "visibility": null,
            "align_self": null,
            "height": null,
            "min_height": null,
            "padding": null,
            "grid_auto_rows": null,
            "grid_gap": null,
            "max_width": null,
            "order": null,
            "_view_module_version": "1.2.0",
            "grid_template_areas": null,
            "object_position": null,
            "object_fit": null,
            "grid_auto_columns": null,
            "margin": null,
            "display": null,
            "left": null
          }
        },
        "8c889700071f44c184c546037a8e9e1e": {
          "model_module": "@jupyter-widgets/controls",
          "model_name": "FloatProgressModel",
          "state": {
            "_view_name": "ProgressView",
            "style": "IPY_MODEL_358f374f39704223b516618606e85498",
            "_dom_classes": [],
            "description": " 46%",
            "_model_name": "FloatProgressModel",
            "bar_style": "danger",
            "max": 25000,
            "_view_module": "@jupyter-widgets/controls",
            "_model_module_version": "1.5.0",
            "value": 11545,
            "_view_count": null,
            "_view_module_version": "1.5.0",
            "orientation": "horizontal",
            "min": 0,
            "description_tooltip": null,
            "_model_module": "@jupyter-widgets/controls",
            "layout": "IPY_MODEL_c465157341fd423fbe9b6ac8a3831c3f"
          }
        },
        "e770f8eab78445b596f76701ba97683f": {
          "model_module": "@jupyter-widgets/controls",
          "model_name": "HTMLModel",
          "state": {
            "_view_name": "HTMLView",
            "style": "IPY_MODEL_ad1614d7c3de48c3a762f6bc8fef825a",
            "_dom_classes": [],
            "description": "",
            "_model_name": "HTMLModel",
            "placeholder": "​",
            "_view_module": "@jupyter-widgets/controls",
            "_model_module_version": "1.5.0",
            "value": " 11545/25000 [00:00&lt;00:00, 115447.91 examples/s]",
            "_view_count": null,
            "_view_module_version": "1.5.0",
            "description_tooltip": null,
            "_model_module": "@jupyter-widgets/controls",
            "layout": "IPY_MODEL_5bb0f17f12ac4ff7bd901e4350469bab"
          }
        },
        "358f374f39704223b516618606e85498": {
          "model_module": "@jupyter-widgets/controls",
          "model_name": "ProgressStyleModel",
          "state": {
            "_view_name": "StyleView",
            "_model_name": "ProgressStyleModel",
            "description_width": "initial",
            "_view_module": "@jupyter-widgets/base",
            "_model_module_version": "1.5.0",
            "_view_count": null,
            "_view_module_version": "1.2.0",
            "bar_color": null,
            "_model_module": "@jupyter-widgets/controls"
          }
        },
        "c465157341fd423fbe9b6ac8a3831c3f": {
          "model_module": "@jupyter-widgets/base",
          "model_name": "LayoutModel",
          "state": {
            "_view_name": "LayoutView",
            "grid_template_rows": null,
            "right": null,
            "justify_content": null,
            "_view_module": "@jupyter-widgets/base",
            "overflow": null,
            "_model_module_version": "1.2.0",
            "_view_count": null,
            "flex_flow": null,
            "width": null,
            "min_width": null,
            "border": null,
            "align_items": null,
            "bottom": null,
            "_model_module": "@jupyter-widgets/base",
            "top": null,
            "grid_column": null,
            "overflow_y": null,
            "overflow_x": null,
            "grid_auto_flow": null,
            "grid_area": null,
            "grid_template_columns": null,
            "flex": null,
            "_model_name": "LayoutModel",
            "justify_items": null,
            "grid_row": null,
            "max_height": null,
            "align_content": null,
            "visibility": null,
            "align_self": null,
            "height": null,
            "min_height": null,
            "padding": null,
            "grid_auto_rows": null,
            "grid_gap": null,
            "max_width": null,
            "order": null,
            "_view_module_version": "1.2.0",
            "grid_template_areas": null,
            "object_position": null,
            "object_fit": null,
            "grid_auto_columns": null,
            "margin": null,
            "display": null,
            "left": null
          }
        },
        "ad1614d7c3de48c3a762f6bc8fef825a": {
          "model_module": "@jupyter-widgets/controls",
          "model_name": "DescriptionStyleModel",
          "state": {
            "_view_name": "StyleView",
            "_model_name": "DescriptionStyleModel",
            "description_width": "",
            "_view_module": "@jupyter-widgets/base",
            "_model_module_version": "1.5.0",
            "_view_count": null,
            "_view_module_version": "1.2.0",
            "_model_module": "@jupyter-widgets/controls"
          }
        },
        "5bb0f17f12ac4ff7bd901e4350469bab": {
          "model_module": "@jupyter-widgets/base",
          "model_name": "LayoutModel",
          "state": {
            "_view_name": "LayoutView",
            "grid_template_rows": null,
            "right": null,
            "justify_content": null,
            "_view_module": "@jupyter-widgets/base",
            "overflow": null,
            "_model_module_version": "1.2.0",
            "_view_count": null,
            "flex_flow": null,
            "width": null,
            "min_width": null,
            "border": null,
            "align_items": null,
            "bottom": null,
            "_model_module": "@jupyter-widgets/base",
            "top": null,
            "grid_column": null,
            "overflow_y": null,
            "overflow_x": null,
            "grid_auto_flow": null,
            "grid_area": null,
            "grid_template_columns": null,
            "flex": null,
            "_model_name": "LayoutModel",
            "justify_items": null,
            "grid_row": null,
            "max_height": null,
            "align_content": null,
            "visibility": null,
            "align_self": null,
            "height": null,
            "min_height": null,
            "padding": null,
            "grid_auto_rows": null,
            "grid_gap": null,
            "max_width": null,
            "order": null,
            "_view_module_version": "1.2.0",
            "grid_template_areas": null,
            "object_position": null,
            "object_fit": null,
            "grid_auto_columns": null,
            "margin": null,
            "display": null,
            "left": null
          }
        },
        "4043df7d6fa8479397214903aa1d54ce": {
          "model_module": "@jupyter-widgets/controls",
          "model_name": "HBoxModel",
          "state": {
            "_view_name": "HBoxView",
            "_dom_classes": [],
            "_model_name": "HBoxModel",
            "_view_module": "@jupyter-widgets/controls",
            "_model_module_version": "1.5.0",
            "_view_count": null,
            "_view_module_version": "1.5.0",
            "box_style": "",
            "layout": "IPY_MODEL_ca81a1449ef446e1af8619dceac72d40",
            "_model_module": "@jupyter-widgets/controls",
            "children": [
              "IPY_MODEL_bfe0b9e1c78a40fab6a29a8a094ac6d9",
              "IPY_MODEL_797ad8e2f09b490a883e74fec791fe10"
            ]
          }
        },
        "ca81a1449ef446e1af8619dceac72d40": {
          "model_module": "@jupyter-widgets/base",
          "model_name": "LayoutModel",
          "state": {
            "_view_name": "LayoutView",
            "grid_template_rows": null,
            "right": null,
            "justify_content": null,
            "_view_module": "@jupyter-widgets/base",
            "overflow": null,
            "_model_module_version": "1.2.0",
            "_view_count": null,
            "flex_flow": null,
            "width": null,
            "min_width": null,
            "border": null,
            "align_items": null,
            "bottom": null,
            "_model_module": "@jupyter-widgets/base",
            "top": null,
            "grid_column": null,
            "overflow_y": null,
            "overflow_x": null,
            "grid_auto_flow": null,
            "grid_area": null,
            "grid_template_columns": null,
            "flex": null,
            "_model_name": "LayoutModel",
            "justify_items": null,
            "grid_row": null,
            "max_height": null,
            "align_content": null,
            "visibility": null,
            "align_self": null,
            "height": null,
            "min_height": null,
            "padding": null,
            "grid_auto_rows": null,
            "grid_gap": null,
            "max_width": null,
            "order": null,
            "_view_module_version": "1.2.0",
            "grid_template_areas": null,
            "object_position": null,
            "object_fit": null,
            "grid_auto_columns": null,
            "margin": null,
            "display": null,
            "left": null
          }
        },
        "bfe0b9e1c78a40fab6a29a8a094ac6d9": {
          "model_module": "@jupyter-widgets/controls",
          "model_name": "FloatProgressModel",
          "state": {
            "_view_name": "ProgressView",
            "style": "IPY_MODEL_d21b0367c0374864a75acafc088116c5",
            "_dom_classes": [],
            "description": "",
            "_model_name": "FloatProgressModel",
            "bar_style": "info",
            "max": 1,
            "_view_module": "@jupyter-widgets/controls",
            "_model_module_version": "1.5.0",
            "value": 1,
            "_view_count": null,
            "_view_module_version": "1.5.0",
            "orientation": "horizontal",
            "min": 0,
            "description_tooltip": null,
            "_model_module": "@jupyter-widgets/controls",
            "layout": "IPY_MODEL_d7c696c98cf447d8a23197900f13af2a"
          }
        },
        "797ad8e2f09b490a883e74fec791fe10": {
          "model_module": "@jupyter-widgets/controls",
          "model_name": "HTMLModel",
          "state": {
            "_view_name": "HTMLView",
            "style": "IPY_MODEL_51c1f77754ce4c459170d364855b0ac2",
            "_dom_classes": [],
            "description": "",
            "_model_name": "HTMLModel",
            "placeholder": "​",
            "_view_module": "@jupyter-widgets/controls",
            "_model_module_version": "1.5.0",
            "value": " 25000/0 [00:14&lt;00:00, 2957.66 examples/s]",
            "_view_count": null,
            "_view_module_version": "1.5.0",
            "description_tooltip": null,
            "_model_module": "@jupyter-widgets/controls",
            "layout": "IPY_MODEL_a082c763b8c942ab8d378bac5dc2f2a8"
          }
        },
        "d21b0367c0374864a75acafc088116c5": {
          "model_module": "@jupyter-widgets/controls",
          "model_name": "ProgressStyleModel",
          "state": {
            "_view_name": "StyleView",
            "_model_name": "ProgressStyleModel",
            "description_width": "initial",
            "_view_module": "@jupyter-widgets/base",
            "_model_module_version": "1.5.0",
            "_view_count": null,
            "_view_module_version": "1.2.0",
            "bar_color": null,
            "_model_module": "@jupyter-widgets/controls"
          }
        },
        "d7c696c98cf447d8a23197900f13af2a": {
          "model_module": "@jupyter-widgets/base",
          "model_name": "LayoutModel",
          "state": {
            "_view_name": "LayoutView",
            "grid_template_rows": null,
            "right": null,
            "justify_content": null,
            "_view_module": "@jupyter-widgets/base",
            "overflow": null,
            "_model_module_version": "1.2.0",
            "_view_count": null,
            "flex_flow": null,
            "width": null,
            "min_width": null,
            "border": null,
            "align_items": null,
            "bottom": null,
            "_model_module": "@jupyter-widgets/base",
            "top": null,
            "grid_column": null,
            "overflow_y": null,
            "overflow_x": null,
            "grid_auto_flow": null,
            "grid_area": null,
            "grid_template_columns": null,
            "flex": null,
            "_model_name": "LayoutModel",
            "justify_items": null,
            "grid_row": null,
            "max_height": null,
            "align_content": null,
            "visibility": null,
            "align_self": null,
            "height": null,
            "min_height": null,
            "padding": null,
            "grid_auto_rows": null,
            "grid_gap": null,
            "max_width": null,
            "order": null,
            "_view_module_version": "1.2.0",
            "grid_template_areas": null,
            "object_position": null,
            "object_fit": null,
            "grid_auto_columns": null,
            "margin": null,
            "display": null,
            "left": null
          }
        },
        "51c1f77754ce4c459170d364855b0ac2": {
          "model_module": "@jupyter-widgets/controls",
          "model_name": "DescriptionStyleModel",
          "state": {
            "_view_name": "StyleView",
            "_model_name": "DescriptionStyleModel",
            "description_width": "",
            "_view_module": "@jupyter-widgets/base",
            "_model_module_version": "1.5.0",
            "_view_count": null,
            "_view_module_version": "1.2.0",
            "_model_module": "@jupyter-widgets/controls"
          }
        },
        "a082c763b8c942ab8d378bac5dc2f2a8": {
          "model_module": "@jupyter-widgets/base",
          "model_name": "LayoutModel",
          "state": {
            "_view_name": "LayoutView",
            "grid_template_rows": null,
            "right": null,
            "justify_content": null,
            "_view_module": "@jupyter-widgets/base",
            "overflow": null,
            "_model_module_version": "1.2.0",
            "_view_count": null,
            "flex_flow": null,
            "width": null,
            "min_width": null,
            "border": null,
            "align_items": null,
            "bottom": null,
            "_model_module": "@jupyter-widgets/base",
            "top": null,
            "grid_column": null,
            "overflow_y": null,
            "overflow_x": null,
            "grid_auto_flow": null,
            "grid_area": null,
            "grid_template_columns": null,
            "flex": null,
            "_model_name": "LayoutModel",
            "justify_items": null,
            "grid_row": null,
            "max_height": null,
            "align_content": null,
            "visibility": null,
            "align_self": null,
            "height": null,
            "min_height": null,
            "padding": null,
            "grid_auto_rows": null,
            "grid_gap": null,
            "max_width": null,
            "order": null,
            "_view_module_version": "1.2.0",
            "grid_template_areas": null,
            "object_position": null,
            "object_fit": null,
            "grid_auto_columns": null,
            "margin": null,
            "display": null,
            "left": null
          }
        },
        "f5cb6c52dfc04fc89e1491a258b6b264": {
          "model_module": "@jupyter-widgets/controls",
          "model_name": "HBoxModel",
          "state": {
            "_view_name": "HBoxView",
            "_dom_classes": [],
            "_model_name": "HBoxModel",
            "_view_module": "@jupyter-widgets/controls",
            "_model_module_version": "1.5.0",
            "_view_count": null,
            "_view_module_version": "1.5.0",
            "box_style": "",
            "layout": "IPY_MODEL_79374ea19d0a47e987c69206f6fe27d6",
            "_model_module": "@jupyter-widgets/controls",
            "children": [
              "IPY_MODEL_88c6247085364f2eb8852b450818240e",
              "IPY_MODEL_a75f45b4b9c14748bb030a06718f8489"
            ]
          }
        },
        "79374ea19d0a47e987c69206f6fe27d6": {
          "model_module": "@jupyter-widgets/base",
          "model_name": "LayoutModel",
          "state": {
            "_view_name": "LayoutView",
            "grid_template_rows": null,
            "right": null,
            "justify_content": null,
            "_view_module": "@jupyter-widgets/base",
            "overflow": null,
            "_model_module_version": "1.2.0",
            "_view_count": null,
            "flex_flow": null,
            "width": null,
            "min_width": null,
            "border": null,
            "align_items": null,
            "bottom": null,
            "_model_module": "@jupyter-widgets/base",
            "top": null,
            "grid_column": null,
            "overflow_y": null,
            "overflow_x": null,
            "grid_auto_flow": null,
            "grid_area": null,
            "grid_template_columns": null,
            "flex": null,
            "_model_name": "LayoutModel",
            "justify_items": null,
            "grid_row": null,
            "max_height": null,
            "align_content": null,
            "visibility": null,
            "align_self": null,
            "height": null,
            "min_height": null,
            "padding": null,
            "grid_auto_rows": null,
            "grid_gap": null,
            "max_width": null,
            "order": null,
            "_view_module_version": "1.2.0",
            "grid_template_areas": null,
            "object_position": null,
            "object_fit": null,
            "grid_auto_columns": null,
            "margin": null,
            "display": null,
            "left": null
          }
        },
        "88c6247085364f2eb8852b450818240e": {
          "model_module": "@jupyter-widgets/controls",
          "model_name": "FloatProgressModel",
          "state": {
            "_view_name": "ProgressView",
            "style": "IPY_MODEL_8f75dd0c593a4ad5b158d7394c6ac466",
            "_dom_classes": [],
            "description": " 51%",
            "_model_name": "FloatProgressModel",
            "bar_style": "danger",
            "max": 25000,
            "_view_module": "@jupyter-widgets/controls",
            "_model_module_version": "1.5.0",
            "value": 12835,
            "_view_count": null,
            "_view_module_version": "1.5.0",
            "orientation": "horizontal",
            "min": 0,
            "description_tooltip": null,
            "_model_module": "@jupyter-widgets/controls",
            "layout": "IPY_MODEL_6a7c86f4f22b453d8893439432deb2a0"
          }
        },
        "a75f45b4b9c14748bb030a06718f8489": {
          "model_module": "@jupyter-widgets/controls",
          "model_name": "HTMLModel",
          "state": {
            "_view_name": "HTMLView",
            "style": "IPY_MODEL_e810f45e10544c908bb0ee9bdc9bb6e5",
            "_dom_classes": [],
            "description": "",
            "_model_name": "HTMLModel",
            "placeholder": "​",
            "_view_module": "@jupyter-widgets/controls",
            "_model_module_version": "1.5.0",
            "value": " 12835/25000 [00:00&lt;00:00, 128343.70 examples/s]",
            "_view_count": null,
            "_view_module_version": "1.5.0",
            "description_tooltip": null,
            "_model_module": "@jupyter-widgets/controls",
            "layout": "IPY_MODEL_78fac62650b3487eb1b1c4c312751307"
          }
        },
        "8f75dd0c593a4ad5b158d7394c6ac466": {
          "model_module": "@jupyter-widgets/controls",
          "model_name": "ProgressStyleModel",
          "state": {
            "_view_name": "StyleView",
            "_model_name": "ProgressStyleModel",
            "description_width": "initial",
            "_view_module": "@jupyter-widgets/base",
            "_model_module_version": "1.5.0",
            "_view_count": null,
            "_view_module_version": "1.2.0",
            "bar_color": null,
            "_model_module": "@jupyter-widgets/controls"
          }
        },
        "6a7c86f4f22b453d8893439432deb2a0": {
          "model_module": "@jupyter-widgets/base",
          "model_name": "LayoutModel",
          "state": {
            "_view_name": "LayoutView",
            "grid_template_rows": null,
            "right": null,
            "justify_content": null,
            "_view_module": "@jupyter-widgets/base",
            "overflow": null,
            "_model_module_version": "1.2.0",
            "_view_count": null,
            "flex_flow": null,
            "width": null,
            "min_width": null,
            "border": null,
            "align_items": null,
            "bottom": null,
            "_model_module": "@jupyter-widgets/base",
            "top": null,
            "grid_column": null,
            "overflow_y": null,
            "overflow_x": null,
            "grid_auto_flow": null,
            "grid_area": null,
            "grid_template_columns": null,
            "flex": null,
            "_model_name": "LayoutModel",
            "justify_items": null,
            "grid_row": null,
            "max_height": null,
            "align_content": null,
            "visibility": null,
            "align_self": null,
            "height": null,
            "min_height": null,
            "padding": null,
            "grid_auto_rows": null,
            "grid_gap": null,
            "max_width": null,
            "order": null,
            "_view_module_version": "1.2.0",
            "grid_template_areas": null,
            "object_position": null,
            "object_fit": null,
            "grid_auto_columns": null,
            "margin": null,
            "display": null,
            "left": null
          }
        },
        "e810f45e10544c908bb0ee9bdc9bb6e5": {
          "model_module": "@jupyter-widgets/controls",
          "model_name": "DescriptionStyleModel",
          "state": {
            "_view_name": "StyleView",
            "_model_name": "DescriptionStyleModel",
            "description_width": "",
            "_view_module": "@jupyter-widgets/base",
            "_model_module_version": "1.5.0",
            "_view_count": null,
            "_view_module_version": "1.2.0",
            "_model_module": "@jupyter-widgets/controls"
          }
        },
        "78fac62650b3487eb1b1c4c312751307": {
          "model_module": "@jupyter-widgets/base",
          "model_name": "LayoutModel",
          "state": {
            "_view_name": "LayoutView",
            "grid_template_rows": null,
            "right": null,
            "justify_content": null,
            "_view_module": "@jupyter-widgets/base",
            "overflow": null,
            "_model_module_version": "1.2.0",
            "_view_count": null,
            "flex_flow": null,
            "width": null,
            "min_width": null,
            "border": null,
            "align_items": null,
            "bottom": null,
            "_model_module": "@jupyter-widgets/base",
            "top": null,
            "grid_column": null,
            "overflow_y": null,
            "overflow_x": null,
            "grid_auto_flow": null,
            "grid_area": null,
            "grid_template_columns": null,
            "flex": null,
            "_model_name": "LayoutModel",
            "justify_items": null,
            "grid_row": null,
            "max_height": null,
            "align_content": null,
            "visibility": null,
            "align_self": null,
            "height": null,
            "min_height": null,
            "padding": null,
            "grid_auto_rows": null,
            "grid_gap": null,
            "max_width": null,
            "order": null,
            "_view_module_version": "1.2.0",
            "grid_template_areas": null,
            "object_position": null,
            "object_fit": null,
            "grid_auto_columns": null,
            "margin": null,
            "display": null,
            "left": null
          }
        },
        "db13ba283c6d4352aeb900760666c132": {
          "model_module": "@jupyter-widgets/controls",
          "model_name": "HBoxModel",
          "state": {
            "_view_name": "HBoxView",
            "_dom_classes": [],
            "_model_name": "HBoxModel",
            "_view_module": "@jupyter-widgets/controls",
            "_model_module_version": "1.5.0",
            "_view_count": null,
            "_view_module_version": "1.5.0",
            "box_style": "",
            "layout": "IPY_MODEL_8f96df0d6616482aa89fb1668331fe31",
            "_model_module": "@jupyter-widgets/controls",
            "children": [
              "IPY_MODEL_df4de34339ba451c868a4066349cb658",
              "IPY_MODEL_b4fe704f0d5a4e5f936bae76a5eb5e78"
            ]
          }
        },
        "8f96df0d6616482aa89fb1668331fe31": {
          "model_module": "@jupyter-widgets/base",
          "model_name": "LayoutModel",
          "state": {
            "_view_name": "LayoutView",
            "grid_template_rows": null,
            "right": null,
            "justify_content": null,
            "_view_module": "@jupyter-widgets/base",
            "overflow": null,
            "_model_module_version": "1.2.0",
            "_view_count": null,
            "flex_flow": null,
            "width": null,
            "min_width": null,
            "border": null,
            "align_items": null,
            "bottom": null,
            "_model_module": "@jupyter-widgets/base",
            "top": null,
            "grid_column": null,
            "overflow_y": null,
            "overflow_x": null,
            "grid_auto_flow": null,
            "grid_area": null,
            "grid_template_columns": null,
            "flex": null,
            "_model_name": "LayoutModel",
            "justify_items": null,
            "grid_row": null,
            "max_height": null,
            "align_content": null,
            "visibility": null,
            "align_self": null,
            "height": null,
            "min_height": null,
            "padding": null,
            "grid_auto_rows": null,
            "grid_gap": null,
            "max_width": null,
            "order": null,
            "_view_module_version": "1.2.0",
            "grid_template_areas": null,
            "object_position": null,
            "object_fit": null,
            "grid_auto_columns": null,
            "margin": null,
            "display": null,
            "left": null
          }
        },
        "df4de34339ba451c868a4066349cb658": {
          "model_module": "@jupyter-widgets/controls",
          "model_name": "FloatProgressModel",
          "state": {
            "_view_name": "ProgressView",
            "style": "IPY_MODEL_0138eae3f3954d58962825c33e930d55",
            "_dom_classes": [],
            "description": "",
            "_model_name": "FloatProgressModel",
            "bar_style": "info",
            "max": 1,
            "_view_module": "@jupyter-widgets/controls",
            "_model_module_version": "1.5.0",
            "value": 1,
            "_view_count": null,
            "_view_module_version": "1.5.0",
            "orientation": "horizontal",
            "min": 0,
            "description_tooltip": null,
            "_model_module": "@jupyter-widgets/controls",
            "layout": "IPY_MODEL_3e99f2d87ac7425caa2ade319cf81997"
          }
        },
        "b4fe704f0d5a4e5f936bae76a5eb5e78": {
          "model_module": "@jupyter-widgets/controls",
          "model_name": "HTMLModel",
          "state": {
            "_view_name": "HTMLView",
            "style": "IPY_MODEL_a69e52b6c44a4b4dafee0d85b6407e70",
            "_dom_classes": [],
            "description": "",
            "_model_name": "HTMLModel",
            "placeholder": "​",
            "_view_module": "@jupyter-widgets/controls",
            "_model_module_version": "1.5.0",
            "value": " 50000/0 [00:20&lt;00:00, 3079.21 examples/s]",
            "_view_count": null,
            "_view_module_version": "1.5.0",
            "description_tooltip": null,
            "_model_module": "@jupyter-widgets/controls",
            "layout": "IPY_MODEL_56597487aabe485eafcc5d8521bb55ea"
          }
        },
        "0138eae3f3954d58962825c33e930d55": {
          "model_module": "@jupyter-widgets/controls",
          "model_name": "ProgressStyleModel",
          "state": {
            "_view_name": "StyleView",
            "_model_name": "ProgressStyleModel",
            "description_width": "initial",
            "_view_module": "@jupyter-widgets/base",
            "_model_module_version": "1.5.0",
            "_view_count": null,
            "_view_module_version": "1.2.0",
            "bar_color": null,
            "_model_module": "@jupyter-widgets/controls"
          }
        },
        "3e99f2d87ac7425caa2ade319cf81997": {
          "model_module": "@jupyter-widgets/base",
          "model_name": "LayoutModel",
          "state": {
            "_view_name": "LayoutView",
            "grid_template_rows": null,
            "right": null,
            "justify_content": null,
            "_view_module": "@jupyter-widgets/base",
            "overflow": null,
            "_model_module_version": "1.2.0",
            "_view_count": null,
            "flex_flow": null,
            "width": null,
            "min_width": null,
            "border": null,
            "align_items": null,
            "bottom": null,
            "_model_module": "@jupyter-widgets/base",
            "top": null,
            "grid_column": null,
            "overflow_y": null,
            "overflow_x": null,
            "grid_auto_flow": null,
            "grid_area": null,
            "grid_template_columns": null,
            "flex": null,
            "_model_name": "LayoutModel",
            "justify_items": null,
            "grid_row": null,
            "max_height": null,
            "align_content": null,
            "visibility": null,
            "align_self": null,
            "height": null,
            "min_height": null,
            "padding": null,
            "grid_auto_rows": null,
            "grid_gap": null,
            "max_width": null,
            "order": null,
            "_view_module_version": "1.2.0",
            "grid_template_areas": null,
            "object_position": null,
            "object_fit": null,
            "grid_auto_columns": null,
            "margin": null,
            "display": null,
            "left": null
          }
        },
        "a69e52b6c44a4b4dafee0d85b6407e70": {
          "model_module": "@jupyter-widgets/controls",
          "model_name": "DescriptionStyleModel",
          "state": {
            "_view_name": "StyleView",
            "_model_name": "DescriptionStyleModel",
            "description_width": "",
            "_view_module": "@jupyter-widgets/base",
            "_model_module_version": "1.5.0",
            "_view_count": null,
            "_view_module_version": "1.2.0",
            "_model_module": "@jupyter-widgets/controls"
          }
        },
        "56597487aabe485eafcc5d8521bb55ea": {
          "model_module": "@jupyter-widgets/base",
          "model_name": "LayoutModel",
          "state": {
            "_view_name": "LayoutView",
            "grid_template_rows": null,
            "right": null,
            "justify_content": null,
            "_view_module": "@jupyter-widgets/base",
            "overflow": null,
            "_model_module_version": "1.2.0",
            "_view_count": null,
            "flex_flow": null,
            "width": null,
            "min_width": null,
            "border": null,
            "align_items": null,
            "bottom": null,
            "_model_module": "@jupyter-widgets/base",
            "top": null,
            "grid_column": null,
            "overflow_y": null,
            "overflow_x": null,
            "grid_auto_flow": null,
            "grid_area": null,
            "grid_template_columns": null,
            "flex": null,
            "_model_name": "LayoutModel",
            "justify_items": null,
            "grid_row": null,
            "max_height": null,
            "align_content": null,
            "visibility": null,
            "align_self": null,
            "height": null,
            "min_height": null,
            "padding": null,
            "grid_auto_rows": null,
            "grid_gap": null,
            "max_width": null,
            "order": null,
            "_view_module_version": "1.2.0",
            "grid_template_areas": null,
            "object_position": null,
            "object_fit": null,
            "grid_auto_columns": null,
            "margin": null,
            "display": null,
            "left": null
          }
        },
        "fa7ce162b22e4b07ba18507965a85a83": {
          "model_module": "@jupyter-widgets/controls",
          "model_name": "HBoxModel",
          "state": {
            "_view_name": "HBoxView",
            "_dom_classes": [],
            "_model_name": "HBoxModel",
            "_view_module": "@jupyter-widgets/controls",
            "_model_module_version": "1.5.0",
            "_view_count": null,
            "_view_module_version": "1.5.0",
            "box_style": "",
            "layout": "IPY_MODEL_99932b52fe74426ab29a6b1d4cd94497",
            "_model_module": "@jupyter-widgets/controls",
            "children": [
              "IPY_MODEL_01f5b4f9d92b47509747ae32d94f390e",
              "IPY_MODEL_5ad904a6e75e421180619650c7967ddf"
            ]
          }
        },
        "99932b52fe74426ab29a6b1d4cd94497": {
          "model_module": "@jupyter-widgets/base",
          "model_name": "LayoutModel",
          "state": {
            "_view_name": "LayoutView",
            "grid_template_rows": null,
            "right": null,
            "justify_content": null,
            "_view_module": "@jupyter-widgets/base",
            "overflow": null,
            "_model_module_version": "1.2.0",
            "_view_count": null,
            "flex_flow": null,
            "width": null,
            "min_width": null,
            "border": null,
            "align_items": null,
            "bottom": null,
            "_model_module": "@jupyter-widgets/base",
            "top": null,
            "grid_column": null,
            "overflow_y": null,
            "overflow_x": null,
            "grid_auto_flow": null,
            "grid_area": null,
            "grid_template_columns": null,
            "flex": null,
            "_model_name": "LayoutModel",
            "justify_items": null,
            "grid_row": null,
            "max_height": null,
            "align_content": null,
            "visibility": null,
            "align_self": null,
            "height": null,
            "min_height": null,
            "padding": null,
            "grid_auto_rows": null,
            "grid_gap": null,
            "max_width": null,
            "order": null,
            "_view_module_version": "1.2.0",
            "grid_template_areas": null,
            "object_position": null,
            "object_fit": null,
            "grid_auto_columns": null,
            "margin": null,
            "display": null,
            "left": null
          }
        },
        "01f5b4f9d92b47509747ae32d94f390e": {
          "model_module": "@jupyter-widgets/controls",
          "model_name": "FloatProgressModel",
          "state": {
            "_view_name": "ProgressView",
            "style": "IPY_MODEL_c7b55323ec4d42d9961f9e1ab30a361e",
            "_dom_classes": [],
            "description": " 60%",
            "_model_name": "FloatProgressModel",
            "bar_style": "danger",
            "max": 50000,
            "_view_module": "@jupyter-widgets/controls",
            "_model_module_version": "1.5.0",
            "value": 29830,
            "_view_count": null,
            "_view_module_version": "1.5.0",
            "orientation": "horizontal",
            "min": 0,
            "description_tooltip": null,
            "_model_module": "@jupyter-widgets/controls",
            "layout": "IPY_MODEL_a7c149e695a2476281e0cfd4693fc0bf"
          }
        },
        "5ad904a6e75e421180619650c7967ddf": {
          "model_module": "@jupyter-widgets/controls",
          "model_name": "HTMLModel",
          "state": {
            "_view_name": "HTMLView",
            "style": "IPY_MODEL_1416870714154a11a9546d15d8263af0",
            "_dom_classes": [],
            "description": "",
            "_model_name": "HTMLModel",
            "placeholder": "​",
            "_view_module": "@jupyter-widgets/controls",
            "_model_module_version": "1.5.0",
            "value": " 29830/50000 [00:00&lt;00:00, 69894.20 examples/s]",
            "_view_count": null,
            "_view_module_version": "1.5.0",
            "description_tooltip": null,
            "_model_module": "@jupyter-widgets/controls",
            "layout": "IPY_MODEL_b390308a876140a98a2c418d50f6e7d7"
          }
        },
        "c7b55323ec4d42d9961f9e1ab30a361e": {
          "model_module": "@jupyter-widgets/controls",
          "model_name": "ProgressStyleModel",
          "state": {
            "_view_name": "StyleView",
            "_model_name": "ProgressStyleModel",
            "description_width": "initial",
            "_view_module": "@jupyter-widgets/base",
            "_model_module_version": "1.5.0",
            "_view_count": null,
            "_view_module_version": "1.2.0",
            "bar_color": null,
            "_model_module": "@jupyter-widgets/controls"
          }
        },
        "a7c149e695a2476281e0cfd4693fc0bf": {
          "model_module": "@jupyter-widgets/base",
          "model_name": "LayoutModel",
          "state": {
            "_view_name": "LayoutView",
            "grid_template_rows": null,
            "right": null,
            "justify_content": null,
            "_view_module": "@jupyter-widgets/base",
            "overflow": null,
            "_model_module_version": "1.2.0",
            "_view_count": null,
            "flex_flow": null,
            "width": null,
            "min_width": null,
            "border": null,
            "align_items": null,
            "bottom": null,
            "_model_module": "@jupyter-widgets/base",
            "top": null,
            "grid_column": null,
            "overflow_y": null,
            "overflow_x": null,
            "grid_auto_flow": null,
            "grid_area": null,
            "grid_template_columns": null,
            "flex": null,
            "_model_name": "LayoutModel",
            "justify_items": null,
            "grid_row": null,
            "max_height": null,
            "align_content": null,
            "visibility": null,
            "align_self": null,
            "height": null,
            "min_height": null,
            "padding": null,
            "grid_auto_rows": null,
            "grid_gap": null,
            "max_width": null,
            "order": null,
            "_view_module_version": "1.2.0",
            "grid_template_areas": null,
            "object_position": null,
            "object_fit": null,
            "grid_auto_columns": null,
            "margin": null,
            "display": null,
            "left": null
          }
        },
        "1416870714154a11a9546d15d8263af0": {
          "model_module": "@jupyter-widgets/controls",
          "model_name": "DescriptionStyleModel",
          "state": {
            "_view_name": "StyleView",
            "_model_name": "DescriptionStyleModel",
            "description_width": "",
            "_view_module": "@jupyter-widgets/base",
            "_model_module_version": "1.5.0",
            "_view_count": null,
            "_view_module_version": "1.2.0",
            "_model_module": "@jupyter-widgets/controls"
          }
        },
        "b390308a876140a98a2c418d50f6e7d7": {
          "model_module": "@jupyter-widgets/base",
          "model_name": "LayoutModel",
          "state": {
            "_view_name": "LayoutView",
            "grid_template_rows": null,
            "right": null,
            "justify_content": null,
            "_view_module": "@jupyter-widgets/base",
            "overflow": null,
            "_model_module_version": "1.2.0",
            "_view_count": null,
            "flex_flow": null,
            "width": null,
            "min_width": null,
            "border": null,
            "align_items": null,
            "bottom": null,
            "_model_module": "@jupyter-widgets/base",
            "top": null,
            "grid_column": null,
            "overflow_y": null,
            "overflow_x": null,
            "grid_auto_flow": null,
            "grid_area": null,
            "grid_template_columns": null,
            "flex": null,
            "_model_name": "LayoutModel",
            "justify_items": null,
            "grid_row": null,
            "max_height": null,
            "align_content": null,
            "visibility": null,
            "align_self": null,
            "height": null,
            "min_height": null,
            "padding": null,
            "grid_auto_rows": null,
            "grid_gap": null,
            "max_width": null,
            "order": null,
            "_view_module_version": "1.2.0",
            "grid_template_areas": null,
            "object_position": null,
            "object_fit": null,
            "grid_auto_columns": null,
            "margin": null,
            "display": null,
            "left": null
          }
        }
      }
    }
  },
  "cells": [
    {
      "cell_type": "markdown",
      "metadata": {
        "id": "view-in-github",
        "colab_type": "text"
      },
      "source": [
        "<a href=\"https://colab.research.google.com/github/narsym/deep-learning-with-tensorflow-2.0/blob/master/Understanding_tensorflow_2x.ipynb\" target=\"_parent\"><img src=\"https://colab.research.google.com/assets/colab-badge.svg\" alt=\"Open In Colab\"/></a>"
      ]
    },
    {
      "cell_type": "markdown",
      "metadata": {
        "id": "-hKoMXJOxqMj",
        "colab_type": "text"
      },
      "source": [
        "#using autograph"
      ]
    },
    {
      "cell_type": "code",
      "metadata": {
        "id": "0Pol8LvDyA4Y",
        "colab_type": "code",
        "colab": {}
      },
      "source": [
        "import tensorflow as tf"
      ],
      "execution_count": 0,
      "outputs": []
    },
    {
      "cell_type": "code",
      "metadata": {
        "id": "eSh4MyiSyImv",
        "colab_type": "code",
        "colab": {}
      },
      "source": [
        "def linear_layer(x):\n",
        "  return 3*x + 2"
      ],
      "execution_count": 0,
      "outputs": []
    },
    {
      "cell_type": "markdown",
      "metadata": {
        "id": "hD6el9oAyuca",
        "colab_type": "text"
      },
      "source": [
        "use python functions in tensorflow like this and only do this for main(useful) function"
      ]
    },
    {
      "cell_type": "code",
      "metadata": {
        "id": "W5ovDb5EyPVM",
        "colab_type": "code",
        "colab": {}
      },
      "source": [
        "@tf.function\n",
        "def simple_nn(x):\n",
        "  return tf.nn.relu(linear_layer(x))"
      ],
      "execution_count": 0,
      "outputs": []
    },
    {
      "cell_type": "code",
      "metadata": {
        "id": "f0KeIVS8ybMt",
        "colab_type": "code",
        "colab": {}
      },
      "source": [
        "def simple_network(x):\n",
        "  return 3*x"
      ],
      "execution_count": 0,
      "outputs": []
    },
    {
      "cell_type": "code",
      "metadata": {
        "id": "5Wdm12Scyikz",
        "colab_type": "code",
        "outputId": "ad0b6695-29f1-43e2-9fc9-de51c3c05bc6",
        "colab": {
          "base_uri": "https://localhost:8080/",
          "height": 35
        }
      },
      "source": [
        "simple_nn"
      ],
      "execution_count": 0,
      "outputs": [
        {
          "output_type": "execute_result",
          "data": {
            "text/plain": [
              "<tensorflow.python.eager.def_function.Function at 0x7f8a5c1cf748>"
            ]
          },
          "metadata": {
            "tags": []
          },
          "execution_count": 8
        }
      ]
    },
    {
      "cell_type": "code",
      "metadata": {
        "id": "YsQXE7D5ykyX",
        "colab_type": "code",
        "outputId": "30376282-c3dd-468c-a09b-8ad588d4274b",
        "colab": {
          "base_uri": "https://localhost:8080/",
          "height": 35
        }
      },
      "source": [
        "simple_network"
      ],
      "execution_count": 0,
      "outputs": [
        {
          "output_type": "execute_result",
          "data": {
            "text/plain": [
              "<function __main__.simple_network>"
            ]
          },
          "metadata": {
            "tags": []
          },
          "execution_count": 9
        }
      ]
    },
    {
      "cell_type": "markdown",
      "metadata": {
        "id": "hLrSec6Pyqco",
        "colab_type": "text"
      },
      "source": [
        "#Sequential is our keras MNIST type\n",
        "\n",
        "\n"
      ]
    },
    {
      "cell_type": "markdown",
      "metadata": {
        "id": "hooeisub0DIe",
        "colab_type": "text"
      },
      "source": [
        "#Functional"
      ]
    },
    {
      "cell_type": "code",
      "metadata": {
        "id": "aMEq1_E40NOX",
        "colab_type": "code",
        "colab": {}
      },
      "source": [
        "def build_model():\n",
        "  text_input_a = tf.keras.Input(shape = (None,),dtype = 'int32')\n",
        "  text_input_b = tf.keras.Input(shape = (None,),dtype = 'int32')\n",
        "  shared_embedding = tf.keras.layers.Embedding(1000,128)\n",
        "  encoded_input_a = shared_embedding(text_input_a)\n",
        "  encoded_input_b = shared_embedding(text_input_b)\n",
        "  prediction_a = tf.keras.layers.Dense(1,activation = 'sigmoid',name = 'prediction_a')(encoded_input_a)\n",
        "  prediction_b = tf.keras.layers.Dense(1,activation = 'sigmoid',name = 'prediction_b')(encoded_input_b)\n",
        "  model = tf.keras.Model(inputs = [text_input_a,text_input_b],outputs = [prediction_a,prediction_b])\n",
        "  tf.keras.utils.plot_model(model,to_file= 'shared_model.png')\n",
        "build_model()"
      ],
      "execution_count": 0,
      "outputs": []
    },
    {
      "cell_type": "markdown",
      "metadata": {
        "id": "MzKbPrJw1ZJj",
        "colab_type": "text"
      },
      "source": [
        "#Model Subclassing"
      ]
    },
    {
      "cell_type": "code",
      "metadata": {
        "id": "2Nu-0wIr2fso",
        "colab_type": "code",
        "colab": {}
      },
      "source": [
        "class MyLayer(tf.keras.layers.Layer):\n",
        "  def __init__(self,output_dim,**kwargs):\n",
        "    self.output_dim = output_dim\n",
        "    super(MyLayer,self).__init__()\n",
        "  def build(self,input_shape):\n",
        "    self.kernal = self.add_weight(name = 'kernel',shape = (input_shape[1],output_dim),initializer = 'uniform',trainable = True)\n",
        "  def call(self,inputs):\n",
        "    return tf.matmul(inputs,self.kernal)"
      ],
      "execution_count": 0,
      "outputs": []
    },
    {
      "cell_type": "code",
      "metadata": {
        "id": "_Rw2J2QH3eXu",
        "colab_type": "code",
        "colab": {}
      },
      "source": [
        "model = tf.keras.Sequential([MyLayer(20),tf.keras.layers.Activation('softmax')])"
      ],
      "execution_count": 0,
      "outputs": []
    },
    {
      "cell_type": "markdown",
      "metadata": {
        "id": "vYciNxcN33qv",
        "colab_type": "text"
      },
      "source": [
        "#Callbacks"
      ]
    },
    {
      "cell_type": "markdown",
      "metadata": {
        "id": "qg_ubi8-4LIS",
        "colab_type": "text"
      },
      "source": [
        "**Few callbacks**"
      ]
    },
    {
      "cell_type": "markdown",
      "metadata": {
        "id": "2hv36J5z4Urv",
        "colab_type": "text"
      },
      "source": [
        "tf.keras.callbacks.ModelCheckpoint #savemodel at regural intervals\n",
        "\n",
        "tf.keras.callbacks.LearningRateScheduler #dynamically change learning rate during execution\n",
        "\n",
        "tf.keras.callbacks.EarlyStopping #interupt training when validation performance degrades\n",
        "\n",
        "tf.keras.callbacks.TensorBoard #monitor model's behaviour using tensorboard"
      ]
    },
    {
      "cell_type": "markdown",
      "metadata": {
        "id": "wCQZUboG49mG",
        "colab_type": "text"
      },
      "source": [
        "#saving a model and weights"
      ]
    },
    {
      "cell_type": "markdown",
      "metadata": {
        "id": "8AL7E3bH5GWu",
        "colab_type": "text"
      },
      "source": [
        "**save and load model**"
      ]
    },
    {
      "cell_type": "code",
      "metadata": {
        "id": "7JTuyzR25kkr",
        "colab_type": "code",
        "colab": {}
      },
      "source": [
        "model.save('my_model.h5')\n",
        "model = tf.keras.model.load_model('my_model.ht')"
      ],
      "execution_count": 0,
      "outputs": []
    },
    {
      "cell_type": "markdown",
      "metadata": {
        "id": "kfoACKY151ea",
        "colab_type": "text"
      },
      "source": [
        "using json"
      ]
    },
    {
      "cell_type": "code",
      "metadata": {
        "id": "2Am5fWGi5_1J",
        "colab_type": "code",
        "colab": {}
      },
      "source": [
        "json_string = model.to_json()  # save \n",
        "model = tf.keras.models.model_from_json(json_string) # restore"
      ],
      "execution_count": 0,
      "outputs": []
    },
    {
      "cell_type": "markdown",
      "metadata": {
        "id": "8awepTWE6B-w",
        "colab_type": "text"
      },
      "source": [
        "using YAML"
      ]
    },
    {
      "cell_type": "code",
      "metadata": {
        "id": "frGJf22j6D0X",
        "colab_type": "code",
        "colab": {}
      },
      "source": [
        "yaml_string = model.to_yaml() # save\n",
        "model = tf.keras.models.model_from_yaml(yaml_string) # restore"
      ],
      "execution_count": 0,
      "outputs": []
    },
    {
      "cell_type": "markdown",
      "metadata": {
        "id": "klTrKd2_6J0Z",
        "colab_type": "text"
      },
      "source": [
        "save and load only weights"
      ]
    },
    {
      "cell_type": "code",
      "metadata": {
        "id": "FjvrBTzo6OYS",
        "colab_type": "code",
        "colab": {}
      },
      "source": [
        "model.save_weights('my_model_weights.h5',save_format='h5')\n",
        "model.load_weights('my_model_weights.ht')"
      ],
      "execution_count": 0,
      "outputs": []
    },
    {
      "cell_type": "code",
      "metadata": {
        "id": "EEqALnfR6hHc",
        "colab_type": "code",
        "colab": {
          "base_uri": "https://localhost:8080/",
          "height": 55
        },
        "outputId": "3f41a776-d271-4d38-9ad8-f6a8fbe72284"
      },
      "source": [
        "import tensorflow_datasets as tfds\n",
        "builders = tfds.list_builders()\n",
        "print(builders)"
      ],
      "execution_count": 16,
      "outputs": [
        {
          "output_type": "stream",
          "text": [
            "['abstract_reasoning', 'aeslc', 'aflw2k3d', 'amazon_us_reviews', 'arc', 'bair_robot_pushing_small', 'beans', 'big_patent', 'bigearthnet', 'billsum', 'binarized_mnist', 'binary_alpha_digits', 'c4', 'caltech101', 'caltech_birds2010', 'caltech_birds2011', 'cars196', 'cassava', 'cats_vs_dogs', 'celeb_a', 'celeb_a_hq', 'cfq', 'chexpert', 'cifar10', 'cifar100', 'cifar10_1', 'cifar10_corrupted', 'citrus_leaves', 'cityscapes', 'civil_comments', 'clevr', 'cmaterdb', 'cnn_dailymail', 'coco', 'coil100', 'colorectal_histology', 'colorectal_histology_large', 'cos_e', 'curated_breast_imaging_ddsm', 'cycle_gan', 'deep_weeds', 'definite_pronoun_resolution', 'diabetic_retinopathy_detection', 'div2k', 'dmlab', 'downsampled_imagenet', 'dsprites', 'dtd', 'duke_ultrasound', 'dummy_dataset_shared_generator', 'dummy_mnist', 'emnist', 'eraser_multi_rc', 'esnli', 'eurosat', 'fashion_mnist', 'flic', 'flores', 'food101', 'gap', 'gigaword', 'glue', 'groove', 'higgs', 'horses_or_humans', 'i_naturalist2017', 'image_label_folder', 'imagenet2012', 'imagenet2012_corrupted', 'imagenet_resized', 'imagenette', 'imagewang', 'imdb_reviews', 'iris', 'kitti', 'kmnist', 'lfw', 'librispeech', 'librispeech_lm', 'libritts', 'lm1b', 'lost_and_found', 'lsun', 'malaria', 'math_dataset', 'mnist', 'mnist_corrupted', 'movie_rationales', 'moving_mnist', 'multi_news', 'multi_nli', 'multi_nli_mismatch', 'natural_questions', 'newsroom', 'nsynth', 'omniglot', 'open_images_v4', 'opinosis', 'oxford_flowers102', 'oxford_iiit_pet', 'para_crawl', 'patch_camelyon', 'pet_finder', 'places365_small', 'plant_leaves', 'plant_village', 'plantae_k', 'qa4mre', 'quickdraw_bitmap', 'reddit_tifu', 'resisc45', 'rock_paper_scissors', 'rock_you', 'scan', 'scene_parse150', 'scicite', 'scientific_papers', 'shapes3d', 'smallnorb', 'snli', 'so2sat', 'speech_commands', 'squad', 'stanford_dogs', 'stanford_online_products', 'starcraft_video', 'sun397', 'super_glue', 'svhn_cropped', 'ted_hrlr_translate', 'ted_multi_translate', 'tf_flowers', 'the300w_lp', 'tiny_shakespeare', 'titanic', 'trivia_qa', 'uc_merced', 'ucf101', 'vgg_face2', 'visual_domain_decathlon', 'voc', 'wider_face', 'wikihow', 'wikipedia', 'wmt14_translate', 'wmt15_translate', 'wmt16_translate', 'wmt17_translate', 'wmt18_translate', 'wmt19_translate', 'wmt_t2t_translate', 'wmt_translate', 'xnli', 'xsum', 'yelp_polarity_reviews']\n"
          ],
          "name": "stdout"
        }
      ]
    },
    {
      "cell_type": "code",
      "metadata": {
        "id": "AM8u2y9fEFLA",
        "colab_type": "code",
        "colab": {}
      },
      "source": [
        "data,info = tfds.load(\"mnist\",with_info = True)\n",
        "train_data,test_data = data['train'], data['test']\n",
        "print(info)"
      ],
      "execution_count": 0,
      "outputs": []
    },
    {
      "cell_type": "markdown",
      "metadata": {
        "id": "QshR83MaEauU",
        "colab_type": "text"
      },
      "source": [
        "#creating dataset from numpy array"
      ]
    },
    {
      "cell_type": "code",
      "metadata": {
        "id": "IqhAEum_E17V",
        "colab_type": "code",
        "colab": {}
      },
      "source": [
        "import numpy as np\n",
        "num_items = 100\n",
        "num_list = np.arange(num_items)\n",
        "num_list_dataset = tf.data.Dataset.from_tensor_slices(num_list)"
      ],
      "execution_count": 0,
      "outputs": []
    },
    {
      "cell_type": "code",
      "metadata": {
        "id": "JncVO-CvFTKN",
        "colab_type": "code",
        "colab": {
          "base_uri": "https://localhost:8080/",
          "height": 35
        },
        "outputId": "eb854a2e-d94e-4845-f037-6ae11ee570ab"
      },
      "source": [
        "num_list_dataset"
      ],
      "execution_count": 19,
      "outputs": [
        {
          "output_type": "execute_result",
          "data": {
            "text/plain": [
              "<TensorSliceDataset shapes: (), types: tf.int64>"
            ]
          },
          "metadata": {
            "tags": []
          },
          "execution_count": 19
        }
      ]
    },
    {
      "cell_type": "markdown",
      "metadata": {
        "id": "WD0d3UXOFViG",
        "colab_type": "text"
      },
      "source": [
        "#download and use existing datasets"
      ]
    },
    {
      "cell_type": "code",
      "metadata": {
        "id": "WiDfYKCvFp2b",
        "colab_type": "code",
        "colab": {
          "base_uri": "https://localhost:8080/",
          "height": 615,
          "referenced_widgets": [
            "51b82a18598b4ef19127d5a03565b71f",
            "56c2d815f7df4e69918ff1e5deec197e",
            "ac8cf24377714ae3ae62bf386f358bdd",
            "f7fe3d22ec8a43a380650a212a29da00",
            "5e65d97bd6244cc8a6af2275b0ee51ce",
            "ce87ecb71ad54f55a8d17fff8bb7ec8b",
            "5e2030e650964e8bbce729eb2240974e",
            "128554c9102f4522b74925f6caa7d54c",
            "9ecbc68c9d3e473a935cda573fcf8511",
            "92ea93c3ce7247f0ae2a5d9538b077a2",
            "74da8ee59bf94663ac0d76398d21a5dd",
            "0a3041a0ed1441daa97b65f369dcd0fb",
            "1b40228df53c4a03a88b406921b9af74",
            "28ebc5a6d8d949f3b13325c7cd993879",
            "18daf6d726cb4ff8b294ba25567c742f",
            "7d7bf8b6701644aeb6134a991b183958",
            "62b75599433246aa8a4d3e86f36e634d",
            "0623cd7438554f1788b85f73eaccf836",
            "75e87dbf97654c4fb4d20566b6a7283f",
            "548ad0d4bd704cb783c3a5dbce5c8104",
            "a2b6eacc6b9b482eaff51c7adcf24fdf",
            "16ee3c3b4a4d4c70aa56285c876dbabe",
            "70d92b8ae8b54be682c9faa1d9034f67",
            "fe357d27015547539b08a19bd68e2d21",
            "c88e81e1fa64442782966865f8b7f0e6",
            "0ef9a67e27c146d0b6c48e9229ae1d47",
            "8c889700071f44c184c546037a8e9e1e",
            "e770f8eab78445b596f76701ba97683f",
            "358f374f39704223b516618606e85498",
            "c465157341fd423fbe9b6ac8a3831c3f",
            "ad1614d7c3de48c3a762f6bc8fef825a",
            "5bb0f17f12ac4ff7bd901e4350469bab",
            "4043df7d6fa8479397214903aa1d54ce",
            "ca81a1449ef446e1af8619dceac72d40",
            "bfe0b9e1c78a40fab6a29a8a094ac6d9",
            "797ad8e2f09b490a883e74fec791fe10",
            "d21b0367c0374864a75acafc088116c5",
            "d7c696c98cf447d8a23197900f13af2a",
            "51c1f77754ce4c459170d364855b0ac2",
            "a082c763b8c942ab8d378bac5dc2f2a8",
            "f5cb6c52dfc04fc89e1491a258b6b264",
            "79374ea19d0a47e987c69206f6fe27d6",
            "88c6247085364f2eb8852b450818240e",
            "a75f45b4b9c14748bb030a06718f8489",
            "8f75dd0c593a4ad5b158d7394c6ac466",
            "6a7c86f4f22b453d8893439432deb2a0",
            "e810f45e10544c908bb0ee9bdc9bb6e5",
            "78fac62650b3487eb1b1c4c312751307",
            "db13ba283c6d4352aeb900760666c132",
            "8f96df0d6616482aa89fb1668331fe31",
            "df4de34339ba451c868a4066349cb658",
            "b4fe704f0d5a4e5f936bae76a5eb5e78",
            "0138eae3f3954d58962825c33e930d55",
            "3e99f2d87ac7425caa2ade319cf81997",
            "a69e52b6c44a4b4dafee0d85b6407e70",
            "56597487aabe485eafcc5d8521bb55ea",
            "fa7ce162b22e4b07ba18507965a85a83",
            "99932b52fe74426ab29a6b1d4cd94497",
            "01f5b4f9d92b47509747ae32d94f390e",
            "5ad904a6e75e421180619650c7967ddf",
            "c7b55323ec4d42d9961f9e1ab30a361e",
            "a7c149e695a2476281e0cfd4693fc0bf",
            "1416870714154a11a9546d15d8263af0",
            "b390308a876140a98a2c418d50f6e7d7"
          ]
        },
        "outputId": "5c04a52c-7ec7-4430-f8a5-1be453cc044e"
      },
      "source": [
        "datasets, info = tfds.load('imdb_reviews',with_info = True,as_supervised = True)\n",
        "train_dataset = datasets['train']\n",
        "train_dataset = train_dataset.batch(5).shuffle(50).take(2)\n",
        "for data in train_dataset:\n",
        "  print(data)"
      ],
      "execution_count": 20,
      "outputs": [
        {
          "output_type": "stream",
          "text": [
            "\u001b[1mDownloading and preparing dataset imdb_reviews/plain_text/1.0.0 (download: 80.23 MiB, generated: Unknown size, total: 80.23 MiB) to /root/tensorflow_datasets/imdb_reviews/plain_text/1.0.0...\u001b[0m\n"
          ],
          "name": "stdout"
        },
        {
          "output_type": "display_data",
          "data": {
            "application/vnd.jupyter.widget-view+json": {
              "model_id": "51b82a18598b4ef19127d5a03565b71f",
              "version_minor": 0,
              "version_major": 2
            },
            "text/plain": [
              "HBox(children=(FloatProgress(value=1.0, bar_style='info', description='Dl Completed...', max=1.0, style=Progre…"
            ]
          },
          "metadata": {
            "tags": []
          }
        },
        {
          "output_type": "display_data",
          "data": {
            "application/vnd.jupyter.widget-view+json": {
              "model_id": "9ecbc68c9d3e473a935cda573fcf8511",
              "version_minor": 0,
              "version_major": 2
            },
            "text/plain": [
              "HBox(children=(FloatProgress(value=1.0, bar_style='info', description='Dl Size...', max=1.0, style=ProgressSty…"
            ]
          },
          "metadata": {
            "tags": []
          }
        },
        {
          "output_type": "stream",
          "text": [
            "\n",
            "\n",
            "\n",
            "\n"
          ],
          "name": "stdout"
        },
        {
          "output_type": "display_data",
          "data": {
            "application/vnd.jupyter.widget-view+json": {
              "model_id": "62b75599433246aa8a4d3e86f36e634d",
              "version_minor": 0,
              "version_major": 2
            },
            "text/plain": [
              "HBox(children=(FloatProgress(value=1.0, bar_style='info', max=1.0), HTML(value='')))"
            ]
          },
          "metadata": {
            "tags": []
          }
        },
        {
          "output_type": "stream",
          "text": [
            "\rShuffling and writing examples to /root/tensorflow_datasets/imdb_reviews/plain_text/1.0.0.incompleteS60L46/imdb_reviews-train.tfrecord\n"
          ],
          "name": "stdout"
        },
        {
          "output_type": "display_data",
          "data": {
            "application/vnd.jupyter.widget-view+json": {
              "model_id": "c88e81e1fa64442782966865f8b7f0e6",
              "version_minor": 0,
              "version_major": 2
            },
            "text/plain": [
              "HBox(children=(FloatProgress(value=0.0, max=25000.0), HTML(value='')))"
            ]
          },
          "metadata": {
            "tags": []
          }
        },
        {
          "output_type": "stream",
          "text": [
            "\r"
          ],
          "name": "stdout"
        },
        {
          "output_type": "display_data",
          "data": {
            "application/vnd.jupyter.widget-view+json": {
              "model_id": "4043df7d6fa8479397214903aa1d54ce",
              "version_minor": 0,
              "version_major": 2
            },
            "text/plain": [
              "HBox(children=(FloatProgress(value=1.0, bar_style='info', max=1.0), HTML(value='')))"
            ]
          },
          "metadata": {
            "tags": []
          }
        },
        {
          "output_type": "stream",
          "text": [
            "\rShuffling and writing examples to /root/tensorflow_datasets/imdb_reviews/plain_text/1.0.0.incompleteS60L46/imdb_reviews-test.tfrecord\n"
          ],
          "name": "stdout"
        },
        {
          "output_type": "display_data",
          "data": {
            "application/vnd.jupyter.widget-view+json": {
              "model_id": "f5cb6c52dfc04fc89e1491a258b6b264",
              "version_minor": 0,
              "version_major": 2
            },
            "text/plain": [
              "HBox(children=(FloatProgress(value=0.0, max=25000.0), HTML(value='')))"
            ]
          },
          "metadata": {
            "tags": []
          }
        },
        {
          "output_type": "stream",
          "text": [
            "\r"
          ],
          "name": "stdout"
        },
        {
          "output_type": "display_data",
          "data": {
            "application/vnd.jupyter.widget-view+json": {
              "model_id": "db13ba283c6d4352aeb900760666c132",
              "version_minor": 0,
              "version_major": 2
            },
            "text/plain": [
              "HBox(children=(FloatProgress(value=1.0, bar_style='info', max=1.0), HTML(value='')))"
            ]
          },
          "metadata": {
            "tags": []
          }
        },
        {
          "output_type": "stream",
          "text": [
            "\rShuffling and writing examples to /root/tensorflow_datasets/imdb_reviews/plain_text/1.0.0.incompleteS60L46/imdb_reviews-unsupervised.tfrecord\n"
          ],
          "name": "stdout"
        },
        {
          "output_type": "display_data",
          "data": {
            "application/vnd.jupyter.widget-view+json": {
              "model_id": "fa7ce162b22e4b07ba18507965a85a83",
              "version_minor": 0,
              "version_major": 2
            },
            "text/plain": [
              "HBox(children=(FloatProgress(value=0.0, max=50000.0), HTML(value='')))"
            ]
          },
          "metadata": {
            "tags": []
          }
        },
        {
          "output_type": "stream",
          "text": [
            "\u001b[1mDataset imdb_reviews downloaded and prepared to /root/tensorflow_datasets/imdb_reviews/plain_text/1.0.0. Subsequent calls will reuse this data.\u001b[0m\n",
            "\r(<tf.Tensor: shape=(5,), dtype=string, numpy=\n",
            "array([b'This is the first Guinea Pig film from Japan and this is the sickest, in my opinion. A bunch of guys torture a girl for several days before finally killing her. And at this point, I will say that these films are NOT real! They are faked horror films which try to be as realistic as possible.<br /><br />The scenes are sickening but also unrealistic in many cases. For example, when they kick the girl in the floor, we can clearly see how they kick and stump the floor near the girl! And how stupid this looks! The sound effects are also unrealistic and don\\'t make sense. Other scenes include animal intestines thrown on the girl, the girl exposed to loud noises for many hours, the ripping off of fingernails, worms placed on the wounds in the girl\\'s body, the eye pierced and mutilated in horrific detail and stuff like that. Very sick and mean spirited film and has absolutely nothing valuable or cinematically significant. This first entry is the sickest and most amateurish Guinea Pig, although it is not as bloody as the next part, Flowers of Flesh and Blood, which tries to be as shocking as possible.<br /><br />Guinea Pig: Devil\\'s Experiment is perhaps the sickest thing I\\'ve seen and the closest thing to snuff there is. This is still (of course) faked s(n/t)uff, the only difference to genuine \"snuff film\" is that no one dies or hurts for real in this film. I cannot recommend this to anyone since thi s is so s****y and repulsive. They who consider this is a great horror film understand nothing about cinema and the real meaning of it. I watched this as a curiosity (as the other parts in the series) and now I know how insignificant trash these are. They work only in shock level and that\\'s not too valuable cinematic achievement. Devil\\'s Experiment is perhaps the sickest film I\\'ve seen and Mermaid in a Manhole (Guinea Pig 4) is perhaps the most disgusting film I\\'ve seen. So these are pretty extreme in my book, but that\\'s all they are.',\n",
            "       b\"Of all the movies I have seen, and that's most of them, this is by far the best one made that is primarily about the U.S. Naval Airships (Blimps) during the WW-II era. Yes there are other good LTA related movies, but most use special effects more than any real-time shots. This Man's Navy has considerably more real-time footage of blimps etc. True, lots of corny dialog but that's what makes more interesting Hollywood movies, even today. P.S. I spent 10 years(out of 20) and have over 5,000 hours in Navy Airships of all types, from 1949 through 1959. Proud member of the Naval Airship Association etc. [ATC(LA/AC) USN Retired]\",\n",
            "       b'Terrfic film with a slightyly slow start - give it a chance to start cooking. Story builds in interest and complexity. Characters and storyline subvert expectation and cliche at all the right moments. Superb New York City locations - gritty, real - are a fantastic antidote to the commercial imperatives of \"Sex in the City\" - in fact, the entire film is an antidote to the HBO/Hollywood notion of New York City , sex and relationships. It\\'s a rare film that treats its characters so honestly and compassionately. LOVED IT! Great cast with notable performances by Steve Buscemi, Rosario Dawson, and her love interest (forgot his name!).',\n",
            "       b'Who would\\'ve imagined -- Hal Hartley creates a filmic corollary to Syriana while retaining his signature idiosyncratic style. The fusion is highly entertaining.<br /><br />Having not seen a Hal Hartley film for about a decade, I approached this one with some caution. His brilliant productions of the nineties had impressed critics and audiences with their unique style and dialog. The director\\'s earlier films featured colorful characters and offered close observations of life -- often in the region of Long Island, New York or in New York City itself -- that were offbeat and insightful.<br /><br />My initial caution stemmed from the description of this movie as a \"spy thriller\". To my pleasant surprise, Hartley manages to mesh his well established style and focus to produce a highly original drama of international intrigue. It works in more ways than one might imagine. Hartley\\'s film retains the dialog and character focus that are his trademarks, along with a singular cinematographic style.<br /><br />Moreover it is highly appropriate given the current situation in the world and the state of war that has been fostered by dark elements on all sides. Hartley has brought all his skills to something new -- a political film worthy of being mentioned in the same breath as Syriana. Truly he is coming into his own. The cast does a fine job of interpreting Hartley\\'s vision and style. Fans of Parker Posey will see her in full bloom here, still with us and more ripe and gorgeous than before.',\n",
            "       b\"I feel blessed to own what is known as the worst Steven Seagal movie ever made. I knew I was on to something special when Steven opened his mouth and someone else's voice came out. By the middle of the film my eyes were beginning to hurt and I was almost falling out of my chair with uncontrollable laughter.<br /><br />Steven is Steven (with an ever changing voice) and totally unbelievable in his role (as always). Who the hell lets people with bad nappy-hair pony tail mullets into the Forces anyway? He also always writes himself into totally unbelievable love interests with women at least 20 years his junior. The supporting actors all look like they've been shot in the dark - btw, did they shoot this movie in the dark with just a penlight torch for lighting? <br /><br />This is truly abominable in every way possible. Invite all your friends around and make a social event out of it - this one's truly special.\"],\n",
            "      dtype=object)>, <tf.Tensor: shape=(5,), dtype=int64, numpy=array([0, 1, 1, 1, 0])>)\n",
            "(<tf.Tensor: shape=(5,), dtype=string, numpy=\n",
            "array([b\"Tara Reid as an intellectual, Christian Slater(usually great) as a dollar store Constantine and Stephen Dorff as...well it's STEPHEN DORFF FOR Christ SAKE!!!! I personally just want to thank those brilliant casting directors for the hard work and effort. You guys are on. Heres an idea, just my humble lowly opinion as the movie going public but it follows directly with your previous choices,a movie about the most brilliant neuro-physicist in history invent one pill to cure all diseases ever known to man and get this, heres the clincher they have to be played by Jessica Simpson and Paris Hilton. I knew you guys would love that. Seriously though you owe me $7.50.\",\n",
            "       b'Some have compared this film to Deliverance. I believe Of Mice and Men is more appropriate. Our leading man, Heaton, definitely loves Spike. It is irrelevant and immaterial whether that is a sexual love. It is the reason Heaton does not leave Spike. He needs him. They need each other. As brothers, as family, as their only connection to humanity. The setting, scenario, minimal cast all add up to a fine film. Frankly, I did not care what happened to the characters. But, I did care about what the film maker did with them. He did well with them. I spent some time wondering how the ending would resemble Of Mice and Men. The soundtrack and cinematography were compelling and intriguing.',\n",
            "       b\"How Irish critics rave about this movie is beyond me. Overacted by the usual band of Irish actors dragged out for every Irish movie. Terrible script, with forced character quirks (the brown sauce). Romanticising all that is bad about Dublin. The attitude of 'ah, it's a dump but sure isnt it great all the same'. Plenty of tidbits purely for American audiences (the supermarket boss and his horribly forced catchphrase). And the nail in the coffin was Colm Meaney's character. A great actor forced to play this part that could've been written by a five year old. Cringeworthy stuff. The best thing about this movie is Farrell, and it's a bad when you have to say that. Well, at least he wasnt putting on his dreadful American accent. International Audiences be warned: stay at home and watch Snatch and Lock Stock. You'll have a better time. Intermission is a walk-outer\",\n",
            "       b'I liked this movie I remember there was one very well done scene in this movie where Riff Randell (played by P.J. Soles) is lying in her bed smoking pot and then she begins to visualize that the Ramones are in the room with her sing the song \"I Want You Around\" ...very very cool stuff.<br /><br />It was fun, energetic, quirky and cool. Yes I\\'ll admit that the ending is way-way over the top and far fetched ...but it doesn\\'t matter because it is fun this is a very fun movie. It\\'s Sex, Pot and Rock n Rocll forever<br /><br />I read that Cheap Trick was the band who was originally to star in this ..But I do not know if this is true or not',\n",
            "       b'This was another World War II message to the soldiers and to the Allies to be careful about spreading rumors. These were called \"instructional\" cartoons because it was a mixture of serious messages along with a funny-looking main character called \"Pvt. Snafu.\"<br /><br />All of us have imaginations, along with fears and what-have-you, and that\\'s what happens here as Pvt. Snafu incorrectly adds two and two to something he hears and comes up with \"five.\" You can start panics and all kinds of disasters if you spread enough rumors and enough people believe them. That includes losing confidence in your country and your cause, as pointed out here in this cartoon. A good way to lose a war is demoralize the enemy. That\\'s still being done today. <br /><br />\"We lost the war,\" declares one big baloney near the end of this cartoon. Amazing how some Americans still haven\\'t learned. This cartoon may be 65 years old but it sure has relevance today. As I write this, there were two terrorist bombings in Europe today and some people still think the \"War On Terror\" is just a bumper sticker slogan. Amazing.<br /><br />The writer, the famous \"Dr. Suess,\" uses analogies of \"hot air balloon juice\" here to present the above message. With Theodore Geisel (his real name) you know the rhymes will be clever.<br /><br />Nothing hilarious here, but it wasn\\'t meant to be. You have to understand the climate of 1943 and the justified paranoia that was out there during World War II. People forget that war could have easily wound up with the other side winning. It was a tense time'],\n",
            "      dtype=object)>, <tf.Tensor: shape=(5,), dtype=int64, numpy=array([0, 1, 0, 1, 1])>)\n"
          ],
          "name": "stdout"
        }
      ]
    },
    {
      "cell_type": "markdown",
      "metadata": {
        "id": "POAIBM5vGMMd",
        "colab_type": "text"
      },
      "source": [
        "**Dataset is a library for dealing with input data in a principled way.**"
      ]
    },
    {
      "cell_type": "markdown",
      "metadata": {
        "id": "wPXg0cSTG5J5",
        "colab_type": "text"
      },
      "source": [
        "1. Creation\n",
        "\n",
        "\n",
        "*   from_tensor_slices()\n",
        "*   from_tensors()\n",
        "*   from_generators\n",
        "\n"
      ]
    },
    {
      "cell_type": "markdown",
      "metadata": {
        "id": "z-Hz7Z8vHFNF",
        "colab_type": "text"
      },
      "source": [
        "2. Transformation\n",
        "\n",
        "*  batch()\n",
        "*  repeat()\n",
        "*  shuffle()\n",
        "*  map()\n",
        "*  filter()"
      ]
    },
    {
      "cell_type": "markdown",
      "metadata": {
        "id": "XfsYmBWmHRVd",
        "colab_type": "text"
      },
      "source": [
        "3. Iterators\n",
        "\n",
        "*  next_batch = iterator.get_next()"
      ]
    },
    {
      "cell_type": "markdown",
      "metadata": {
        "id": "YV9JJNeNHbTa",
        "colab_type": "text"
      },
      "source": [
        "#Mnist implemation using Estimators"
      ]
    },
    {
      "cell_type": "code",
      "metadata": {
        "id": "xPHrKEVWIrGR",
        "colab_type": "code",
        "colab": {}
      },
      "source": [
        "BUFFER_SIZE = 10000\n",
        "BATCH_SIZE = 64\n",
        "\n",
        "def input_fn(mode):\n",
        "  datasets, info = tfds.load(name='mnist',\n",
        "                                with_info=True,\n",
        "                                as_supervised=True)\n",
        "  mnist_dataset = (datasets['train'] if mode == tf.estimator.ModeKeys.TRAIN else\n",
        "                   datasets['test'])\n",
        "\n",
        "  def scale(image, label):\n",
        "    image = tf.cast(image, tf.float32)\n",
        "    image /= 255\n",
        "    return image, label\n",
        "\n",
        "  return mnist_dataset.map(scale).shuffle(BUFFER_SIZE).batch(BATCH_SIZE)"
      ],
      "execution_count": 0,
      "outputs": []
    },
    {
      "cell_type": "code",
      "metadata": {
        "id": "yM6UQ-SlJ4f3",
        "colab_type": "code",
        "colab": {
          "base_uri": "https://localhost:8080/",
          "height": 53
        },
        "outputId": "a5ad349e-7144-45d9-e2ed-2b23d369361c"
      },
      "source": [
        "train = input_fn(tf.estimator.ModeKeys.TRAIN)\n",
        "test = input_fn('test')\n",
        "print(test)\n",
        "print(train)"
      ],
      "execution_count": 29,
      "outputs": [
        {
          "output_type": "stream",
          "text": [
            "<DatasetV1Adapter shapes: ((None, 28, 28, 1), (None,)), types: (tf.float32, tf.int64)>\n",
            "<DatasetV1Adapter shapes: ((None, 28, 28, 1), (None,)), types: (tf.float32, tf.int64)>\n"
          ],
          "name": "stdout"
        }
      ]
    },
    {
      "cell_type": "code",
      "metadata": {
        "id": "Ag82w5VsKOTn",
        "colab_type": "code",
        "colab": {}
      },
      "source": [
        "tf.estimator.train_and_evaluate(Classifier,train_spec=tf.estimator.TrainSpec(input_fn = input_fn),eval_spec = tf.estimator.EvalSpec(input_fn = input_fn))"
      ],
      "execution_count": 0,
      "outputs": []
    },
    {
      "cell_type": "markdown",
      "metadata": {
        "id": "STRQ4_b1LrSI",
        "colab_type": "text"
      },
      "source": [
        "**Ragged Tensor** more efficient than padding(non uniform dim tensor)"
      ]
    },
    {
      "cell_type": "code",
      "metadata": {
        "id": "sZOSeD03MRHm",
        "colab_type": "code",
        "colab": {}
      },
      "source": [
        "ragged = tf.ragged.constant([[1,2,3],[3,4,5,6,],[1,2,3,4,5]])"
      ],
      "execution_count": 0,
      "outputs": []
    },
    {
      "cell_type": "code",
      "metadata": {
        "id": "TjTDFZAsMea2",
        "colab_type": "code",
        "colab": {
          "base_uri": "https://localhost:8080/",
          "height": 35
        },
        "outputId": "220078e7-9d4f-40bd-d664-9b86275cbcc8"
      },
      "source": [
        "ragged"
      ],
      "execution_count": 32,
      "outputs": [
        {
          "output_type": "execute_result",
          "data": {
            "text/plain": [
              "<tf.RaggedTensor [[1, 2, 3], [3, 4, 5, 6], [1, 2, 3, 4, 5]]>"
            ]
          },
          "metadata": {
            "tags": []
          },
          "execution_count": 32
        }
      ]
    },
    {
      "cell_type": "markdown",
      "metadata": {
        "id": "LxMWTlZoMfXs",
        "colab_type": "text"
      },
      "source": [
        "#Custom training"
      ]
    },
    {
      "cell_type": "markdown",
      "metadata": {
        "id": "jICFm99TNjzf",
        "colab_type": "text"
      },
      "source": [
        "1. GradientTape (records operations of automatic differentiation)"
      ]
    },
    {
      "cell_type": "code",
      "metadata": {
        "id": "J_oMe0GFM7Rc",
        "colab_type": "code",
        "colab": {
          "base_uri": "https://localhost:8080/",
          "height": 35
        },
        "outputId": "2c975985-74df-4d0a-b9bb-f761e205c341"
      },
      "source": [
        "x = tf.constant([4.0])\n",
        "with tf.GradientTape(persistent=True) as g:\n",
        "  g.watch(x)\n",
        "  y = x * x\n",
        "  z = y * y\n",
        "dz_dx = g.gradient(z,x)\n",
        "dy_dx = g.gradient(y,x)\n",
        "print(dy_dx,dz_dx)\n",
        "del g"
      ],
      "execution_count": 36,
      "outputs": [
        {
          "output_type": "stream",
          "text": [
            "tf.Tensor([8.], shape=(1,), dtype=float32) tf.Tensor([256.], shape=(1,), dtype=float32)\n"
          ],
          "name": "stdout"
        }
      ]
    },
    {
      "cell_type": "markdown",
      "metadata": {
        "id": "gOh8YhELNQ2q",
        "colab_type": "text"
      },
      "source": [
        "2. tf.gradient_function() : computes gradients with respect to input parameter with arguments.\n",
        "\n",
        "3. tf.value_and_gradient_function() : returns the value from the input function in addition to the list of derivatives of the input function with respect to its arguments.\n",
        "\n",
        "4. tf.implicit_gradients() :  computes the gradients of the outputs of the input function with regards to all trainable variables these outputs depend on."
      ]
    },
    {
      "cell_type": "markdown",
      "metadata": {
        "id": "VV0jOhMvOZtG",
        "colab_type": "text"
      },
      "source": [
        "#skeleton for custom gradient"
      ]
    },
    {
      "cell_type": "code",
      "metadata": {
        "id": "leY4stAbOueS",
        "colab_type": "code",
        "colab": {}
      },
      "source": [
        "@tf.function\n",
        "def train_step(inputs, labels):  \n",
        "  with tf.GradientTape() as tape:    \n",
        "    predictions = model(inputs, training=True)    \n",
        "    regularization_loss = // TBD according to the problem     \n",
        "    pred_loss = // TBD according to the problem    \n",
        "    total_loss = pred_loss + regularization_loss  \n",
        "gradients = tape.gradient(total_loss, model.trainable_variables)  \n",
        "optimizer.apply_gradients(zip(gradients, model.trainable_variables))"
      ],
      "execution_count": 0,
      "outputs": []
    },
    {
      "cell_type": "code",
      "metadata": {
        "id": "UIDPablTO6xA",
        "colab_type": "code",
        "colab": {}
      },
      "source": [
        "for epoch in range(NUM_EPOCHS):  \n",
        "  for inputs, labels in train_data:    \n",
        "    train_step(inputs, labels)  \n",
        "    print(\"Finished epoch\", epoch)"
      ],
      "execution_count": 0,
      "outputs": []
    },
    {
      "cell_type": "markdown",
      "metadata": {
        "id": "gpGxuzbTPBfq",
        "colab_type": "text"
      },
      "source": [
        "#Using TensorFlow 2.x effectively\n",
        "\n",
        "2.x Native code should follow a number of best practices:\n",
        "\n",
        "1. Default to higher-level APIs such as tf.keras (or in certain situations, Estimators) and avoid lower-level APIs with direct computational graph manipulation unless needed for custom operations. So, in general, no tf.Session, tf.Session.run.\n",
        "\n",
        "2. Add a tf.function decorator to make it run efficiently in graph mode with AutoGraph. Only use tf.function to decorate high-level computations; all functions invoked by high-level computations are automatically annotated on your behalf. In this way, you get the best of both worlds: high-level APIs with eager support, and the efficiency of computational graphs.\n",
        "\n",
        "3. Use Python objects to track variables and losses. So, be Pythonic and use tf.Variable instead of tf.get_variable. In this way, variables will be treated with the normal Python scope.\n",
        "\n",
        "4. Use tf.data datasets for data inputs and provide these objects directly to tf.keras.Model.fit. In this way, you will have a collection of high-performance classes for manipulating data and will adopt the best way to stream training data from disk.\n",
        "\n",
        "5. Use tf.layers modules to combine predefined \"lego bricks\" whenever it is possible, either with Sequential or Functional APIs, or with Subclassing. Use Estimators if you need to have production-ready models, in particular if these models need to scale on multiple GPUs, CPUs, or on multiple servers. When needed, consider converting a tf.keras model into an Estimator.\n",
        "\n",
        "6. Consider using a distribution strategy across GPUs, CPUs, and multiple servers. With tf.keras it is easy.\n"
      ]
    },
    {
      "cell_type": "markdown",
      "metadata": {
        "id": "hhwLe3t8TMat",
        "colab_type": "text"
      },
      "source": [
        "#Summary"
      ]
    },
    {
      "cell_type": "markdown",
      "metadata": {
        "id": "cCADIq-nU_Fh",
        "colab_type": "text"
      },
      "source": [
        "  • tf.data can be used to load models in a very efficient way.\n",
        "\n",
        "  • tf.keras and Estimators are high-level libraries where the power of   TensorFlow 1.x is still accessible via tf.* lower-level libraries. tf.keras supports eager computation while still retaining the performance of lower-level computational graphs via tf.function. tf.hub is a nice collection of pretrained models that can be used immediately.\n",
        "\n",
        "  • Distribution Strategies allow training to be run on CPUs, GPUs, and TPUs.\n",
        "\n",
        "  • SavedModel can be served on multiple platforms\n",
        "\n",
        "\n"
      ]
    }
  ]
}