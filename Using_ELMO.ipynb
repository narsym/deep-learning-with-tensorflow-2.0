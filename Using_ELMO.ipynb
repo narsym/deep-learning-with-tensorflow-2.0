{
  "nbformat": 4,
  "nbformat_minor": 0,
  "metadata": {
    "colab": {
      "name": "Using ELMO.ipynb",
      "provenance": [],
      "authorship_tag": "ABX9TyOB+nhvN8Mh9EDS44Wp6puB",
      "include_colab_link": true
    },
    "kernelspec": {
      "name": "python3",
      "display_name": "Python 3"
    }
  },
  "cells": [
    {
      "cell_type": "markdown",
      "metadata": {
        "id": "view-in-github",
        "colab_type": "text"
      },
      "source": [
        "<a href=\"https://colab.research.google.com/github/narsym/deep-learning-with-tensorflow-2.0/blob/master/Using_ELMO.ipynb\" target=\"_parent\"><img src=\"https://colab.research.google.com/assets/colab-badge.svg\" alt=\"Open In Colab\"/></a>"
      ]
    },
    {
      "cell_type": "markdown",
      "metadata": {
        "id": "pbOaJXoPjwsv",
        "colab_type": "text"
      },
      "source": [
        "#Tensorflow 2.0 does not support ELMO in the HUB"
      ]
    },
    {
      "cell_type": "code",
      "metadata": {
        "id": "fdOS5HqfiOO3",
        "colab_type": "code",
        "colab": {}
      },
      "source": [
        "import tensorflow as tf\n",
        "import tensorflow_hub as hub"
      ],
      "execution_count": 0,
      "outputs": []
    },
    {
      "cell_type": "markdown",
      "metadata": {
        "id": "4Lt5r6zkj6dn",
        "colab_type": "text"
      },
      "source": [
        "So, we use it with tensorflow 1.0 version"
      ]
    },
    {
      "cell_type": "code",
      "metadata": {
        "id": "zQrA3wu-ia9_",
        "colab_type": "code",
        "colab": {}
      },
      "source": [
        "module_url = \"https://tfhub.dev/google/elmo/2\""
      ],
      "execution_count": 0,
      "outputs": []
    },
    {
      "cell_type": "markdown",
      "metadata": {
        "id": "Q73Lqb1Wj_ja",
        "colab_type": "text"
      },
      "source": [
        "Disable eager execution"
      ]
    },
    {
      "cell_type": "code",
      "metadata": {
        "id": "I_7UJ27rif-B",
        "colab_type": "code",
        "colab": {}
      },
      "source": [
        "tf.compat.v1.disable_eager_execution()"
      ],
      "execution_count": 0,
      "outputs": []
    },
    {
      "cell_type": "markdown",
      "metadata": {
        "id": "PSDTeDVUkDM8",
        "colab_type": "text"
      },
      "source": [
        "Instantiate with elmo with hub.Module, and rest of the code as below"
      ]
    },
    {
      "cell_type": "code",
      "metadata": {
        "id": "Q-KRz7Ubikdp",
        "colab_type": "code",
        "colab": {
          "base_uri": "https://localhost:8080/",
          "height": 72
        },
        "outputId": "13d7460b-1978-4b9b-bba2-87dfcf03bdc8"
      },
      "source": [
        "elmo = hub.Module(module_url, trainable = False)\n",
        "embeddings = elmo([\n",
        "                   'i like green eggs and ham',\n",
        "                   'would you eat them in a box'\n",
        "], signature = 'default', as_dict = True)['elmo']\n",
        "print(embeddings.shape)  "
      ],
      "execution_count": 4,
      "outputs": [
        {
          "output_type": "stream",
          "text": [
            "INFO:tensorflow:Saver not created because there are no variables in the graph to restore\n"
          ],
          "name": "stdout"
        },
        {
          "output_type": "stream",
          "text": [
            "INFO:tensorflow:Saver not created because there are no variables in the graph to restore\n"
          ],
          "name": "stderr"
        },
        {
          "output_type": "stream",
          "text": [
            "(2, 7, 1024)\n"
          ],
          "name": "stdout"
        }
      ]
    },
    {
      "cell_type": "markdown",
      "metadata": {
        "id": "AhbQ2VFxjDUs",
        "colab_type": "text"
      },
      "source": [
        "#In Future when tensorflow 2.0 supports ELMO the code might look like this."
      ]
    },
    {
      "cell_type": "code",
      "metadata": {
        "id": "wDtxG4tzje_k",
        "colab_type": "code",
        "colab": {}
      },
      "source": [
        "module_url = \"https://tfhub.dev/google/tf2-preview/elmo/2\"\n",
        "embed = hub.KerasLayer(module_url)\n",
        "embeddings = embed([   \n",
        "                    \"i like green eggs and ham\",   \n",
        "                    \"would you eat them in a box\"\n",
        "])[\"elmo\"]\n",
        "print(embeddings.shape)"
      ],
      "execution_count": 0,
      "outputs": []
    }
  ]
}