{
  "nbformat": 4,
  "nbformat_minor": 0,
  "metadata": {
    "colab": {
      "name": "MNIST GAN.ipynb",
      "provenance": [],
      "collapsed_sections": [],
      "authorship_tag": "ABX9TyNJKjjhYo8F9bw4YesjU7fx",
      "include_colab_link": true
    },
    "kernelspec": {
      "name": "python3",
      "display_name": "Python 3"
    },
    "accelerator": "GPU"
  },
  "cells": [
    {
      "cell_type": "markdown",
      "metadata": {
        "id": "view-in-github",
        "colab_type": "text"
      },
      "source": [
        "<a href=\"https://colab.research.google.com/github/narsym/deep-learning-with-tensorflow-2.0/blob/master/MNIST_GAN.ipynb\" target=\"_parent\"><img src=\"https://colab.research.google.com/assets/colab-badge.svg\" alt=\"Open In Colab\"/></a>"
      ]
    },
    {
      "cell_type": "code",
      "metadata": {
        "id": "45-64F9QAPSz",
        "colab_type": "code",
        "colab": {}
      },
      "source": [
        "import tensorflow as tf\n",
        "from tensorflow.keras import datasets\n",
        "import numpy as np\n",
        "import matplotlib.pyplot as plt\n",
        "\n",
        "randomDim = 10"
      ],
      "execution_count": 0,
      "outputs": []
    },
    {
      "cell_type": "code",
      "metadata": {
        "id": "PPrLI20JAulD",
        "colab_type": "code",
        "outputId": "aa6c07ab-621c-4207-a49f-69bd6f74109b",
        "colab": {
          "base_uri": "https://localhost:8080/",
          "height": 53
        }
      },
      "source": [
        "(X_train, _), (_, _) = datasets.mnist.load_data()\n",
        "X_train = (X_train.astype(np.float32) -127.5) / 127.5"
      ],
      "execution_count": 2,
      "outputs": [
        {
          "output_type": "stream",
          "text": [
            "Downloading data from https://storage.googleapis.com/tensorflow/tf-keras-datasets/mnist.npz\n",
            "11493376/11490434 [==============================] - 0s 0us/step\n"
          ],
          "name": "stdout"
        }
      ]
    },
    {
      "cell_type": "code",
      "metadata": {
        "id": "A3SY782uBHHc",
        "colab_type": "code",
        "colab": {}
      },
      "source": [
        "X_train = X_train.reshape(60000,784)"
      ],
      "execution_count": 0,
      "outputs": []
    },
    {
      "cell_type": "code",
      "metadata": {
        "id": "ZZJALsodBNvp",
        "colab_type": "code",
        "colab": {}
      },
      "source": [
        "from tensorflow.keras.models import Sequential\n",
        "from tensorflow.keras import layers\n",
        "generator = Sequential()\n",
        "generator.add(layers.Dense(256, input_dim = randomDim))\n",
        "generator.add(layers.LeakyReLU(0.2))\n",
        "generator.add(layers.Dense(512))\n",
        "generator.add(layers.LeakyReLU(0.2))\n",
        "generator.add(layers.Dense(1024))\n",
        "generator.add(layers.LeakyReLU(0.2))\n",
        "generator.add(layers.Dense(784,activation = 'tanh'))"
      ],
      "execution_count": 0,
      "outputs": []
    },
    {
      "cell_type": "code",
      "metadata": {
        "id": "pdGJWggPCkzu",
        "colab_type": "code",
        "colab": {}
      },
      "source": [
        "discriminator = Sequential()\n",
        "discriminator.add(layers.Dense(1024,input_dim = 784))\n",
        "discriminator.add(layers.LeakyReLU(0.2))\n",
        "discriminator.add(layers.Dropout(0.3))\n",
        "discriminator.add(layers.Dense(512))\n",
        "discriminator.add(layers.LeakyReLU(0.2))\n",
        "discriminator.add(layers.Dense(256))\n",
        "discriminator.add(layers.LeakyReLU(0.2))\n",
        "discriminator.add(layers.Dropout(0.3))\n",
        "discriminator.add(layers.Dense(1, activation = 'sigmoid'))"
      ],
      "execution_count": 0,
      "outputs": []
    },
    {
      "cell_type": "code",
      "metadata": {
        "id": "QZc8sXVWLSTQ",
        "colab_type": "code",
        "colab": {}
      },
      "source": [
        "discriminator.trainable = False\n",
        "ganInput = layers.Input(shape = (randomDim,))\n",
        "x = generator(ganInput)\n",
        "ganOutput = discriminator(x)\n",
        "gan = tf.keras.models.Model(inputs = ganInput, outputs = ganOutput)"
      ],
      "execution_count": 0,
      "outputs": []
    },
    {
      "cell_type": "code",
      "metadata": {
        "id": "9HeeyygnL2kT",
        "colab_type": "code",
        "colab": {}
      },
      "source": [
        "discriminator.compile(loss = 'binary_crossentropy', optimizer = 'adam')\n",
        "gan.compile(loss = 'binary_crossentropy', optimizer = 'adam')"
      ],
      "execution_count": 0,
      "outputs": []
    },
    {
      "cell_type": "code",
      "metadata": {
        "id": "s0wseXItSk4q",
        "colab_type": "code",
        "colab": {}
      },
      "source": [
        "!mkdir images"
      ],
      "execution_count": 0,
      "outputs": []
    },
    {
      "cell_type": "code",
      "metadata": {
        "id": "QtwyzWl1SViA",
        "colab_type": "code",
        "colab": {}
      },
      "source": [
        "def saveGeneratedImages(epoch, examples=100, dim=(10, 10), figsize=(10, 10)):    \n",
        "  noise = np.random.normal(0, 1, size=[examples, randomDim])    \n",
        "  generatedImages = generator.predict(noise)    \n",
        "  generatedImages = generatedImages.reshape(examples, 28, 28)    \n",
        "  plt.figure(figsize=figsize)    \n",
        "  for i in range(generatedImages.shape[0]):        \n",
        "    plt.subplot(dim[0], dim[1], i+1)        \n",
        "    plt.imshow(generatedImages[i], interpolation='nearest', cmap='gray_r')        \n",
        "    plt.axis('off')    \n",
        "    plt.tight_layout()    \n",
        "    plt.savefig('./images/gan_generated_image_epoch_%d.png' % epoch)"
      ],
      "execution_count": 0,
      "outputs": []
    },
    {
      "cell_type": "code",
      "metadata": {
        "id": "2OU8n9NcNkFJ",
        "colab_type": "code",
        "colab": {}
      },
      "source": [
        "dlosses = []\n",
        "glosses = []\n",
        "def train(epochs = 1,batch_size = 128):\n",
        "  batchCount = int(X_train.shape[0] / batch_size)\n",
        "  print('Epochs:', epochs)\n",
        "  print('Batch size:', batch_size)\n",
        "  print('Batches per epoch:', batchCount)\n",
        "\n",
        "  for e in range(1, epochs + 1):\n",
        "    print ('-'*15, 'Epoch %d' % e, '-'*15)\n",
        "    for _ in range(batchCount):\n",
        "      noise = np.random.normal(0, 1, size = [batch_size, randomDim])\n",
        "      imageBatch = X_train[np.random.randint(0, X_train.shape[0], size = batch_size)]\n",
        "      generatedImages = generator.predict(noise)\n",
        "      X = np.concatenate([imageBatch, generatedImages])\n",
        "\n",
        "      yDis = np.zeros(2 * batch_size)\n",
        "      yDis[:batch_size] = 0.9\n",
        "      discriminator.trainable = True\n",
        "      dloss = discriminator.train_on_batch(X, yDis)\n",
        "\n",
        "      noise = np.random.normal(0, 1, size = [batch_size, randomDim])\n",
        "      yGen = np.ones(batch_size)\n",
        "      discriminator.trainable = False\n",
        "      gloss = gan.train_on_batch(noise, yGen)\n",
        "\n",
        "      dlosses.append(dloss)\n",
        "      glosses.append(gloss)\n",
        "\n",
        "      if e == 1 or e % 20 == 0:            \n",
        "        saveGeneratedImages(e)\n",
        "\n",
        "train()"
      ],
      "execution_count": 0,
      "outputs": []
    },
    {
      "cell_type": "code",
      "metadata": {
        "id": "Rzrtj9R4RypB",
        "colab_type": "code",
        "colab": {}
      },
      "source": [
        "def plotLoss(epoch):    \n",
        "  plt.figure(figsize=(10, 8))    \n",
        "  plt.plot(dLosses, label='Discriminitive loss')    \n",
        "  plt.plot(gLosses, label='Generative loss')    \n",
        "  plt.xlabel('Epoch')    \n",
        "  plt.ylabel('Loss')    \n",
        "  plt.legend()    \n",
        "  plt.savefig('images/gan_loss_epoch_%d.png' % epoch)"
      ],
      "execution_count": 0,
      "outputs": []
    },
    {
      "cell_type": "code",
      "metadata": {
        "id": "it3YQEgMTih6",
        "colab_type": "code",
        "colab": {}
      },
      "source": [
        ""
      ],
      "execution_count": 0,
      "outputs": []
    }
  ]
}