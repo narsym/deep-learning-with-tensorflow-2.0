{
  "nbformat": 4,
  "nbformat_minor": 0,
  "metadata": {
    "colab": {
      "name": "Converting model to estimator.ipynb",
      "provenance": [],
      "authorship_tag": "ABX9TyN3F04Ug8SVIrheLkXiZDZI",
      "include_colab_link": true
    },
    "kernelspec": {
      "name": "python3",
      "display_name": "Python 3"
    }
  },
  "cells": [
    {
      "cell_type": "markdown",
      "metadata": {
        "id": "view-in-github",
        "colab_type": "text"
      },
      "source": [
        "<a href=\"https://colab.research.google.com/github/narsym/deep-learning-with-tensorflow-2.0/blob/master/Converting_model_to_estimator.ipynb\" target=\"_parent\"><img src=\"https://colab.research.google.com/assets/colab-badge.svg\" alt=\"Open In Colab\"/></a>"
      ]
    },
    {
      "cell_type": "markdown",
      "metadata": {
        "id": "TjzyF4HY8cXw",
        "colab_type": "text"
      },
      "source": [
        "#Converting model to estimator"
      ]
    },
    {
      "cell_type": "code",
      "metadata": {
        "id": "Tbp_mpKY1YLN",
        "colab_type": "code",
        "colab": {}
      },
      "source": [
        "import os\n",
        "import numpy as np\n",
        "import time\n",
        "import tensorflow as tf"
      ],
      "execution_count": 0,
      "outputs": []
    },
    {
      "cell_type": "markdown",
      "metadata": {
        "id": "TyTMIN8M8hTG",
        "colab_type": "text"
      },
      "source": [
        "**Getting Fashion Mnist data**"
      ]
    },
    {
      "cell_type": "code",
      "metadata": {
        "id": "pTSF-78R1obR",
        "colab_type": "code",
        "colab": {
          "base_uri": "https://localhost:8080/",
          "height": 162
        },
        "outputId": "4e436bc6-8fcc-440c-855f-7581671d3df7"
      },
      "source": [
        "LABEL_DIMENSIONS = 10\n",
        "(train_images,train_labels), (test_images,test_labels) = tf.keras.datasets.fashion_mnist.load_data()\n",
        "TRAINING_SIZE = len(train_images)\n",
        "TEST_SIZE = len(test_images)"
      ],
      "execution_count": 2,
      "outputs": [
        {
          "output_type": "stream",
          "text": [
            "Downloading data from https://storage.googleapis.com/tensorflow/tf-keras-datasets/train-labels-idx1-ubyte.gz\n",
            "32768/29515 [=================================] - 0s 0us/step\n",
            "Downloading data from https://storage.googleapis.com/tensorflow/tf-keras-datasets/train-images-idx3-ubyte.gz\n",
            "26427392/26421880 [==============================] - 1s 0us/step\n",
            "Downloading data from https://storage.googleapis.com/tensorflow/tf-keras-datasets/t10k-labels-idx1-ubyte.gz\n",
            "8192/5148 [===============================================] - 0s 0us/step\n",
            "Downloading data from https://storage.googleapis.com/tensorflow/tf-keras-datasets/t10k-images-idx3-ubyte.gz\n",
            "4423680/4422102 [==============================] - 0s 0us/step\n"
          ],
          "name": "stdout"
        }
      ]
    },
    {
      "cell_type": "markdown",
      "metadata": {
        "id": "rhRFSMSP8v6E",
        "colab_type": "text"
      },
      "source": [
        "Type casting training and testing images into float32"
      ]
    },
    {
      "cell_type": "code",
      "metadata": {
        "id": "j79Oc7UN1_fs",
        "colab_type": "code",
        "colab": {}
      },
      "source": [
        "train_images = np.asarray(train_images,dtype = np.float32) / 255\n",
        "test_images = np.asarray(test_images,dtype = np.float32) / 255"
      ],
      "execution_count": 0,
      "outputs": []
    },
    {
      "cell_type": "markdown",
      "metadata": {
        "id": "sbXTuNvB864J",
        "colab_type": "text"
      },
      "source": [
        "Reshaping Train and Test Images"
      ]
    },
    {
      "cell_type": "code",
      "metadata": {
        "id": "XqTzqsee2Lfh",
        "colab_type": "code",
        "colab": {}
      },
      "source": [
        "train_images = train_images.reshape((TRAINING_SIZE,28,28,1))\n",
        "test_images = test_images.reshape((TEST_SIZE,28,28,1))"
      ],
      "execution_count": 0,
      "outputs": []
    },
    {
      "cell_type": "markdown",
      "metadata": {
        "id": "420SW_bn9Hn5",
        "colab_type": "text"
      },
      "source": [
        "Creating one hot encodings for train and test labels"
      ]
    },
    {
      "cell_type": "code",
      "metadata": {
        "id": "disH_MkA2jq6",
        "colab_type": "code",
        "colab": {}
      },
      "source": [
        "train_labels = tf.keras.utils.to_categorical(train_labels, LABEL_DIMENSIONS)\n",
        "test_labels = tf.keras.utils.to_categorical(test_labels, LABEL_DIMENSIONS)"
      ],
      "execution_count": 0,
      "outputs": []
    },
    {
      "cell_type": "markdown",
      "metadata": {
        "id": "iC7yIOxG9M5s",
        "colab_type": "text"
      },
      "source": [
        "Type casting train and test labels"
      ]
    },
    {
      "cell_type": "code",
      "metadata": {
        "id": "0zxnjq7v2wH9",
        "colab_type": "code",
        "colab": {
          "base_uri": "https://localhost:8080/",
          "height": 35
        },
        "outputId": "19f5f90d-aab6-4de5-b960-7b9d12b09751"
      },
      "source": [
        "train_labels = np.asarray(train_labels,dtype = np.float32)\n",
        "test_labels = np.asarray(test_labels,dtype = np.float32)\n",
        "print(train_labels.shape,test_labels.shape)  "
      ],
      "execution_count": 7,
      "outputs": [
        {
          "output_type": "stream",
          "text": [
            "(60000, 10) (10000, 10)\n"
          ],
          "name": "stdout"
        }
      ]
    },
    {
      "cell_type": "markdown",
      "metadata": {
        "id": "kg2s14EG3Cn8",
        "colab_type": "text"
      },
      "source": [
        "#Conv Model with Functional API"
      ]
    },
    {
      "cell_type": "code",
      "metadata": {
        "id": "nzLThJP73M5Z",
        "colab_type": "code",
        "colab": {
          "base_uri": "https://localhost:8080/",
          "height": 489
        },
        "outputId": "51cdebff-8f08-49cc-d41a-6dc87033e4ca"
      },
      "source": [
        "inputs = tf.keras.Input(shape = (28,28,1))\n",
        "x = tf.keras.layers.Conv2D(filters = 32,kernel_size = (3,3),activation = 'relu')(inputs)\n",
        "x = tf.keras.layers.MaxPooling2D(pool_size = (2,2),strides = 2)(x)\n",
        "x = tf.keras.layers.Conv2D(filters = 64,kernel_size = (3,3),activation = 'relu')(x)\n",
        "x = tf.keras.layers.MaxPooling2D(pool_size = (2,2),strides = 2)(x)\n",
        "x = tf.keras.layers.Conv2D(filters = 64,kernel_size = (3,3),activation = 'relu')(x)\n",
        "x = tf.keras.layers.Flatten()(x)\n",
        "x = tf.keras.layers.Dense(64,activation = 'relu')(x)\n",
        "prediction = tf.keras.layers.Dense(LABEL_DIMENSIONS,activation = 'softmax')(x)\n",
        "model = tf.keras.models.Model(inputs = inputs,outputs = prediction)\n",
        "model.summary()"
      ],
      "execution_count": 13,
      "outputs": [
        {
          "output_type": "stream",
          "text": [
            "Model: \"model\"\n",
            "_________________________________________________________________\n",
            "Layer (type)                 Output Shape              Param #   \n",
            "=================================================================\n",
            "input_3 (InputLayer)         [(None, 28, 28, 1)]       0         \n",
            "_________________________________________________________________\n",
            "conv2d_5 (Conv2D)            (None, 26, 26, 32)        320       \n",
            "_________________________________________________________________\n",
            "max_pooling2d_4 (MaxPooling2 (None, 13, 13, 32)        0         \n",
            "_________________________________________________________________\n",
            "conv2d_6 (Conv2D)            (None, 11, 11, 64)        18496     \n",
            "_________________________________________________________________\n",
            "max_pooling2d_5 (MaxPooling2 (None, 5, 5, 64)          0         \n",
            "_________________________________________________________________\n",
            "conv2d_7 (Conv2D)            (None, 3, 3, 64)          36928     \n",
            "_________________________________________________________________\n",
            "flatten_1 (Flatten)          (None, 576)               0         \n",
            "_________________________________________________________________\n",
            "dense (Dense)                (None, 64)                36928     \n",
            "_________________________________________________________________\n",
            "dense_1 (Dense)              (None, 10)                650       \n",
            "=================================================================\n",
            "Total params: 93,322\n",
            "Trainable params: 93,322\n",
            "Non-trainable params: 0\n",
            "_________________________________________________________________\n"
          ],
          "name": "stdout"
        }
      ]
    },
    {
      "cell_type": "markdown",
      "metadata": {
        "id": "n8Ll1jAp9Soz",
        "colab_type": "text"
      },
      "source": [
        "Optimizer and compiling"
      ]
    },
    {
      "cell_type": "code",
      "metadata": {
        "id": "c0cMBtYX4pUf",
        "colab_type": "code",
        "colab": {}
      },
      "source": [
        "optimizer = tf.keras.optimizers.SGD()\n",
        "model.compile(optimizer = optimizer,loss = 'categorical_crossentropy',metrics = ['accuracy'])"
      ],
      "execution_count": 0,
      "outputs": []
    },
    {
      "cell_type": "markdown",
      "metadata": {
        "id": "kGS1AJVJ9ZGC",
        "colab_type": "text"
      },
      "source": [
        "**STRATEGY for ESTIMATOR (either cpu or gpu)**"
      ]
    },
    {
      "cell_type": "code",
      "metadata": {
        "id": "o4eSB_j85Hod",
        "colab_type": "code",
        "colab": {
          "base_uri": "https://localhost:8080/",
          "height": 255
        },
        "outputId": "3b6ba98f-3b66-4bb9-f0e6-871f57450bc4"
      },
      "source": [
        "strategy = None #CPU\n",
        "#strategy = tf.distribute.MirroredStrategy() # GPU\n",
        "config = tf.estimator.RunConfig(train_distribute=strategy)\n",
        "estimator = tf.keras.estimator.model_to_estimator(model,config = config)"
      ],
      "execution_count": 20,
      "outputs": [
        {
          "output_type": "stream",
          "text": [
            "WARNING:tensorflow:Using temporary folder as model directory: /tmp/tmp7zguglbn\n",
            "INFO:tensorflow:Using the Keras model provided.\n",
            "WARNING:tensorflow:From /usr/local/lib/python3.6/dist-packages/tensorflow/python/ops/resource_variable_ops.py:1666: calling BaseResourceVariable.__init__ (from tensorflow.python.ops.resource_variable_ops) with constraint is deprecated and will be removed in a future version.\n",
            "Instructions for updating:\n",
            "If using Keras pass *_constraint arguments to layers.\n",
            "INFO:tensorflow:Using config: {'_model_dir': '/tmp/tmp7zguglbn', '_tf_random_seed': None, '_save_summary_steps': 100, '_save_checkpoints_steps': None, '_save_checkpoints_secs': 600, '_session_config': allow_soft_placement: true\n",
            "graph_options {\n",
            "  rewrite_options {\n",
            "    meta_optimizer_iterations: ONE\n",
            "  }\n",
            "}\n",
            ", '_keep_checkpoint_max': 5, '_keep_checkpoint_every_n_hours': 10000, '_log_step_count_steps': 100, '_train_distribute': None, '_device_fn': None, '_protocol': None, '_eval_distribute': None, '_experimental_distribute': None, '_experimental_max_worker_delay_secs': None, '_session_creation_timeout_secs': 7200, '_service': None, '_cluster_spec': ClusterSpec({}), '_task_type': 'worker', '_task_id': 0, '_global_id_in_cluster': 0, '_master': '', '_evaluation_master': '', '_is_chief': True, '_num_ps_replicas': 0, '_num_worker_replicas': 1}\n"
          ],
          "name": "stdout"
        }
      ]
    },
    {
      "cell_type": "markdown",
      "metadata": {
        "id": "-R9qFS569lgg",
        "colab_type": "text"
      },
      "source": [
        "Creating dataset for estimator"
      ]
    },
    {
      "cell_type": "code",
      "metadata": {
        "id": "uhjvuqXh5Y-B",
        "colab_type": "code",
        "colab": {}
      },
      "source": [
        "def input_fn(images,labels,epochs,batch_size):\n",
        "  dataset = tf.data.Dataset.from_tensor_slices((images,labels))\n",
        "  SHUFFLE_SIZE = 5000\n",
        "  dataset = dataset.shuffle(SHUFFLE_SIZE).repeat(epochs).batch(batch_size)\n",
        "  dataset = dataset.prefetch(None)\n",
        "  return dataset"
      ],
      "execution_count": 0,
      "outputs": []
    },
    {
      "cell_type": "markdown",
      "metadata": {
        "id": "NlU5HKQC9qcX",
        "colab_type": "text"
      },
      "source": [
        "Training estimator on Cpu"
      ]
    },
    {
      "cell_type": "code",
      "metadata": {
        "id": "8Q2-E9jY6qwy",
        "colab_type": "code",
        "colab": {
          "base_uri": "https://localhost:8080/",
          "height": 1000
        },
        "outputId": "a7cf86d8-fbbd-4fad-b919-c94ced55eef3"
      },
      "source": [
        "BATCH_SIZE = 512\n",
        "EPOCHS = 50\n",
        "estimator_train_result = estimator.train(input_fn = lambda:input_fn(train_images,train_labels,epochs = EPOCHS,batch_size = BATCH_SIZE))\n",
        "print(estimator_train_result)"
      ],
      "execution_count": 22,
      "outputs": [
        {
          "output_type": "stream",
          "text": [
            "WARNING:tensorflow:From /usr/local/lib/python3.6/dist-packages/tensorflow/python/training/training_util.py:236: Variable.initialized_value (from tensorflow.python.ops.variables) is deprecated and will be removed in a future version.\n",
            "Instructions for updating:\n",
            "Use Variable.read_value. Variables in 2.X are initialized automatically both in eager and graph (inside tf.defun) contexts.\n",
            "INFO:tensorflow:Calling model_fn.\n",
            "INFO:tensorflow:Done calling model_fn.\n",
            "INFO:tensorflow:Warm-starting with WarmStartSettings: WarmStartSettings(ckpt_to_initialize_from='/tmp/tmp7zguglbn/keras/keras_model.ckpt', vars_to_warm_start='.*', var_name_to_vocab_info={}, var_name_to_prev_var_name={})\n",
            "INFO:tensorflow:Warm-starting from: /tmp/tmp7zguglbn/keras/keras_model.ckpt\n",
            "INFO:tensorflow:Warm-starting variables only in TRAINABLE_VARIABLES.\n",
            "INFO:tensorflow:Warm-started 10 variables.\n",
            "INFO:tensorflow:Create CheckpointSaverHook.\n",
            "INFO:tensorflow:Graph was finalized.\n",
            "INFO:tensorflow:Running local_init_op.\n",
            "INFO:tensorflow:Done running local_init_op.\n",
            "INFO:tensorflow:Calling checkpoint listeners before saving checkpoint 0...\n",
            "INFO:tensorflow:Saving checkpoints for 0 into /tmp/tmp7zguglbn/model.ckpt.\n",
            "INFO:tensorflow:Calling checkpoint listeners after saving checkpoint 0...\n",
            "INFO:tensorflow:loss = 2.3005724, step = 0\n",
            "INFO:tensorflow:global_step/sec: 2.59644\n",
            "INFO:tensorflow:loss = 2.2327247, step = 100 (38.516 sec)\n",
            "INFO:tensorflow:global_step/sec: 2.61364\n",
            "INFO:tensorflow:loss = 1.848124, step = 200 (38.261 sec)\n",
            "INFO:tensorflow:global_step/sec: 2.62475\n",
            "INFO:tensorflow:loss = 1.1251606, step = 300 (38.099 sec)\n",
            "INFO:tensorflow:global_step/sec: 2.59684\n",
            "INFO:tensorflow:loss = 0.9849293, step = 400 (38.510 sec)\n",
            "INFO:tensorflow:global_step/sec: 2.61065\n",
            "INFO:tensorflow:loss = 0.8676137, step = 500 (38.305 sec)\n",
            "INFO:tensorflow:global_step/sec: 2.73356\n",
            "INFO:tensorflow:loss = 0.8535695, step = 600 (36.584 sec)\n",
            "INFO:tensorflow:global_step/sec: 2.74919\n",
            "INFO:tensorflow:loss = 0.77746665, step = 700 (36.371 sec)\n",
            "INFO:tensorflow:global_step/sec: 2.72841\n",
            "INFO:tensorflow:loss = 0.728235, step = 800 (36.651 sec)\n",
            "INFO:tensorflow:global_step/sec: 2.70028\n",
            "INFO:tensorflow:loss = 0.77488923, step = 900 (37.032 sec)\n",
            "INFO:tensorflow:global_step/sec: 2.55744\n",
            "INFO:tensorflow:loss = 0.75007546, step = 1000 (39.102 sec)\n",
            "INFO:tensorflow:global_step/sec: 2.70789\n",
            "INFO:tensorflow:loss = 0.68760383, step = 1100 (36.929 sec)\n",
            "INFO:tensorflow:global_step/sec: 2.74212\n",
            "INFO:tensorflow:loss = 0.6900472, step = 1200 (36.468 sec)\n",
            "INFO:tensorflow:global_step/sec: 2.72548\n",
            "INFO:tensorflow:loss = 0.62663716, step = 1300 (36.691 sec)\n",
            "INFO:tensorflow:global_step/sec: 2.7295\n",
            "INFO:tensorflow:loss = 0.7042525, step = 1400 (36.637 sec)\n",
            "INFO:tensorflow:global_step/sec: 2.73099\n",
            "INFO:tensorflow:loss = 0.5890657, step = 1500 (36.619 sec)\n",
            "INFO:tensorflow:global_step/sec: 2.69457\n",
            "INFO:tensorflow:loss = 0.608063, step = 1600 (37.109 sec)\n",
            "INFO:tensorflow:Calling checkpoint listeners before saving checkpoint 1604...\n",
            "INFO:tensorflow:Saving checkpoints for 1604 into /tmp/tmp7zguglbn/model.ckpt.\n",
            "INFO:tensorflow:Calling checkpoint listeners after saving checkpoint 1604...\n",
            "INFO:tensorflow:global_step/sec: 2.65914\n",
            "INFO:tensorflow:loss = 0.60604876, step = 1700 (37.605 sec)\n",
            "INFO:tensorflow:global_step/sec: 2.75996\n",
            "INFO:tensorflow:loss = 0.5484361, step = 1800 (36.234 sec)\n",
            "INFO:tensorflow:global_step/sec: 2.77695\n",
            "INFO:tensorflow:loss = 0.64863896, step = 1900 (36.010 sec)\n",
            "INFO:tensorflow:global_step/sec: 2.7704\n",
            "INFO:tensorflow:loss = 0.58453774, step = 2000 (36.095 sec)\n",
            "INFO:tensorflow:global_step/sec: 2.78928\n",
            "INFO:tensorflow:loss = 0.46364665, step = 2100 (35.852 sec)\n",
            "INFO:tensorflow:global_step/sec: 2.77795\n",
            "INFO:tensorflow:loss = 0.56822306, step = 2200 (35.999 sec)\n",
            "INFO:tensorflow:global_step/sec: 2.79389\n",
            "INFO:tensorflow:loss = 0.6331377, step = 2300 (35.792 sec)\n",
            "INFO:tensorflow:global_step/sec: 2.80049\n",
            "INFO:tensorflow:loss = 0.5597481, step = 2400 (35.707 sec)\n",
            "INFO:tensorflow:global_step/sec: 2.7977\n",
            "INFO:tensorflow:loss = 0.546581, step = 2500 (35.744 sec)\n",
            "INFO:tensorflow:global_step/sec: 2.74417\n",
            "INFO:tensorflow:loss = 0.49135095, step = 2600 (36.442 sec)\n",
            "INFO:tensorflow:global_step/sec: 2.7886\n",
            "INFO:tensorflow:loss = 0.59289587, step = 2700 (35.862 sec)\n",
            "INFO:tensorflow:global_step/sec: 2.77869\n",
            "INFO:tensorflow:loss = 0.53466547, step = 2800 (35.986 sec)\n",
            "INFO:tensorflow:global_step/sec: 2.78806\n",
            "INFO:tensorflow:loss = 0.49304518, step = 2900 (35.868 sec)\n",
            "INFO:tensorflow:global_step/sec: 2.76557\n",
            "INFO:tensorflow:loss = 0.52899486, step = 3000 (36.157 sec)\n",
            "INFO:tensorflow:global_step/sec: 2.77964\n",
            "INFO:tensorflow:loss = 0.56217545, step = 3100 (35.977 sec)\n",
            "INFO:tensorflow:global_step/sec: 2.70356\n",
            "INFO:tensorflow:loss = 0.5088974, step = 3200 (36.988 sec)\n",
            "INFO:tensorflow:Calling checkpoint listeners before saving checkpoint 3261...\n",
            "INFO:tensorflow:Saving checkpoints for 3261 into /tmp/tmp7zguglbn/model.ckpt.\n",
            "INFO:tensorflow:Calling checkpoint listeners after saving checkpoint 3261...\n",
            "INFO:tensorflow:global_step/sec: 2.61303\n",
            "INFO:tensorflow:loss = 0.5348748, step = 3300 (38.269 sec)\n",
            "INFO:tensorflow:global_step/sec: 2.68541\n",
            "INFO:tensorflow:loss = 0.5225104, step = 3400 (37.239 sec)\n",
            "INFO:tensorflow:global_step/sec: 2.67145\n",
            "INFO:tensorflow:loss = 0.4989029, step = 3500 (37.435 sec)\n",
            "INFO:tensorflow:global_step/sec: 2.74936\n",
            "INFO:tensorflow:loss = 0.4917149, step = 3600 (36.369 sec)\n",
            "INFO:tensorflow:global_step/sec: 2.74096\n",
            "INFO:tensorflow:loss = 0.45715433, step = 3700 (36.483 sec)\n",
            "INFO:tensorflow:global_step/sec: 2.77422\n",
            "INFO:tensorflow:loss = 0.44958824, step = 3800 (36.050 sec)\n",
            "INFO:tensorflow:global_step/sec: 2.77818\n",
            "INFO:tensorflow:loss = 0.46268266, step = 3900 (35.993 sec)\n",
            "INFO:tensorflow:global_step/sec: 2.77387\n",
            "INFO:tensorflow:loss = 0.4716224, step = 4000 (36.049 sec)\n",
            "INFO:tensorflow:global_step/sec: 2.78709\n",
            "INFO:tensorflow:loss = 0.42847472, step = 4100 (35.883 sec)\n",
            "INFO:tensorflow:global_step/sec: 2.7691\n",
            "INFO:tensorflow:loss = 0.48328778, step = 4200 (36.110 sec)\n",
            "INFO:tensorflow:global_step/sec: 2.74994\n",
            "INFO:tensorflow:loss = 0.5089551, step = 4300 (36.363 sec)\n",
            "INFO:tensorflow:global_step/sec: 2.78183\n",
            "INFO:tensorflow:loss = 0.45558295, step = 4400 (35.948 sec)\n",
            "INFO:tensorflow:global_step/sec: 2.78784\n",
            "INFO:tensorflow:loss = 0.4632736, step = 4500 (35.870 sec)\n",
            "INFO:tensorflow:global_step/sec: 2.68909\n",
            "INFO:tensorflow:loss = 0.42919552, step = 4600 (37.187 sec)\n",
            "INFO:tensorflow:global_step/sec: 2.6722\n",
            "INFO:tensorflow:loss = 0.4555115, step = 4700 (37.422 sec)\n",
            "INFO:tensorflow:global_step/sec: 2.77178\n",
            "INFO:tensorflow:loss = 0.4647681, step = 4800 (36.080 sec)\n",
            "INFO:tensorflow:global_step/sec: 2.72899\n",
            "INFO:tensorflow:loss = 0.43709898, step = 4900 (36.645 sec)\n",
            "INFO:tensorflow:Calling checkpoint listeners before saving checkpoint 4906...\n",
            "INFO:tensorflow:Saving checkpoints for 4906 into /tmp/tmp7zguglbn/model.ckpt.\n",
            "INFO:tensorflow:Calling checkpoint listeners after saving checkpoint 4906...\n",
            "INFO:tensorflow:global_step/sec: 2.6144\n",
            "INFO:tensorflow:loss = 0.39835775, step = 5000 (38.247 sec)\n",
            "INFO:tensorflow:global_step/sec: 2.77219\n",
            "INFO:tensorflow:loss = 0.45126516, step = 5100 (36.076 sec)\n",
            "INFO:tensorflow:global_step/sec: 2.78104\n",
            "INFO:tensorflow:loss = 0.43976435, step = 5200 (35.955 sec)\n",
            "INFO:tensorflow:global_step/sec: 2.71168\n",
            "INFO:tensorflow:loss = 0.40067065, step = 5300 (36.877 sec)\n",
            "INFO:tensorflow:global_step/sec: 2.71114\n",
            "INFO:tensorflow:loss = 0.4227128, step = 5400 (36.888 sec)\n",
            "INFO:tensorflow:loss = 0.38138622, step = 5500 (36.412 sec)\n",
            "INFO:tensorflow:global_step/sec: 2.75938\n",
            "INFO:tensorflow:loss = 0.40825647, step = 5600 (36.240 sec)\n",
            "INFO:tensorflow:global_step/sec: 2.76125\n",
            "INFO:tensorflow:loss = 0.4225673, step = 5700 (36.216 sec)\n",
            "INFO:tensorflow:global_step/sec: 2.7803\n",
            "INFO:tensorflow:loss = 0.49677452, step = 5800 (35.971 sec)\n",
            "INFO:tensorflow:Calling checkpoint listeners before saving checkpoint 5860...\n",
            "INFO:tensorflow:Saving checkpoints for 5860 into /tmp/tmp7zguglbn/model.ckpt.\n",
            "INFO:tensorflow:Calling checkpoint listeners after saving checkpoint 5860...\n",
            "INFO:tensorflow:Loss for final step: 0.45361137.\n",
            "<tensorflow_estimator.python.estimator.estimator.EstimatorV2 object at 0x7f53500409b0>\n"
          ],
          "name": "stdout"
        }
      ]
    },
    {
      "cell_type": "markdown",
      "metadata": {
        "id": "r3Ro68709x6T",
        "colab_type": "text"
      },
      "source": [
        "Estimator result cpu"
      ]
    },
    {
      "cell_type": "code",
      "metadata": {
        "id": "cGeJgwbZ7FsP",
        "colab_type": "code",
        "colab": {
          "base_uri": "https://localhost:8080/",
          "height": 235
        },
        "outputId": "b39199ed-d909-4039-ef82-b094bcdd7f46"
      },
      "source": [
        "estimator.evaluate(lambda:input_fn(test_images,test_labels,EPOCHS,BATCH_SIZE))"
      ],
      "execution_count": 24,
      "outputs": [
        {
          "output_type": "stream",
          "text": [
            "INFO:tensorflow:Calling model_fn.\n",
            "INFO:tensorflow:Done calling model_fn.\n",
            "INFO:tensorflow:Starting evaluation at 2020-05-31T14:10:08Z\n",
            "INFO:tensorflow:Graph was finalized.\n",
            "INFO:tensorflow:Restoring parameters from /tmp/tmp7zguglbn/model.ckpt-5860\n",
            "INFO:tensorflow:Running local_init_op.\n",
            "INFO:tensorflow:Done running local_init_op.\n",
            "INFO:tensorflow:Inference Time : 99.89179s\n",
            "INFO:tensorflow:Finished evaluation at 2020-05-31-14:11:48\n",
            "INFO:tensorflow:Saving dict for global step 5860: accuracy = 0.843, global_step = 5860, loss = 0.4400091\n",
            "INFO:tensorflow:Saving 'checkpoint_path' summary for global step 5860: /tmp/tmp7zguglbn/model.ckpt-5860\n"
          ],
          "name": "stdout"
        },
        {
          "output_type": "execute_result",
          "data": {
            "text/plain": [
              "{'accuracy': 0.843, 'global_step': 5860, 'loss': 0.4400091}"
            ]
          },
          "metadata": {
            "tags": []
          },
          "execution_count": 24
        }
      ]
    }
  ]
}