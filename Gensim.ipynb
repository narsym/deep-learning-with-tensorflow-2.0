{
  "nbformat": 4,
  "nbformat_minor": 0,
  "metadata": {
    "colab": {
      "name": "Gensim.ipynb",
      "provenance": [],
      "collapsed_sections": [],
      "authorship_tag": "ABX9TyOm/7UMK+dXzJEbzPU2iIjN",
      "include_colab_link": true
    },
    "kernelspec": {
      "name": "python3",
      "display_name": "Python 3"
    }
  },
  "cells": [
    {
      "cell_type": "markdown",
      "metadata": {
        "id": "view-in-github",
        "colab_type": "text"
      },
      "source": [
        "<a href=\"https://colab.research.google.com/github/narsym/deep-learning-with-tensorflow-2.0/blob/master/Gensim.ipynb\" target=\"_parent\"><img src=\"https://colab.research.google.com/assets/colab-badge.svg\" alt=\"Open In Colab\"/></a>"
      ]
    },
    {
      "cell_type": "markdown",
      "metadata": {
        "id": "PA-CQ-nfAom6",
        "colab_type": "text"
      },
      "source": [
        "#Creating your own Embedding using Gensim"
      ]
    },
    {
      "cell_type": "code",
      "metadata": {
        "id": "N-hl7NfMBn5E",
        "colab_type": "code",
        "colab": {
          "base_uri": "https://localhost:8080/",
          "height": 93
        },
        "outputId": "81dcd492-4c43-414e-a163-70a55b6863ed"
      },
      "source": [
        "import gensim.downloader as api\n",
        "from gensim.models import Word2Vec\n",
        "\n",
        "dataset = api.load('text8')\n",
        "model = Word2Vec(dataset)\n",
        "\n",
        "model.save('text8-word2vec.bin')"
      ],
      "execution_count": 1,
      "outputs": [
        {
          "output_type": "stream",
          "text": [
            "[==================================================] 100.0% 31.6/31.6MB downloaded\n"
          ],
          "name": "stdout"
        },
        {
          "output_type": "stream",
          "text": [
            "/usr/local/lib/python3.6/dist-packages/smart_open/smart_open_lib.py:253: UserWarning: This function is deprecated, use smart_open.open instead. See the migration notes for details: https://github.com/RaRe-Technologies/smart_open/blob/master/README.rst#migrating-to-the-new-open-function\n",
            "  'See the migration notes for details: %s' % _MIGRATION_NOTES_URL\n"
          ],
          "name": "stderr"
        }
      ]
    },
    {
      "cell_type": "markdown",
      "metadata": {
        "id": "PX-Ytg_JC5Uq",
        "colab_type": "text"
      },
      "source": [
        "#Exploring embedding space with Gensim"
      ]
    },
    {
      "cell_type": "markdown",
      "metadata": {
        "id": "IEIsFVJnEC5W",
        "colab_type": "text"
      },
      "source": [
        "Loading the model"
      ]
    },
    {
      "cell_type": "code",
      "metadata": {
        "id": "oNdzYF6iDNs9",
        "colab_type": "code",
        "colab": {
          "base_uri": "https://localhost:8080/",
          "height": 74
        },
        "outputId": "c69510fb-046b-4a6e-8e9b-bf4b6990c73c"
      },
      "source": [
        "from gensim.models import KeyedVectors\n",
        "\n",
        "model = KeyedVectors.load('./gensim/text8-word2vec.bin')\n",
        "word_vectors = model.wv"
      ],
      "execution_count": 5,
      "outputs": [
        {
          "output_type": "stream",
          "text": [
            "/usr/local/lib/python3.6/dist-packages/smart_open/smart_open_lib.py:253: UserWarning: This function is deprecated, use smart_open.open instead. See the migration notes for details: https://github.com/RaRe-Technologies/smart_open/blob/master/README.rst#migrating-to-the-new-open-function\n",
            "  'See the migration notes for details: %s' % _MIGRATION_NOTES_URL\n"
          ],
          "name": "stderr"
        }
      ]
    },
    {
      "cell_type": "markdown",
      "metadata": {
        "id": "ga-pEDZbEFXw",
        "colab_type": "text"
      },
      "source": [
        "Taking a look at the words"
      ]
    },
    {
      "cell_type": "code",
      "metadata": {
        "id": "7tCH6nybDdxZ",
        "colab_type": "code",
        "colab": {
          "base_uri": "https://localhost:8080/",
          "height": 36
        },
        "outputId": "f916b207-219c-4a1b-9e60-b19670ae28eb"
      },
      "source": [
        "words = word_vectors.vocab.keys()\n",
        "print([x for i, x in enumerate(words) if i < 10])\n",
        "assert('king' in words)"
      ],
      "execution_count": 6,
      "outputs": [
        {
          "output_type": "stream",
          "text": [
            "['anarchism', 'originated', 'as', 'a', 'term', 'of', 'abuse', 'first', 'used', 'against']\n"
          ],
          "name": "stdout"
        }
      ]
    },
    {
      "cell_type": "markdown",
      "metadata": {
        "id": "r9Q21jRLEH6p",
        "colab_type": "text"
      },
      "source": [
        "searching for similar words"
      ]
    },
    {
      "cell_type": "code",
      "metadata": {
        "id": "0D3q3BvHD7yW",
        "colab_type": "code",
        "colab": {
          "base_uri": "https://localhost:8080/",
          "height": 318
        },
        "outputId": "8455fe67-d18e-43ac-d41a-61b8c8a99067"
      },
      "source": [
        "def print_most_similar(word_conf_pairs, k):\n",
        "  for i, (word, conf) in enumerate(word_conf_pairs):\n",
        "    print(\"{:.3f} {:s}\".format(conf, word))\n",
        "    if i > k:\n",
        "      break\n",
        "    if k < len(word_conf_pairs):\n",
        "      print('...')\n",
        "\n",
        "\n",
        "print_most_similar(word_vectors.most_similar('king'), 5)"
      ],
      "execution_count": 7,
      "outputs": [
        {
          "output_type": "stream",
          "text": [
            "0.748 prince\n",
            "...\n",
            "0.714 emperor\n",
            "...\n",
            "0.709 queen\n",
            "...\n",
            "0.703 kings\n",
            "...\n",
            "0.681 vii\n",
            "...\n",
            "0.680 sultan\n",
            "...\n",
            "0.675 regent\n"
          ],
          "name": "stdout"
        },
        {
          "output_type": "stream",
          "text": [
            "/usr/local/lib/python3.6/dist-packages/gensim/matutils.py:737: FutureWarning: Conversion of the second argument of issubdtype from `int` to `np.signedinteger` is deprecated. In future, it will be treated as `np.int64 == np.dtype(int).type`.\n",
            "  if np.issubdtype(vec.dtype, np.int):\n"
          ],
          "name": "stderr"
        }
      ]
    },
    {
      "cell_type": "markdown",
      "metadata": {
        "id": "FHC2nitFF93b",
        "colab_type": "text"
      },
      "source": [
        "Vector arithematic between words to get relations"
      ]
    },
    {
      "cell_type": "code",
      "metadata": {
        "id": "NBbxtgPfE0XP",
        "colab_type": "code",
        "colab": {
          "base_uri": "https://localhost:8080/",
          "height": 168
        },
        "outputId": "22f24a39-f817-4ed1-a033-60818a8c72ad"
      },
      "source": [
        "print_most_similar(word_vectors.most_similar(positive = ['king', 'princess'], negative = ['prince']),1)"
      ],
      "execution_count": 10,
      "outputs": [
        {
          "output_type": "stream",
          "text": [
            "0.715 queen\n",
            "...\n",
            "0.626 pharaoh\n",
            "...\n",
            "0.625 bride\n"
          ],
          "name": "stdout"
        },
        {
          "output_type": "stream",
          "text": [
            "/usr/local/lib/python3.6/dist-packages/gensim/matutils.py:737: FutureWarning: Conversion of the second argument of issubdtype from `int` to `np.signedinteger` is deprecated. In future, it will be treated as `np.int64 == np.dtype(int).type`.\n",
            "  if np.issubdtype(vec.dtype, np.int):\n"
          ],
          "name": "stderr"
        }
      ]
    },
    {
      "cell_type": "code",
      "metadata": {
        "id": "I-kNUMTNFcPH",
        "colab_type": "code",
        "colab": {
          "base_uri": "https://localhost:8080/",
          "height": 111
        },
        "outputId": "a92b9316-9100-4372-d05c-cb8494f6f838"
      },
      "source": [
        "print_most_similar(word_vectors.most_similar_cosmul(positive = ['king', 'princess'], negative = ['prince']), 1)"
      ],
      "execution_count": 12,
      "outputs": [
        {
          "output_type": "stream",
          "text": [
            "0.862 queen\n",
            "...\n",
            "0.817 pharaoh\n",
            "...\n",
            "0.814 herod\n"
          ],
          "name": "stdout"
        }
      ]
    },
    {
      "cell_type": "markdown",
      "metadata": {
        "id": "tvYdjXhVGRqe",
        "colab_type": "text"
      },
      "source": [
        "Detect odd one out of lists"
      ]
    },
    {
      "cell_type": "code",
      "metadata": {
        "id": "iO36OKNVGckS",
        "colab_type": "code",
        "colab": {
          "base_uri": "https://localhost:8080/",
          "height": 131
        },
        "outputId": "337c1ccf-ec4b-49fc-f130-bae96d9bf80f"
      },
      "source": [
        "print(word_vectors.doesnt_match(['hindus','parsis','singapore','christians']))"
      ],
      "execution_count": 15,
      "outputs": [
        {
          "output_type": "stream",
          "text": [
            "singapore\n"
          ],
          "name": "stdout"
        },
        {
          "output_type": "stream",
          "text": [
            "/usr/local/lib/python3.6/dist-packages/gensim/models/keyedvectors.py:895: FutureWarning: arrays to stack must be passed as a \"sequence\" type such as list or tuple. Support for non-sequence iterables such as generators is deprecated as of NumPy 1.16 and will raise an error in the future.\n",
            "  vectors = vstack(self.word_vec(word, use_norm=True) for word in used_words).astype(REAL)\n",
            "/usr/local/lib/python3.6/dist-packages/gensim/matutils.py:737: FutureWarning: Conversion of the second argument of issubdtype from `int` to `np.signedinteger` is deprecated. In future, it will be treated as `np.int64 == np.dtype(int).type`.\n",
            "  if np.issubdtype(vec.dtype, np.int):\n"
          ],
          "name": "stderr"
        }
      ]
    },
    {
      "cell_type": "markdown",
      "metadata": {
        "id": "TacZJiF-GtfG",
        "colab_type": "text"
      },
      "source": [
        "Calcuating similarity between two words"
      ]
    },
    {
      "cell_type": "code",
      "metadata": {
        "id": "eKZ436XEG8jA",
        "colab_type": "code",
        "colab": {
          "base_uri": "https://localhost:8080/",
          "height": 149
        },
        "outputId": "c9190b9f-69b0-41b4-c37e-f438eddfe688"
      },
      "source": [
        "for word in ['women', 'dog', 'whale', 'tree']:\n",
        "  print(\"similarity({:s}, {:s}) = {:.3f}\".format(\"man\", word,word_vectors.similarity(\"man\", word)))"
      ],
      "execution_count": 16,
      "outputs": [
        {
          "output_type": "stream",
          "text": [
            "similarity(man, women) = 0.361\n",
            "similarity(man, dog) = 0.431\n",
            "similarity(man, whale) = 0.265\n",
            "similarity(man, tree) = 0.265\n"
          ],
          "name": "stdout"
        },
        {
          "output_type": "stream",
          "text": [
            "/usr/local/lib/python3.6/dist-packages/gensim/matutils.py:737: FutureWarning: Conversion of the second argument of issubdtype from `int` to `np.signedinteger` is deprecated. In future, it will be treated as `np.int64 == np.dtype(int).type`.\n",
            "  if np.issubdtype(vec.dtype, np.int):\n"
          ],
          "name": "stderr"
        }
      ]
    },
    {
      "cell_type": "markdown",
      "metadata": {
        "id": "gb-nco3gHPpF",
        "colab_type": "text"
      },
      "source": [
        "more methods\n",
        "\n",
        "similar_by_word\n",
        "\n",
        "similar_by_vector"
      ]
    },
    {
      "cell_type": "code",
      "metadata": {
        "id": "nYc1-vciHlW-",
        "colab_type": "code",
        "colab": {
          "base_uri": "https://localhost:8080/",
          "height": 336
        },
        "outputId": "279d1f3d-eb98-4609-bbab-43b1bb9b9dbb"
      },
      "source": [
        "print(print_most_similar(word_vectors.similar_by_word('singapore'),5))"
      ],
      "execution_count": 19,
      "outputs": [
        {
          "output_type": "stream",
          "text": [
            "0.871 malaysia\n",
            "...\n",
            "0.821 indonesia\n",
            "...\n",
            "0.809 shanghai\n",
            "...\n",
            "0.806 philippines\n",
            "...\n",
            "0.805 uganda\n",
            "...\n",
            "0.802 namibia\n",
            "...\n",
            "0.801 zimbabwe\n",
            "None\n"
          ],
          "name": "stdout"
        },
        {
          "output_type": "stream",
          "text": [
            "/usr/local/lib/python3.6/dist-packages/gensim/matutils.py:737: FutureWarning: Conversion of the second argument of issubdtype from `int` to `np.signedinteger` is deprecated. In future, it will be treated as `np.int64 == np.dtype(int).type`.\n",
            "  if np.issubdtype(vec.dtype, np.int):\n"
          ],
          "name": "stderr"
        }
      ]
    },
    {
      "cell_type": "markdown",
      "metadata": {
        "id": "_PlSqmM_HtWH",
        "colab_type": "text"
      },
      "source": [
        "Distance between two words in embedded space"
      ]
    },
    {
      "cell_type": "code",
      "metadata": {
        "id": "o18gIknzIEAr",
        "colab_type": "code",
        "colab": {
          "base_uri": "https://localhost:8080/",
          "height": 93
        },
        "outputId": "88fb04ff-61a2-4169-9f57-ca3e1377c5fd"
      },
      "source": [
        "print(\"distance(singapore, malaysia) = {:.3f}\".format(word_vectors.distance(\"singapore\", \"malaysia\")))"
      ],
      "execution_count": 20,
      "outputs": [
        {
          "output_type": "stream",
          "text": [
            "distance(singapore, malaysia) = 0.129\n"
          ],
          "name": "stdout"
        },
        {
          "output_type": "stream",
          "text": [
            "/usr/local/lib/python3.6/dist-packages/gensim/matutils.py:737: FutureWarning: Conversion of the second argument of issubdtype from `int` to `np.signedinteger` is deprecated. In future, it will be treated as `np.int64 == np.dtype(int).type`.\n",
            "  if np.issubdtype(vec.dtype, np.int):\n"
          ],
          "name": "stderr"
        }
      ]
    },
    {
      "cell_type": "markdown",
      "metadata": {
        "id": "cfxQIe5yIIxJ",
        "colab_type": "text"
      },
      "source": [
        "Look up vocbulary words"
      ]
    },
    {
      "cell_type": "code",
      "metadata": {
        "id": "_kqlontrIRxc",
        "colab_type": "code",
        "colab": {}
      },
      "source": [
        "vec_song = word_vectors[\"song\"]\n",
        "vec_song_2 = word_vectors.word_vec(\"song\", use_norm=True)"
      ],
      "execution_count": 0,
      "outputs": []
    }
  ]
}