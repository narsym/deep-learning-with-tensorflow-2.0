{
  "nbformat": 4,
  "nbformat_minor": 0,
  "metadata": {
    "colab": {
      "name": "Universal Sentence Encoder.ipynb",
      "provenance": [],
      "authorship_tag": "ABX9TyPAQlnDGBSoxjvmRtVa2hOR",
      "include_colab_link": true
    },
    "kernelspec": {
      "name": "python3",
      "display_name": "Python 3"
    },
    "accelerator": "GPU"
  },
  "cells": [
    {
      "cell_type": "markdown",
      "metadata": {
        "id": "view-in-github",
        "colab_type": "text"
      },
      "source": [
        "<a href=\"https://colab.research.google.com/github/narsym/deep-learning-with-tensorflow-2.0/blob/master/Universal_Sentence_Encoder.ipynb\" target=\"_parent\"><img src=\"https://colab.research.google.com/assets/colab-badge.svg\" alt=\"Open In Colab\"/></a>"
      ]
    },
    {
      "cell_type": "markdown",
      "metadata": {
        "id": "7NXL2V1vn4IP",
        "colab_type": "text"
      },
      "source": [
        "# TF 2.0 does not support USE, so use TF 1.x"
      ]
    },
    {
      "cell_type": "code",
      "metadata": {
        "id": "z2X7asYamN7U",
        "colab_type": "code",
        "colab": {}
      },
      "source": [
        "import tensorflow as tf\n",
        "import tensorflow_hub as hub"
      ],
      "execution_count": 0,
      "outputs": []
    },
    {
      "cell_type": "code",
      "metadata": {
        "id": "NE2CefrgmWXA",
        "colab_type": "code",
        "colab": {}
      },
      "source": [
        "module_url = \"https://tfhub.dev/google/universal-sentence-encoder/2\"\n",
        "tf.compat.v1.disable_eager_execution()"
      ],
      "execution_count": 0,
      "outputs": []
    },
    {
      "cell_type": "code",
      "metadata": {
        "id": "9cwFEiw0maRV",
        "colab_type": "code",
        "colab": {
          "base_uri": "https://localhost:8080/",
          "height": 72
        },
        "outputId": "9d7ebe7d-0a3d-4899-88b7-a73c193912c5"
      },
      "source": [
        "model = hub.Module(module_url)\n",
        "embeddings = model([\n",
        "    \"i like green eggs and ham\",\n",
        "    \"would you eat them in a box\"\n",
        "])\n",
        "with tf.compat.v1.Session() as sess:\n",
        "    sess.run([\n",
        "        tf.compat.v1.global_variables_initializer(),\n",
        "        tf.compat.v1.tables_initializer()\n",
        "    ])\n",
        "    embeddings_value = sess.run(embeddings)\n",
        "\n",
        "print(embeddings_value.shape)"
      ],
      "execution_count": 6,
      "outputs": [
        {
          "output_type": "stream",
          "text": [
            "INFO:tensorflow:Saver not created because there are no variables in the graph to restore\n"
          ],
          "name": "stdout"
        },
        {
          "output_type": "stream",
          "text": [
            "INFO:tensorflow:Saver not created because there are no variables in the graph to restore\n"
          ],
          "name": "stderr"
        },
        {
          "output_type": "stream",
          "text": [
            "(2, 512)\n"
          ],
          "name": "stdout"
        }
      ]
    }
  ]
}