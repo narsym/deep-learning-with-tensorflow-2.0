{
  "nbformat": 4,
  "nbformat_minor": 0,
  "metadata": {
    "colab": {
      "name": "Node2Vec.ipynb",
      "provenance": [],
      "authorship_tag": "ABX9TyNS7Pzi7wLL9E5EPIlk7ffJ",
      "include_colab_link": true
    },
    "kernelspec": {
      "name": "python3",
      "display_name": "Python 3"
    },
    "accelerator": "GPU"
  },
  "cells": [
    {
      "cell_type": "markdown",
      "metadata": {
        "id": "view-in-github",
        "colab_type": "text"
      },
      "source": [
        "<a href=\"https://colab.research.google.com/github/narsym/deep-learning-with-tensorflow-2.0/blob/master/Node2Vec.ipynb\" target=\"_parent\"><img src=\"https://colab.research.google.com/assets/colab-badge.svg\" alt=\"Open In Colab\"/></a>"
      ]
    },
    {
      "cell_type": "code",
      "metadata": {
        "id": "RPVfdIBMyBDd",
        "colab_type": "code",
        "colab": {}
      },
      "source": [
        "import gensim\n",
        "import logging\n",
        "import numpy as np\n",
        "import os\n",
        "import shutil\n",
        "import tensorflow as tf\n",
        "\n",
        "from scipy.sparse import csr_matrix\n",
        "from sklearn.metrics.pairwise import cosine_similarity"
      ],
      "execution_count": 0,
      "outputs": []
    },
    {
      "cell_type": "code",
      "metadata": {
        "id": "mAn-S8aRzN-o",
        "colab_type": "code",
        "colab": {}
      },
      "source": [
        "logging.basicConfig(format='%(asctime)s : %(levelname)s : %(message)s', level=logging.INFO)"
      ],
      "execution_count": 0,
      "outputs": []
    },
    {
      "cell_type": "code",
      "metadata": {
        "id": "O1tewJADzTFO",
        "colab_type": "code",
        "colab": {}
      },
      "source": [
        "os.mkdir('./data')"
      ],
      "execution_count": 0,
      "outputs": []
    },
    {
      "cell_type": "code",
      "metadata": {
        "id": "rav5gz_4zTb-",
        "colab_type": "code",
        "colab": {}
      },
      "source": [
        "DATA_DIR = \"./data\"\n",
        "UCI_DATA_URL = \"https://archive.ics.uci.edu/ml/machine-learning-databases/00371/NIPS_1987-2015.csv\"\n",
        "\n",
        "NUM_WALKS_PER_VERTEX = 32\n",
        "MAX_PATH_LENGTH = 40\n",
        "RESTART_PROB = 0.15\n",
        "\n",
        "RANDOM_WALKS_FILE = os.path.join(DATA_DIR, \"random-walks.txt\")\n",
        "W2V_MODEL_FILE = os.path.join(DATA_DIR, \"w2v-neurips-papers.model\")"
      ],
      "execution_count": 0,
      "outputs": []
    },
    {
      "cell_type": "code",
      "metadata": {
        "id": "6YlsLRQCzTe0",
        "colab_type": "code",
        "colab": {}
      },
      "source": [
        "def download_and_read(url):\n",
        "    local_file = url.split('/')[-1]\n",
        "    p = tf.keras.utils.get_file(local_file, url, cache_dir=\".\")\n",
        "    row_ids, col_ids, data = [], [], []\n",
        "    rid = 0\n",
        "    f = open(p, \"r\")\n",
        "    for line in f:\n",
        "        line = line.strip()\n",
        "        if line.startswith(\"\\\"\\\",\"):\n",
        "            # header\n",
        "            continue\n",
        "        if rid % 100 == 0:\n",
        "            print(\"{:d} rows read\".format(rid))\n",
        "        # compute non-zero elements for current row\n",
        "        counts = np.array([int(x) for x in line.split(',')[1:]])\n",
        "        nz_col_ids = np.nonzero(counts)[0]\n",
        "        nz_data = counts[nz_col_ids]\n",
        "        nz_row_ids = np.repeat(rid, len(nz_col_ids))\n",
        "        rid += 1\n",
        "        # add data to big lists\n",
        "        row_ids.extend(nz_row_ids.tolist())\n",
        "        col_ids.extend(nz_col_ids.tolist())\n",
        "        data.extend(nz_data.tolist())\n",
        "    print(\"{:d} rows read, COMPLETE\".format(rid))\n",
        "    f.close()\n",
        "    TD = csr_matrix((\n",
        "        np.array(data), (\n",
        "            np.array(row_ids), np.array(col_ids)\n",
        "            )\n",
        "        ),\n",
        "        shape=(rid, counts.shape[0]))\n",
        "    return TD"
      ],
      "execution_count": 0,
      "outputs": []
    },
    {
      "cell_type": "code",
      "metadata": {
        "id": "pMeINnS4zTkI",
        "colab_type": "code",
        "colab": {}
      },
      "source": [
        "def construct_random_walks(E, n, alpha, l, ofile):\n",
        "    \"\"\" NOTE: takes a long time to do, consider using some parallelization\n",
        "        for larger problems.\n",
        "    \"\"\"\n",
        "    if os.path.exists(ofile):\n",
        "        print(\"random walks generated already, skipping\")\n",
        "        return\n",
        "    f = open(ofile, \"w\")\n",
        "    for i in range(E.shape[0]):  # for each vertex\n",
        "        if i % 100 == 0:\n",
        "            print(\"{:d} random walks generated from {:d} starting vertices\"\n",
        "                .format(n * i, i))\n",
        "        if i <= 3273:\n",
        "            continue\n",
        "        for j in range(n):       # construct n random walks\n",
        "            curr = i\n",
        "            walk = [curr]\n",
        "            target_nodes = np.nonzero(E[curr])[1]\n",
        "            for k in range(l):   # each of max length l, restart prob alpha\n",
        "                # should we restart?\n",
        "                if np.random.random() < alpha and len(walk) > 5:\n",
        "                    break\n",
        "                # choose one outgoing edge and append to walk\n",
        "                try:\n",
        "                    curr = np.random.choice(target_nodes)\n",
        "                    walk.append(curr)\n",
        "                    target_nodes = np.nonzero(E[curr])[1]\n",
        "                except ValueError:\n",
        "                    continue\n",
        "            f.write(\"{:s}\\n\".format(\" \".join([str(x) for x in walk])))\n",
        "\n",
        "    print(\"{:d} random walks generated from {:d} starting vertices, COMPLETE\"\n",
        "        .format(n * i, i))\n",
        "    f.close()"
      ],
      "execution_count": 0,
      "outputs": []
    },
    {
      "cell_type": "code",
      "metadata": {
        "id": "dHxALgXTzTm5",
        "colab_type": "code",
        "colab": {}
      },
      "source": [
        "\n",
        "class Documents(object):\n",
        "    def __init__(self, input_file):\n",
        "        self.input_file = input_file\n",
        "\n",
        "    def __iter__(self):\n",
        "        with open(self.input_file, \"r\") as f:\n",
        "            for i, line in enumerate(f):\n",
        "                if i % 1000 == 0:\n",
        "                    if i % 1000 == 0:\n",
        "                        logging.info(\"{:d} random walks extracted\".format(i))\n",
        "                yield line.strip().split()"
      ],
      "execution_count": 0,
      "outputs": []
    },
    {
      "cell_type": "code",
      "metadata": {
        "id": "GfSXjiZgzTpr",
        "colab_type": "code",
        "colab": {}
      },
      "source": [
        "def train_word2vec_model(random_walks_file, model_file):\n",
        "    if os.path.exists(model_file):\n",
        "        print(\"Model file {:s} already present, skipping training\"\n",
        "            .format(model_file))\n",
        "        return\n",
        "    docs = Documents(random_walks_file)\n",
        "    model = gensim.models.Word2Vec(\n",
        "        docs,\n",
        "        size=128,    # size of embedding vector\n",
        "        window=10,   # window size\n",
        "        sg=1,        # skip-gram model\n",
        "        min_count=2,\n",
        "        workers=4\n",
        "    )\n",
        "    model.train(\n",
        "        docs, \n",
        "        total_examples=model.corpus_count,\n",
        "        epochs=50)\n",
        "    model.save(model_file)"
      ],
      "execution_count": 0,
      "outputs": []
    },
    {
      "cell_type": "code",
      "metadata": {
        "id": "cageLVOhzTsS",
        "colab_type": "code",
        "colab": {}
      },
      "source": [
        "# def evaluate_model_file(td_matrix, model_file, source_node_ids):\n",
        "#     model = gensim.models.Word2Vec.load(model_file).wv\n",
        "#     for source_node_id in source_node_ids:\n",
        "#         most_similar = model.most_similar(str(source_node_id))\n",
        "#         scores = [x[1] for x in most_similar]\n",
        "#         target_ids = [x[0] for x in most_similar]\n",
        "#         X = np.repeat(td_matrix[source_node_id].todense(), 10, axis=0)\n",
        "#         Y = td_matrix[target_ids].todense()\n",
        "#         cosims = [cosine_similarity(X[i], Y[i])[0, 0] for i in range(X.shape[0])]\n",
        "#         rank_corr = spearmanr(scores, cosims, axis=0)[0]\n",
        "#         print(\"{:d}\\t{:.5f}\".format(source_node_id, rank_corr))"
      ],
      "execution_count": 0,
      "outputs": []
    },
    {
      "cell_type": "code",
      "metadata": {
        "id": "ceRWoT5SzTvs",
        "colab_type": "code",
        "colab": {}
      },
      "source": [
        "def evaluate_model(td_matrix, model_file, source_id):\n",
        "    model = gensim.models.Word2Vec.load(model_file).wv\n",
        "    most_similar = model.most_similar(str(source_id))\n",
        "    scores = [x[1] for x in most_similar]\n",
        "    target_ids = [x[0] for x in most_similar]\n",
        "    # compare top 10 scores with cosine similarity between source and each target\n",
        "    X = np.repeat(td_matrix[source_id].todense(), 10, axis=0)\n",
        "    Y = td_matrix[target_ids].todense()\n",
        "    cosims = [cosine_similarity(X[i], Y[i])[0, 0] for i in range(10)]\n",
        "    for i in range(10):\n",
        "        print(\"{:d} {:s} {:.3f} {:.3f}\".format(\n",
        "            source_id, target_ids[i], cosims[i], scores[i]))"
      ],
      "execution_count": 0,
      "outputs": []
    },
    {
      "cell_type": "code",
      "metadata": {
        "id": "BOyc4xa_797e",
        "colab_type": "code",
        "colab": {}
      },
      "source": [
        "# read data and convert to Term-Document matrix\n",
        "TD = download_and_read(UCI_DATA_URL)\n",
        "# compute undirected, unweighted edge matrix\n",
        "E = TD.T * TD\n",
        "# binarize\n",
        "E[E > 0] = 1\n",
        "print(E.shape)"
      ],
      "execution_count": 0,
      "outputs": []
    },
    {
      "cell_type": "code",
      "metadata": {
        "id": "AuyUH9m48brP",
        "colab_type": "code",
        "colab": {
          "base_uri": "https://localhost:8080/",
          "height": 35
        },
        "outputId": "8a792469-a20f-4a74-9126-f72567e85566"
      },
      "source": [
        "# construct random walks (caution: long process!)\n",
        "construct_random_walks(E, NUM_WALKS_PER_VERTEX, RESTART_PROB, \n",
        "    MAX_PATH_LENGTH, RANDOM_WALKS_FILE)"
      ],
      "execution_count": 24,
      "outputs": [
        {
          "output_type": "stream",
          "text": [
            "random walks generated already, skipping\n"
          ],
          "name": "stdout"
        }
      ]
    },
    {
      "cell_type": "code",
      "metadata": {
        "id": "dT0IBrQQ-zzg",
        "colab_type": "code",
        "colab": {
          "base_uri": "https://localhost:8080/",
          "height": 35
        },
        "outputId": "09c5c51b-db0d-40ee-812d-98575225fa32"
      },
      "source": [
        "train_word2vec_model(RANDOM_WALKS_FILE, W2V_MODEL_FILE)"
      ],
      "execution_count": 25,
      "outputs": [
        {
          "output_type": "stream",
          "text": [
            "Model file ./data/w2v-neurips-papers.model already present, skipping training\n"
          ],
          "name": "stdout"
        }
      ]
    },
    {
      "cell_type": "code",
      "metadata": {
        "id": "i_iHy2ij_dbe",
        "colab_type": "code",
        "colab": {}
      },
      "source": [
        "# evaluate\n",
        "source_id = np.random.choice(E.shape[0])\n",
        "evaluate_model(TD, W2V_MODEL_FILE, source_id)"
      ],
      "execution_count": 0,
      "outputs": []
    }
  ]
}