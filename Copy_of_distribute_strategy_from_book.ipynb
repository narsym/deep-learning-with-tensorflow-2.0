{
  "nbformat": 4,
  "nbformat_minor": 0,
  "metadata": {
    "colab": {
      "name": "Copy of distribute strategy from book",
      "provenance": [],
      "include_colab_link": true
    },
    "kernelspec": {
      "name": "python3",
      "display_name": "Python 3"
    },
    "accelerator": "GPU"
  },
  "cells": [
    {
      "cell_type": "markdown",
      "metadata": {
        "id": "view-in-github",
        "colab_type": "text"
      },
      "source": [
        "<a href=\"https://colab.research.google.com/github/narsym/deep-learning-with-tensorflow-2.0/blob/master/Copy_of_distribute_strategy_from_book.ipynb\" target=\"_parent\"><img src=\"https://colab.research.google.com/assets/colab-badge.svg\" alt=\"Open In Colab\"/></a>"
      ]
    },
    {
      "cell_type": "markdown",
      "metadata": {
        "id": "D5M-9Lej0Szq",
        "colab_type": "text"
      },
      "source": [
        "install 2.0 with gpu support\n"
      ]
    },
    {
      "cell_type": "code",
      "metadata": {
        "id": "BBoJ9dBEz7Tu",
        "colab_type": "code",
        "outputId": "152d0458-9f76-4640-a0d9-a05dbf6b4db5",
        "colab": {
          "base_uri": "https://localhost:8080/",
          "height": 1000
        }
      },
      "source": [
        "pip install tensorflow-gpu"
      ],
      "execution_count": 0,
      "outputs": [
        {
          "output_type": "stream",
          "text": [
            "Collecting tensorflow-gpu\n",
            "\u001b[?25l  Downloading https://files.pythonhosted.org/packages/0a/93/c7bca39b23aae45cd2e85ad3871c81eccc63b9c5276e926511e2e5b0879d/tensorflow_gpu-2.1.0-cp36-cp36m-manylinux2010_x86_64.whl (421.8MB)\n",
            "\u001b[K     |████████████████████████████████| 421.8MB 37kB/s \n",
            "\u001b[?25hRequirement already satisfied: numpy<2.0,>=1.16.0 in /usr/local/lib/python3.6/dist-packages (from tensorflow-gpu) (1.17.5)\n",
            "Requirement already satisfied: opt-einsum>=2.3.2 in /usr/local/lib/python3.6/dist-packages (from tensorflow-gpu) (3.1.0)\n",
            "Requirement already satisfied: keras-applications>=1.0.8 in /usr/local/lib/python3.6/dist-packages (from tensorflow-gpu) (1.0.8)\n",
            "Requirement already satisfied: keras-preprocessing>=1.1.0 in /usr/local/lib/python3.6/dist-packages (from tensorflow-gpu) (1.1.0)\n",
            "Requirement already satisfied: scipy==1.4.1; python_version >= \"3\" in /usr/local/lib/python3.6/dist-packages (from tensorflow-gpu) (1.4.1)\n",
            "Requirement already satisfied: absl-py>=0.7.0 in /usr/local/lib/python3.6/dist-packages (from tensorflow-gpu) (0.9.0)\n",
            "Requirement already satisfied: termcolor>=1.1.0 in /usr/local/lib/python3.6/dist-packages (from tensorflow-gpu) (1.1.0)\n",
            "Requirement already satisfied: six>=1.12.0 in /usr/local/lib/python3.6/dist-packages (from tensorflow-gpu) (1.12.0)\n",
            "Requirement already satisfied: astor>=0.6.0 in /usr/local/lib/python3.6/dist-packages (from tensorflow-gpu) (0.8.1)\n",
            "Requirement already satisfied: gast==0.2.2 in /usr/local/lib/python3.6/dist-packages (from tensorflow-gpu) (0.2.2)\n",
            "Collecting tensorflow-estimator<2.2.0,>=2.1.0rc0\n",
            "\u001b[?25l  Downloading https://files.pythonhosted.org/packages/18/90/b77c328a1304437ab1310b463e533fa7689f4bfc41549593056d812fab8e/tensorflow_estimator-2.1.0-py2.py3-none-any.whl (448kB)\n",
            "\u001b[K     |████████████████████████████████| 450kB 58.1MB/s \n",
            "\u001b[?25hCollecting tensorboard<2.2.0,>=2.1.0\n",
            "\u001b[?25l  Downloading https://files.pythonhosted.org/packages/40/23/53ffe290341cd0855d595b0a2e7485932f473798af173bbe3a584b99bb06/tensorboard-2.1.0-py3-none-any.whl (3.8MB)\n",
            "\u001b[K     |████████████████████████████████| 3.8MB 53.7MB/s \n",
            "\u001b[?25hRequirement already satisfied: wrapt>=1.11.1 in /usr/local/lib/python3.6/dist-packages (from tensorflow-gpu) (1.11.2)\n",
            "Requirement already satisfied: wheel>=0.26; python_version >= \"3\" in /usr/local/lib/python3.6/dist-packages (from tensorflow-gpu) (0.33.6)\n",
            "Requirement already satisfied: google-pasta>=0.1.6 in /usr/local/lib/python3.6/dist-packages (from tensorflow-gpu) (0.1.8)\n",
            "Requirement already satisfied: protobuf>=3.8.0 in /usr/local/lib/python3.6/dist-packages (from tensorflow-gpu) (3.10.0)\n",
            "Requirement already satisfied: grpcio>=1.8.6 in /usr/local/lib/python3.6/dist-packages (from tensorflow-gpu) (1.15.0)\n",
            "Requirement already satisfied: h5py in /usr/local/lib/python3.6/dist-packages (from keras-applications>=1.0.8->tensorflow-gpu) (2.8.0)\n",
            "Requirement already satisfied: google-auth-oauthlib<0.5,>=0.4.1 in /usr/local/lib/python3.6/dist-packages (from tensorboard<2.2.0,>=2.1.0->tensorflow-gpu) (0.4.1)\n",
            "Requirement already satisfied: requests<3,>=2.21.0 in /usr/local/lib/python3.6/dist-packages (from tensorboard<2.2.0,>=2.1.0->tensorflow-gpu) (2.21.0)\n",
            "Requirement already satisfied: markdown>=2.6.8 in /usr/local/lib/python3.6/dist-packages (from tensorboard<2.2.0,>=2.1.0->tensorflow-gpu) (3.1.1)\n",
            "Requirement already satisfied: werkzeug>=0.11.15 in /usr/local/lib/python3.6/dist-packages (from tensorboard<2.2.0,>=2.1.0->tensorflow-gpu) (0.16.0)\n",
            "Collecting google-auth<2,>=1.6.3\n",
            "\u001b[?25l  Downloading https://files.pythonhosted.org/packages/1c/6d/7aae38a9022f982cf8167775c7fc299f203417b698c27080ce09060bba07/google_auth-1.11.0-py2.py3-none-any.whl (76kB)\n",
            "\u001b[K     |████████████████████████████████| 81kB 13.9MB/s \n",
            "\u001b[?25hRequirement already satisfied: setuptools>=41.0.0 in /usr/local/lib/python3.6/dist-packages (from tensorboard<2.2.0,>=2.1.0->tensorflow-gpu) (42.0.2)\n",
            "Requirement already satisfied: requests-oauthlib>=0.7.0 in /usr/local/lib/python3.6/dist-packages (from google-auth-oauthlib<0.5,>=0.4.1->tensorboard<2.2.0,>=2.1.0->tensorflow-gpu) (1.3.0)\n",
            "Requirement already satisfied: certifi>=2017.4.17 in /usr/local/lib/python3.6/dist-packages (from requests<3,>=2.21.0->tensorboard<2.2.0,>=2.1.0->tensorflow-gpu) (2019.11.28)\n",
            "Requirement already satisfied: idna<2.9,>=2.5 in /usr/local/lib/python3.6/dist-packages (from requests<3,>=2.21.0->tensorboard<2.2.0,>=2.1.0->tensorflow-gpu) (2.8)\n",
            "Requirement already satisfied: chardet<3.1.0,>=3.0.2 in /usr/local/lib/python3.6/dist-packages (from requests<3,>=2.21.0->tensorboard<2.2.0,>=2.1.0->tensorflow-gpu) (3.0.4)\n",
            "Requirement already satisfied: urllib3<1.25,>=1.21.1 in /usr/local/lib/python3.6/dist-packages (from requests<3,>=2.21.0->tensorboard<2.2.0,>=2.1.0->tensorflow-gpu) (1.24.3)\n",
            "Requirement already satisfied: rsa<4.1,>=3.1.4 in /usr/local/lib/python3.6/dist-packages (from google-auth<2,>=1.6.3->tensorboard<2.2.0,>=2.1.0->tensorflow-gpu) (4.0)\n",
            "Requirement already satisfied: pyasn1-modules>=0.2.1 in /usr/local/lib/python3.6/dist-packages (from google-auth<2,>=1.6.3->tensorboard<2.2.0,>=2.1.0->tensorflow-gpu) (0.2.7)\n",
            "Requirement already satisfied: cachetools<5.0,>=2.0.0 in /usr/local/lib/python3.6/dist-packages (from google-auth<2,>=1.6.3->tensorboard<2.2.0,>=2.1.0->tensorflow-gpu) (4.0.0)\n",
            "Requirement already satisfied: oauthlib>=3.0.0 in /usr/local/lib/python3.6/dist-packages (from requests-oauthlib>=0.7.0->google-auth-oauthlib<0.5,>=0.4.1->tensorboard<2.2.0,>=2.1.0->tensorflow-gpu) (3.1.0)\n",
            "Requirement already satisfied: pyasn1>=0.1.3 in /usr/local/lib/python3.6/dist-packages (from rsa<4.1,>=3.1.4->google-auth<2,>=1.6.3->tensorboard<2.2.0,>=2.1.0->tensorflow-gpu) (0.4.8)\n",
            "\u001b[31mERROR: tensorflow 1.15.0 has requirement tensorboard<1.16.0,>=1.15.0, but you'll have tensorboard 2.1.0 which is incompatible.\u001b[0m\n",
            "\u001b[31mERROR: tensorflow 1.15.0 has requirement tensorflow-estimator==1.15.1, but you'll have tensorflow-estimator 2.1.0 which is incompatible.\u001b[0m\n",
            "\u001b[31mERROR: tensorboard 2.1.0 has requirement grpcio>=1.24.3, but you'll have grpcio 1.15.0 which is incompatible.\u001b[0m\n",
            "\u001b[31mERROR: google-colab 1.0.0 has requirement google-auth~=1.4.0, but you'll have google-auth 1.11.0 which is incompatible.\u001b[0m\n",
            "Installing collected packages: tensorflow-estimator, google-auth, tensorboard, tensorflow-gpu\n",
            "  Found existing installation: tensorflow-estimator 1.15.1\n",
            "    Uninstalling tensorflow-estimator-1.15.1:\n",
            "      Successfully uninstalled tensorflow-estimator-1.15.1\n",
            "  Found existing installation: google-auth 1.4.2\n",
            "    Uninstalling google-auth-1.4.2:\n",
            "      Successfully uninstalled google-auth-1.4.2\n",
            "  Found existing installation: tensorboard 1.15.0\n",
            "    Uninstalling tensorboard-1.15.0:\n",
            "      Successfully uninstalled tensorboard-1.15.0\n",
            "Successfully installed google-auth-1.11.0 tensorboard-2.1.0 tensorflow-estimator-2.1.0 tensorflow-gpu-2.1.0\n"
          ],
          "name": "stdout"
        },
        {
          "output_type": "display_data",
          "data": {
            "application/vnd.colab-display-data+json": {
              "pip_warning": {
                "packages": [
                  "google"
                ]
              }
            }
          },
          "metadata": {
            "tags": []
          }
        }
      ]
    },
    {
      "cell_type": "code",
      "metadata": {
        "id": "TFGm0TXM0bak",
        "colab_type": "code",
        "colab": {}
      },
      "source": [
        "\n",
        "import os\n",
        "import time\n",
        "import tensorflow as tf\n",
        "import numpy as np"
      ],
      "execution_count": 0,
      "outputs": []
    },
    {
      "cell_type": "code",
      "metadata": {
        "id": "xvPuXIyXAd5G",
        "colab_type": "code",
        "outputId": "4e685918-7e83-4ee2-b183-a3aea1e5f217",
        "colab": {
          "base_uri": "https://localhost:8080/",
          "height": 34
        }
      },
      "source": [
        "tf.test.gpu_device_name()"
      ],
      "execution_count": 0,
      "outputs": [
        {
          "output_type": "execute_result",
          "data": {
            "text/plain": [
              "'/device:GPU:0'"
            ]
          },
          "metadata": {
            "tags": []
          },
          "execution_count": 3
        }
      ]
    },
    {
      "cell_type": "code",
      "metadata": {
        "id": "wYar3A0vBVtZ",
        "colab_type": "code",
        "outputId": "f1f5415f-7ca6-4431-a768-2961c92e7ea5",
        "colab": {
          "base_uri": "https://localhost:8080/",
          "height": 34
        }
      },
      "source": [
        "from tensorflow.python.client import device_lib\n",
        "\n",
        "def get_available_gpus():\n",
        "    local_device_protos = device_lib.list_local_devices()\n",
        "    return [x.name for x in local_device_protos if x.device_type == 'GPU']\n",
        "\n",
        "get_available_gpus()"
      ],
      "execution_count": 0,
      "outputs": [
        {
          "output_type": "execute_result",
          "data": {
            "text/plain": [
              "['/device:GPU:0']"
            ]
          },
          "metadata": {
            "tags": []
          },
          "execution_count": 4
        }
      ]
    },
    {
      "cell_type": "markdown",
      "metadata": {
        "id": "ZiyzTwJ20iaY",
        "colab_type": "text"
      },
      "source": [
        "train dataset"
      ]
    },
    {
      "cell_type": "code",
      "metadata": {
        "id": "K_4FCxsO0les",
        "colab_type": "code",
        "outputId": "fa2a7c61-0029-42dc-8525-0f6913f764ae",
        "colab": {
          "base_uri": "https://localhost:8080/",
          "height": 187
        }
      },
      "source": [
        "# How many categories we are predicting from (0-9)\n",
        "LABEL_DIMENSIONS = 10\n",
        "\n",
        "\n",
        "(train_images, train_labels), (test_images, test_labels) = tf.keras.datasets.fashion_mnist.load_data()\n",
        "TRAINING_SIZE = len(train_images)\n",
        "TEST_SIZE = len(test_images)\n",
        "\n",
        "train_images = np.asarray(train_images, dtype=np.float32) / 255\n",
        "\n",
        "# Convert the train images and add channels\n",
        "train_images = train_images.reshape((TRAINING_SIZE, 28, 28, 1))\n",
        "\n",
        "test_images = np.asarray(test_images, dtype=np.float32) / 255\n",
        "# Convert the train images and add channels\n",
        "test_images = test_images.reshape((TEST_SIZE, 28, 28, 1))\n",
        "\n",
        "train_labels  = tf.keras.utils.to_categorical(train_labels, LABEL_DIMENSIONS)\n",
        "test_labels = tf.keras.utils.to_categorical(test_labels, LABEL_DIMENSIONS)\n",
        "\n",
        "# Cast the labels to float\n",
        "train_labels = train_labels.astype(np.float32)\n",
        "test_labels = test_labels.astype(np.float32)\n",
        "print (train_labels.shape)\n",
        "print (test_labels.shape)"
      ],
      "execution_count": 0,
      "outputs": [
        {
          "output_type": "stream",
          "text": [
            "Downloading data from https://storage.googleapis.com/tensorflow/tf-keras-datasets/train-labels-idx1-ubyte.gz\n",
            "32768/29515 [=================================] - 0s 0us/step\n",
            "Downloading data from https://storage.googleapis.com/tensorflow/tf-keras-datasets/train-images-idx3-ubyte.gz\n",
            "26427392/26421880 [==============================] - 1s 0us/step\n",
            "Downloading data from https://storage.googleapis.com/tensorflow/tf-keras-datasets/t10k-labels-idx1-ubyte.gz\n",
            "8192/5148 [===============================================] - 0s 0us/step\n",
            "Downloading data from https://storage.googleapis.com/tensorflow/tf-keras-datasets/t10k-images-idx3-ubyte.gz\n",
            "4423680/4422102 [==============================] - 1s 0us/step\n",
            "(60000, 10)\n",
            "(10000, 10)\n"
          ],
          "name": "stdout"
        }
      ]
    },
    {
      "cell_type": "markdown",
      "metadata": {
        "id": "_eV9AWWb08RP",
        "colab_type": "text"
      },
      "source": [
        "build a CNN model - using the functional API"
      ]
    },
    {
      "cell_type": "code",
      "metadata": {
        "id": "9z5ScWig0-XR",
        "colab_type": "code",
        "outputId": "63e6b445-c330-4e11-b704-6abe12900267",
        "colab": {
          "base_uri": "https://localhost:8080/",
          "height": 527
        }
      },
      "source": [
        "inputs = tf.keras.Input(shape=(28,28,1))  \n",
        "x = tf.keras.layers.Conv2D(filters=32, kernel_size=(3, 3), activation='relu')(inputs)\n",
        "x = tf.keras.layers.MaxPooling2D(pool_size=(2, 2), strides=2)(x)\n",
        "x = tf.keras.layers.Conv2D(filters=64, kernel_size=(3, 3), activation='relu')(x)\n",
        "x = tf.keras.layers.MaxPooling2D(pool_size=(2, 2), strides=2)(x)\n",
        "x = tf.keras.layers.Conv2D(filters=256, kernel_size=(3, 3), activation='relu')(x)\n",
        "x = tf.keras.layers.Flatten()(x)\n",
        "x = tf.keras.layers.Dense(64, activation='relu')(x)\n",
        "x = tf.keras.layers.Dropout(0.2)(x)\n",
        "x = tf.keras.layers.Dense(128, activation='relu')(x)\n",
        "\n",
        "predictions = tf.keras.layers.Dense(LABEL_DIMENSIONS, activation='softmax')(x)\n",
        "\n",
        "model = tf.keras.Model(inputs=inputs, outputs=predictions)\n",
        "model.summary()"
      ],
      "execution_count": 0,
      "outputs": [
        {
          "output_type": "stream",
          "text": [
            "Model: \"model\"\n",
            "_________________________________________________________________\n",
            "Layer (type)                 Output Shape              Param #   \n",
            "=================================================================\n",
            "input_1 (InputLayer)         [(None, 28, 28, 1)]       0         \n",
            "_________________________________________________________________\n",
            "conv2d (Conv2D)              (None, 26, 26, 32)        320       \n",
            "_________________________________________________________________\n",
            "max_pooling2d (MaxPooling2D) (None, 13, 13, 32)        0         \n",
            "_________________________________________________________________\n",
            "conv2d_1 (Conv2D)            (None, 11, 11, 64)        18496     \n",
            "_________________________________________________________________\n",
            "max_pooling2d_1 (MaxPooling2 (None, 5, 5, 64)          0         \n",
            "_________________________________________________________________\n",
            "conv2d_2 (Conv2D)            (None, 3, 3, 256)         147712    \n",
            "_________________________________________________________________\n",
            "flatten (Flatten)            (None, 2304)              0         \n",
            "_________________________________________________________________\n",
            "dense (Dense)                (None, 64)                147520    \n",
            "_________________________________________________________________\n",
            "dropout (Dropout)            (None, 64)                0         \n",
            "_________________________________________________________________\n",
            "dense_1 (Dense)              (None, 128)               8320      \n",
            "_________________________________________________________________\n",
            "dense_2 (Dense)              (None, 10)                1290      \n",
            "=================================================================\n",
            "Total params: 323,658\n",
            "Trainable params: 323,658\n",
            "Non-trainable params: 0\n",
            "_________________________________________________________________\n"
          ],
          "name": "stdout"
        }
      ]
    },
    {
      "cell_type": "markdown",
      "metadata": {
        "id": "M9hlsler2JuV",
        "colab_type": "text"
      },
      "source": [
        "compile the model"
      ]
    },
    {
      "cell_type": "code",
      "metadata": {
        "id": "Bm1_OUjK1374",
        "colab_type": "code",
        "colab": {}
      },
      "source": [
        "optimizer = tf.keras.optimizers.SGD()\n",
        "model.compile(loss='categorical_crossentropy',\n",
        "              optimizer=optimizer,\n",
        "              metrics=['accuracy'])"
      ],
      "execution_count": 0,
      "outputs": []
    },
    {
      "cell_type": "markdown",
      "metadata": {
        "id": "rHuut1Li2O8b",
        "colab_type": "text"
      },
      "source": [
        "define the strategy\n"
      ]
    },
    {
      "cell_type": "code",
      "metadata": {
        "id": "FYZm9kgI2SMa",
        "colab_type": "code",
        "outputId": "cfbb6170-0726-427a-b3a5-028d93c4227b",
        "colab": {
          "base_uri": "https://localhost:8080/",
          "height": 68
        }
      },
      "source": [
        "#strategy = None\n",
        "strategy = tf.distribute.MirroredStrategy()\n",
        "config = tf.estimator.RunConfig(train_distribute=strategy)\n"
      ],
      "execution_count": 0,
      "outputs": [
        {
          "output_type": "stream",
          "text": [
            "INFO:tensorflow:Using MirroredStrategy with devices ('/job:localhost/replica:0/task:0/device:GPU:0',)\n",
            "INFO:tensorflow:Initializing RunConfig with distribution strategies.\n",
            "INFO:tensorflow:Not using Distribute Coordinator.\n"
          ],
          "name": "stdout"
        }
      ]
    },
    {
      "cell_type": "markdown",
      "metadata": {
        "id": "P-3Ynj6R4wGq",
        "colab_type": "text"
      },
      "source": [
        "convert Keras to Estimator"
      ]
    },
    {
      "cell_type": "code",
      "metadata": {
        "id": "eVP6xiGY43Sn",
        "colab_type": "code",
        "outputId": "6febad22-3346-45ec-a250-ea7d0f5b58cf",
        "colab": {
          "base_uri": "https://localhost:8080/",
          "height": 241
        }
      },
      "source": [
        "estimator = tf.keras.estimator.model_to_estimator(model, config=config)"
      ],
      "execution_count": 0,
      "outputs": [
        {
          "output_type": "stream",
          "text": [
            "WARNING:tensorflow:Using temporary folder as model directory: /tmp/tmpkesmyrz3\n",
            "INFO:tensorflow:Using the Keras model provided.\n",
            "WARNING:tensorflow:From /usr/local/lib/python3.6/dist-packages/tensorflow_core/python/ops/resource_variable_ops.py:1635: calling BaseResourceVariable.__init__ (from tensorflow.python.ops.resource_variable_ops) with constraint is deprecated and will be removed in a future version.\n",
            "Instructions for updating:\n",
            "If using Keras pass *_constraint arguments to layers.\n",
            "INFO:tensorflow:Using config: {'_model_dir': '/tmp/tmpkesmyrz3', '_tf_random_seed': None, '_save_summary_steps': 100, '_save_checkpoints_steps': None, '_save_checkpoints_secs': 600, '_session_config': allow_soft_placement: true\n",
            "graph_options {\n",
            "  rewrite_options {\n",
            "    meta_optimizer_iterations: ONE\n",
            "  }\n",
            "}\n",
            ", '_keep_checkpoint_max': 5, '_keep_checkpoint_every_n_hours': 10000, '_log_step_count_steps': 100, '_train_distribute': <tensorflow.python.distribute.mirrored_strategy.MirroredStrategy object at 0x7ff628619588>, '_device_fn': None, '_protocol': None, '_eval_distribute': None, '_experimental_distribute': None, '_experimental_max_worker_delay_secs': None, '_session_creation_timeout_secs': 7200, '_service': None, '_cluster_spec': ClusterSpec({}), '_task_type': 'worker', '_task_id': 0, '_global_id_in_cluster': 0, '_master': '', '_evaluation_master': '', '_is_chief': True, '_num_ps_replicas': 0, '_num_worker_replicas': 1, '_distribute_coordinator_mode': None}\n"
          ],
          "name": "stdout"
        }
      ]
    },
    {
      "cell_type": "markdown",
      "metadata": {
        "id": "PlsFvTOu5Axk",
        "colab_type": "text"
      },
      "source": [
        "input function for estimator"
      ]
    },
    {
      "cell_type": "code",
      "metadata": {
        "id": "uQq0R8cc485C",
        "colab_type": "code",
        "colab": {}
      },
      "source": [
        "def input_fn(images, labels, epochs, batch_size):\n",
        "    # Convert the inputs to a Dataset\n",
        "    dataset = tf.data.Dataset.from_tensor_slices((images, labels))\n",
        "\n",
        "    # Shuffle, repeat, and batch the examples. \n",
        "    SHUFFLE_SIZE = 5000\n",
        "    dataset = dataset.shuffle(SHUFFLE_SIZE).repeat(epochs).batch(batch_size)\n",
        "    dataset = dataset.prefetch(None)\n",
        "\n",
        "    # Return the dataset. \n",
        "    return dataset"
      ],
      "execution_count": 0,
      "outputs": []
    },
    {
      "cell_type": "markdown",
      "metadata": {
        "id": "kt25OEKS5g75",
        "colab_type": "text"
      },
      "source": [
        "train function"
      ]
    },
    {
      "cell_type": "code",
      "metadata": {
        "id": "MMbPOC3f5ku3",
        "colab_type": "code",
        "outputId": "af727696-9f68-4bfe-dfe1-de31116aaa19",
        "colab": {
          "base_uri": "https://localhost:8080/",
          "height": 1000
        }
      },
      "source": [
        "BATCH_SIZE = 512\n",
        "EPOCHS = 50\n",
        "\n",
        "#time_hist = TimeHistory()\n",
        "\n",
        "estimator_train_result = estimator.train(input_fn=lambda:input_fn(train_images,\n",
        "                                         train_labels,\n",
        "                                         epochs=EPOCHS,\n",
        "                                         batch_size=BATCH_SIZE))\n",
        "print(estimator_train_result)"
      ],
      "execution_count": 0,
      "outputs": [
        {
          "output_type": "stream",
          "text": [
            "INFO:tensorflow:Reduce to /replica:0/task:0/device:CPU:0 then broadcast to ('/replica:0/task:0/device:CPU:0',).\n",
            "INFO:tensorflow:Calling model_fn.\n",
            "INFO:tensorflow:Reduce to /replica:0/task:0/device:CPU:0 then broadcast to ('/replica:0/task:0/device:CPU:0',).\n",
            "INFO:tensorflow:Reduce to /replica:0/task:0/device:CPU:0 then broadcast to ('/replica:0/task:0/device:CPU:0',).\n",
            "INFO:tensorflow:Reduce to /replica:0/task:0/device:CPU:0 then broadcast to ('/replica:0/task:0/device:CPU:0',).\n",
            "INFO:tensorflow:Reduce to /replica:0/task:0/device:CPU:0 then broadcast to ('/replica:0/task:0/device:CPU:0',).\n",
            "INFO:tensorflow:Reduce to /replica:0/task:0/device:CPU:0 then broadcast to ('/replica:0/task:0/device:CPU:0',).\n",
            "INFO:tensorflow:Reduce to /replica:0/task:0/device:CPU:0 then broadcast to ('/replica:0/task:0/device:CPU:0',).\n",
            "INFO:tensorflow:Reduce to /replica:0/task:0/device:CPU:0 then broadcast to ('/replica:0/task:0/device:CPU:0',).\n",
            "INFO:tensorflow:Reduce to /replica:0/task:0/device:CPU:0 then broadcast to ('/replica:0/task:0/device:CPU:0',).\n",
            "INFO:tensorflow:Reduce to /replica:0/task:0/device:CPU:0 then broadcast to ('/replica:0/task:0/device:CPU:0',).\n",
            "INFO:tensorflow:Done calling model_fn.\n",
            "INFO:tensorflow:Warm-starting with WarmStartSettings: WarmStartSettings(ckpt_to_initialize_from='/tmp/tmpkesmyrz3/keras/keras_model.ckpt', vars_to_warm_start='.*', var_name_to_vocab_info={}, var_name_to_prev_var_name={})\n",
            "INFO:tensorflow:Warm-starting from: /tmp/tmpkesmyrz3/keras/keras_model.ckpt\n",
            "INFO:tensorflow:Warm-starting variables only in TRAINABLE_VARIABLES.\n",
            "INFO:tensorflow:Warm-started 12 variables.\n",
            "INFO:tensorflow:Create CheckpointSaverHook.\n",
            "INFO:tensorflow:Graph was finalized.\n",
            "INFO:tensorflow:Running local_init_op.\n",
            "INFO:tensorflow:Done running local_init_op.\n",
            "INFO:tensorflow:Saving checkpoints for 0 into /tmp/tmpkesmyrz3/model.ckpt.\n",
            "INFO:tensorflow:loss = 2.3014731, step = 0\n",
            "INFO:tensorflow:global_step/sec: 74.7049\n",
            "INFO:tensorflow:loss = 2.2667322, step = 100 (1.339 sec)\n",
            "INFO:tensorflow:global_step/sec: 79.3539\n",
            "INFO:tensorflow:loss = 2.1905458, step = 200 (1.260 sec)\n",
            "INFO:tensorflow:global_step/sec: 78.3639\n",
            "INFO:tensorflow:loss = 1.7898967, step = 300 (1.277 sec)\n",
            "INFO:tensorflow:global_step/sec: 78.126\n",
            "INFO:tensorflow:loss = 1.2527251, step = 400 (1.280 sec)\n",
            "INFO:tensorflow:global_step/sec: 79.8017\n",
            "INFO:tensorflow:loss = 1.0692288, step = 500 (1.253 sec)\n",
            "INFO:tensorflow:global_step/sec: 77.9242\n",
            "INFO:tensorflow:loss = 0.98443997, step = 600 (1.287 sec)\n",
            "INFO:tensorflow:global_step/sec: 79.7805\n",
            "INFO:tensorflow:loss = 1.03459, step = 700 (1.250 sec)\n",
            "INFO:tensorflow:global_step/sec: 81.1497\n",
            "INFO:tensorflow:loss = 0.8786551, step = 800 (1.232 sec)\n",
            "INFO:tensorflow:global_step/sec: 78.6495\n",
            "INFO:tensorflow:loss = 0.88829064, step = 900 (1.271 sec)\n",
            "INFO:tensorflow:global_step/sec: 78.7094\n",
            "INFO:tensorflow:loss = 0.89504635, step = 1000 (1.271 sec)\n",
            "INFO:tensorflow:global_step/sec: 77.2916\n",
            "INFO:tensorflow:loss = 0.8145455, step = 1100 (1.293 sec)\n",
            "INFO:tensorflow:global_step/sec: 78.3168\n",
            "INFO:tensorflow:loss = 0.7849822, step = 1200 (1.277 sec)\n",
            "INFO:tensorflow:global_step/sec: 78.9566\n",
            "INFO:tensorflow:loss = 0.77379453, step = 1300 (1.269 sec)\n",
            "INFO:tensorflow:global_step/sec: 78.0998\n",
            "INFO:tensorflow:loss = 0.7073889, step = 1400 (1.281 sec)\n",
            "INFO:tensorflow:global_step/sec: 75.0768\n",
            "INFO:tensorflow:loss = 0.7714491, step = 1500 (1.332 sec)\n",
            "INFO:tensorflow:global_step/sec: 77.3962\n",
            "INFO:tensorflow:loss = 0.7269602, step = 1600 (1.291 sec)\n",
            "INFO:tensorflow:global_step/sec: 75.1818\n",
            "INFO:tensorflow:loss = 0.7484919, step = 1700 (1.328 sec)\n",
            "INFO:tensorflow:global_step/sec: 76.218\n",
            "INFO:tensorflow:loss = 0.7390946, step = 1800 (1.312 sec)\n",
            "INFO:tensorflow:global_step/sec: 76.4151\n",
            "INFO:tensorflow:loss = 0.7186656, step = 1900 (1.312 sec)\n",
            "INFO:tensorflow:global_step/sec: 74.5926\n",
            "INFO:tensorflow:loss = 0.6140927, step = 2000 (1.338 sec)\n",
            "INFO:tensorflow:global_step/sec: 74.8508\n",
            "INFO:tensorflow:loss = 0.54883564, step = 2100 (1.339 sec)\n",
            "INFO:tensorflow:global_step/sec: 74.502\n",
            "INFO:tensorflow:loss = 0.6289246, step = 2200 (1.341 sec)\n",
            "INFO:tensorflow:global_step/sec: 74.3002\n",
            "INFO:tensorflow:loss = 0.69317865, step = 2300 (1.344 sec)\n",
            "INFO:tensorflow:global_step/sec: 76.3997\n",
            "INFO:tensorflow:loss = 0.6349214, step = 2400 (1.308 sec)\n",
            "INFO:tensorflow:global_step/sec: 76.435\n",
            "INFO:tensorflow:loss = 0.65338963, step = 2500 (1.312 sec)\n",
            "INFO:tensorflow:global_step/sec: 74.77\n",
            "INFO:tensorflow:loss = 0.58092856, step = 2600 (1.338 sec)\n",
            "INFO:tensorflow:global_step/sec: 77.0463\n",
            "INFO:tensorflow:loss = 0.5901943, step = 2700 (1.294 sec)\n",
            "INFO:tensorflow:global_step/sec: 73.3456\n",
            "INFO:tensorflow:loss = 0.59972084, step = 2800 (1.367 sec)\n",
            "INFO:tensorflow:global_step/sec: 74.6218\n",
            "INFO:tensorflow:loss = 0.5758738, step = 2900 (1.339 sec)\n",
            "INFO:tensorflow:global_step/sec: 75.3674\n",
            "INFO:tensorflow:loss = 0.53284496, step = 3000 (1.328 sec)\n",
            "INFO:tensorflow:global_step/sec: 74.8962\n",
            "INFO:tensorflow:loss = 0.57168984, step = 3100 (1.333 sec)\n",
            "INFO:tensorflow:global_step/sec: 75.005\n",
            "INFO:tensorflow:loss = 0.630203, step = 3200 (1.335 sec)\n",
            "INFO:tensorflow:global_step/sec: 74.4441\n",
            "INFO:tensorflow:loss = 0.5938236, step = 3300 (1.340 sec)\n",
            "INFO:tensorflow:global_step/sec: 75.1659\n",
            "INFO:tensorflow:loss = 0.5117793, step = 3400 (1.333 sec)\n",
            "INFO:tensorflow:global_step/sec: 76.4202\n",
            "INFO:tensorflow:loss = 0.5639062, step = 3500 (1.306 sec)\n",
            "INFO:tensorflow:global_step/sec: 74.8308\n",
            "INFO:tensorflow:loss = 0.5165823, step = 3600 (1.338 sec)\n",
            "INFO:tensorflow:global_step/sec: 75.6451\n",
            "INFO:tensorflow:loss = 0.47315913, step = 3700 (1.320 sec)\n",
            "INFO:tensorflow:global_step/sec: 75.8844\n",
            "INFO:tensorflow:loss = 0.6491892, step = 3800 (1.321 sec)\n",
            "INFO:tensorflow:global_step/sec: 74.5684\n",
            "INFO:tensorflow:loss = 0.5128057, step = 3900 (1.341 sec)\n",
            "INFO:tensorflow:global_step/sec: 77.3883\n",
            "INFO:tensorflow:loss = 0.56117445, step = 4000 (1.291 sec)\n",
            "INFO:tensorflow:global_step/sec: 75.733\n",
            "INFO:tensorflow:loss = 0.5378015, step = 4100 (1.322 sec)\n",
            "INFO:tensorflow:global_step/sec: 76.1426\n",
            "INFO:tensorflow:loss = 0.53711706, step = 4200 (1.314 sec)\n",
            "INFO:tensorflow:global_step/sec: 77.4354\n",
            "INFO:tensorflow:loss = 0.48459852, step = 4300 (1.288 sec)\n",
            "INFO:tensorflow:global_step/sec: 76.4963\n",
            "INFO:tensorflow:loss = 0.51507574, step = 4400 (1.310 sec)\n",
            "INFO:tensorflow:global_step/sec: 73.7126\n",
            "INFO:tensorflow:loss = 0.5514055, step = 4500 (1.356 sec)\n",
            "INFO:tensorflow:global_step/sec: 75.6785\n",
            "INFO:tensorflow:loss = 0.53964865, step = 4600 (1.321 sec)\n",
            "INFO:tensorflow:global_step/sec: 77.0173\n",
            "INFO:tensorflow:loss = 0.47468904, step = 4700 (1.299 sec)\n",
            "INFO:tensorflow:global_step/sec: 75.6112\n",
            "INFO:tensorflow:loss = 0.4439628, step = 4800 (1.320 sec)\n",
            "INFO:tensorflow:global_step/sec: 75.1068\n",
            "INFO:tensorflow:loss = 0.44733727, step = 4900 (1.335 sec)\n",
            "INFO:tensorflow:global_step/sec: 76.712\n",
            "INFO:tensorflow:loss = 0.5218416, step = 5000 (1.300 sec)\n",
            "INFO:tensorflow:global_step/sec: 76.5278\n",
            "INFO:tensorflow:loss = 0.45066068, step = 5100 (1.307 sec)\n",
            "INFO:tensorflow:global_step/sec: 77.2038\n",
            "INFO:tensorflow:loss = 0.44719735, step = 5200 (1.295 sec)\n",
            "INFO:tensorflow:global_step/sec: 78.5601\n",
            "INFO:tensorflow:loss = 0.44901997, step = 5300 (1.273 sec)\n",
            "INFO:tensorflow:global_step/sec: 78.3956\n",
            "INFO:tensorflow:loss = 0.46490315, step = 5400 (1.276 sec)\n",
            "INFO:tensorflow:global_step/sec: 75.4878\n",
            "INFO:tensorflow:loss = 0.4694343, step = 5500 (1.325 sec)\n",
            "INFO:tensorflow:global_step/sec: 75.8664\n",
            "INFO:tensorflow:loss = 0.45181024, step = 5600 (1.322 sec)\n",
            "INFO:tensorflow:global_step/sec: 75.457\n",
            "INFO:tensorflow:loss = 0.44175473, step = 5700 (1.321 sec)\n",
            "INFO:tensorflow:global_step/sec: 76.5718\n",
            "INFO:tensorflow:loss = 0.44698977, step = 5800 (1.309 sec)\n",
            "INFO:tensorflow:Saving checkpoints for 5860 into /tmp/tmpkesmyrz3/model.ckpt.\n",
            "INFO:tensorflow:Loss for final step: 0.5776261.\n",
            "<tensorflow_estimator.python.estimator.estimator.EstimatorV2 object at 0x7ff6285a9400>\n"
          ],
          "name": "stdout"
        }
      ]
    },
    {
      "cell_type": "markdown",
      "metadata": {
        "id": "JDcD0hKZ9LOK",
        "colab_type": "text"
      },
      "source": [
        "with 2.0alpha If i use strategy = tf.distribute.MirroredStrategy() and GPUS\n",
        "then I get an error \"ValueError: Only TensorFlow native optimizers are supported with DistributionStrategy.\"\n",
        "**Reported** the problem to  https://github.com/tensorflow/tensorflow/issues/27696\n",
        "fixed in night-build.\n",
        "\n",
        "This seems fixed in TF2.1"
      ]
    },
    {
      "cell_type": "code",
      "metadata": {
        "id": "eWru8nRWvmIu",
        "colab_type": "code",
        "outputId": "18f162dd-5e38-4b61-ebea-4b7f8b688b1b",
        "colab": {
          "base_uri": "https://localhost:8080/",
          "height": 221
        }
      },
      "source": [
        "estimator.evaluate(lambda:input_fn(test_images, \n",
        "                                   test_labels,\n",
        "                                   epochs=1,\n",
        "                                   batch_size=BATCH_SIZE))"
      ],
      "execution_count": 0,
      "outputs": [
        {
          "output_type": "stream",
          "text": [
            "INFO:tensorflow:Calling model_fn.\n",
            "INFO:tensorflow:Done calling model_fn.\n",
            "INFO:tensorflow:Starting evaluation at 2020-02-02T09:33:08Z\n",
            "INFO:tensorflow:Graph was finalized.\n",
            "INFO:tensorflow:Restoring parameters from /tmp/tmpkesmyrz3/model.ckpt-5860\n",
            "INFO:tensorflow:Running local_init_op.\n",
            "INFO:tensorflow:Done running local_init_op.\n",
            "INFO:tensorflow:Inference Time : 0.53795s\n",
            "INFO:tensorflow:Finished evaluation at 2020-02-02-09:33:09\n",
            "INFO:tensorflow:Saving dict for global step 5860: accuracy = 0.8136, global_step = 5860, loss = 0.4840718\n",
            "INFO:tensorflow:Saving 'checkpoint_path' summary for global step 5860: /tmp/tmpkesmyrz3/model.ckpt-5860\n"
          ],
          "name": "stdout"
        },
        {
          "output_type": "execute_result",
          "data": {
            "text/plain": [
              "{'accuracy': 0.8136, 'global_step': 5860, 'loss': 0.4840718}"
            ]
          },
          "metadata": {
            "tags": []
          },
          "execution_count": 12
        }
      ]
    },
    {
      "cell_type": "markdown",
      "metadata": {
        "id": "37HXKdlUEOnQ",
        "colab_type": "text"
      },
      "source": [
        "In alternative this is also useful"
      ]
    }
  ]
}