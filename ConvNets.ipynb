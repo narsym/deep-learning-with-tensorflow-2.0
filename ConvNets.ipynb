{
  "nbformat": 4,
  "nbformat_minor": 0,
  "metadata": {
    "colab": {
      "name": "ConvNets.ipynb",
      "provenance": [],
      "collapsed_sections": [],
      "authorship_tag": "ABX9TyOmR5xXxtpiWh7YlrfTBZVI",
      "include_colab_link": true
    },
    "kernelspec": {
      "name": "python3",
      "display_name": "Python 3"
    },
    "accelerator": "GPU"
  },
  "cells": [
    {
      "cell_type": "markdown",
      "metadata": {
        "id": "view-in-github",
        "colab_type": "text"
      },
      "source": [
        "<a href=\"https://colab.research.google.com/github/narsym/deep-learning-with-tensorflow-2.0/blob/master/ConvNets.ipynb\" target=\"_parent\"><img src=\"https://colab.research.google.com/assets/colab-badge.svg\" alt=\"Open In Colab\"/></a>"
      ]
    },
    {
      "cell_type": "markdown",
      "metadata": {
        "id": "J9liD0WWapqz",
        "colab_type": "text"
      },
      "source": [
        "#ConvNets"
      ]
    },
    {
      "cell_type": "markdown",
      "metadata": {
        "id": "mL8VR-QBawrt",
        "colab_type": "text"
      },
      "source": [
        "**ConvNet with filter size (3,3) and 32 parallel features**"
      ]
    },
    {
      "cell_type": "code",
      "metadata": {
        "id": "SxRu0kjWa5Vw",
        "colab_type": "code",
        "colab": {}
      },
      "source": [
        "import tensorflow as tf\n",
        "from tensorflow.keras import layers,models,datasets"
      ],
      "execution_count": 0,
      "outputs": []
    },
    {
      "cell_type": "code",
      "metadata": {
        "id": "ui45rPDibCQj",
        "colab_type": "code",
        "colab": {}
      },
      "source": [
        "model = models.Sequential()\n",
        "model.add(layers.Conv2D(32,kernel_size = (3,3),activation = 'relu', input_shape = (28,28,1)))"
      ],
      "execution_count": 0,
      "outputs": []
    },
    {
      "cell_type": "markdown",
      "metadata": {
        "id": "TRgqCp3-biSS",
        "colab_type": "text"
      },
      "source": [
        "**Pooling**\n",
        "\n",
        "Maxpooling with pool size (2,2)"
      ]
    },
    {
      "cell_type": "code",
      "metadata": {
        "id": "isvZ8-vNby5z",
        "colab_type": "code",
        "colab": {}
      },
      "source": [
        "model.add(layers.MaxPooling2D(pool_size=(2,2)))"
      ],
      "execution_count": 0,
      "outputs": []
    },
    {
      "cell_type": "markdown",
      "metadata": {
        "id": "U77EVJQYb84v",
        "colab_type": "text"
      },
      "source": [
        "Other pooling layers\n",
        "\n",
        "\n",
        "    MaxPooling1D layer\n",
        "    MaxPooling2D layer\n",
        "    MaxPooling3D layer\n",
        "    AveragePooling1D layer\n",
        "    AveragePooling2D layer\n",
        "    AveragePooling3D layer\n",
        "    GlobalMaxPooling1D layer\n",
        "    GlobalMaxPooling2D layer\n",
        "    GlobalMaxPooling3D layer\n",
        "    GlobalAveragePooling1D layer\n",
        "    GlobalAveragePooling2D layer\n",
        "    GlobalAveragePooling3D layer\n"
      ]
    },
    {
      "cell_type": "markdown",
      "metadata": {
        "id": "6u2nGWuOcdm5",
        "colab_type": "text"
      },
      "source": [
        "#Building LeNet for MNIST Digit classification"
      ]
    },
    {
      "cell_type": "markdown",
      "metadata": {
        "id": "KtukcLIfeubc",
        "colab_type": "text"
      },
      "source": [
        "Defining parameters"
      ]
    },
    {
      "cell_type": "code",
      "metadata": {
        "id": "gyVTNa62eKi6",
        "colab_type": "code",
        "colab": {}
      },
      "source": [
        "from tensorflow.keras import optimizers\n",
        "EPOCHS = 5\n",
        "BATCH_SIZE = 128\n",
        "VERBOSE = 1\n",
        "OPTIMIZER = tf.keras.optimizers.Adam()\n",
        "VALIDATION_SPLIT = 0.95\n",
        "IMG_ROWS, IMG_COLS = 28, 28\n",
        "INPUT_SHAPE = (IMG_ROWS,IMG_COLS,1)\n",
        "NB_CLASSES = 10"
      ],
      "execution_count": 0,
      "outputs": []
    },
    {
      "cell_type": "markdown",
      "metadata": {
        "id": "C4PaHaTsetup",
        "colab_type": "text"
      },
      "source": [
        "Building the model"
      ]
    },
    {
      "cell_type": "code",
      "metadata": {
        "id": "J1zio14NeztL",
        "colab_type": "code",
        "colab": {}
      },
      "source": [
        "def build(input_shape,classes):\n",
        "  model = models.Sequential()\n",
        "  model.add(layers.Convolution2D(20,kernel_size = (5,5),activation = 'relu',input_shape = input_shape))\n",
        "  model.add(layers.MaxPooling2D(pool_size = (2,2),strides = (2,2)))\n",
        "\n",
        "  model.add(layers.Convolution2D(50,kernel_size = (5,5),activation = 'relu'))\n",
        "  model.add(layers.MaxPool2D(pool_size = (2,2),strides = (2,2)))\n",
        "\n",
        "  model.add(layers.Flatten())\n",
        "  model.add(layers.Dense(500,activation = 'relu'))\n",
        "\n",
        "  model.add(layers.Dense(classes,activation = 'softmax'))\n",
        "  return model"
      ],
      "execution_count": 0,
      "outputs": []
    },
    {
      "cell_type": "markdown",
      "metadata": {
        "id": "IPYTGaGogUlO",
        "colab_type": "text"
      },
      "source": [
        "Getting and preprocessing the data"
      ]
    },
    {
      "cell_type": "code",
      "metadata": {
        "id": "fYZC6_CkgrdH",
        "colab_type": "code",
        "outputId": "34791079-d716-41c5-ab47-b359377aa6dc",
        "colab": {
          "base_uri": "https://localhost:8080/",
          "height": 53
        }
      },
      "source": [
        "(X_train,y_train), (X_test,y_test) = tf.keras.datasets.mnist.load_data()\n",
        "\n",
        "X_train = X_train.reshape((60000,28,28,1))\n",
        "X_test = X_test.reshape((10000,28,28,1))\n",
        "\n",
        "X_train, X_test = X_train / 255.0, X_test / 255.0\n",
        "\n",
        "X_train = X_train.astype('float32')\n",
        "X_test = X_test.astype('float32')\n",
        "\n",
        "y_train = tf.keras.utils.to_categorical(y_train,NB_CLASSES)\n",
        "y_test = tf.keras.utils.to_categorical(y_test,NB_CLASSES)"
      ],
      "execution_count": 0,
      "outputs": [
        {
          "output_type": "stream",
          "text": [
            "Downloading data from https://storage.googleapis.com/tensorflow/tf-keras-datasets/mnist.npz\n",
            "11493376/11490434 [==============================] - 0s 0us/step\n"
          ],
          "name": "stdout"
        }
      ]
    },
    {
      "cell_type": "markdown",
      "metadata": {
        "id": "effYmc1JhupM",
        "colab_type": "text"
      },
      "source": [
        "Initializing the optimizer and the model"
      ]
    },
    {
      "cell_type": "code",
      "metadata": {
        "id": "UBQtDHH3h2en",
        "colab_type": "code",
        "outputId": "6074b954-9ce2-422e-89c8-2bec5e9f0825",
        "colab": {
          "base_uri": "https://localhost:8080/",
          "height": 417
        }
      },
      "source": [
        "model = build(input_shape = INPUT_SHAPE,classes = NB_CLASSES)\n",
        "model.compile(loss = 'categorical_crossentropy', optimizer = OPTIMIZER, metrics = ['accuracy'])\n",
        "model.summary()"
      ],
      "execution_count": 0,
      "outputs": [
        {
          "output_type": "stream",
          "text": [
            "Model: \"sequential_1\"\n",
            "_________________________________________________________________\n",
            "Layer (type)                 Output Shape              Param #   \n",
            "=================================================================\n",
            "conv2d_1 (Conv2D)            (None, 24, 24, 20)        520       \n",
            "_________________________________________________________________\n",
            "max_pooling2d_1 (MaxPooling2 (None, 12, 12, 20)        0         \n",
            "_________________________________________________________________\n",
            "conv2d_2 (Conv2D)            (None, 8, 8, 50)          25050     \n",
            "_________________________________________________________________\n",
            "max_pooling2d_2 (MaxPooling2 (None, 4, 4, 50)          0         \n",
            "_________________________________________________________________\n",
            "flatten (Flatten)            (None, 800)               0         \n",
            "_________________________________________________________________\n",
            "dense (Dense)                (None, 500)               400500    \n",
            "_________________________________________________________________\n",
            "dense_1 (Dense)              (None, 10)                5010      \n",
            "=================================================================\n",
            "Total params: 431,080\n",
            "Trainable params: 431,080\n",
            "Non-trainable params: 0\n",
            "_________________________________________________________________\n"
          ],
          "name": "stdout"
        }
      ]
    },
    {
      "cell_type": "markdown",
      "metadata": {
        "id": "7raF_bpziM4Y",
        "colab_type": "text"
      },
      "source": [
        "Adding Callbacks"
      ]
    },
    {
      "cell_type": "code",
      "metadata": {
        "id": "R7lBsH9YinNV",
        "colab_type": "code",
        "colab": {}
      },
      "source": [
        "callbacks = [\n",
        "             tf.keras.callbacks.TensorBoard(log_dir = './logs')\n",
        "]"
      ],
      "execution_count": 0,
      "outputs": []
    },
    {
      "cell_type": "markdown",
      "metadata": {
        "id": "5WR9tVVdi0ok",
        "colab_type": "text"
      },
      "source": [
        "Fit the model"
      ]
    },
    {
      "cell_type": "code",
      "metadata": {
        "id": "WNeKFSlDi403",
        "colab_type": "code",
        "outputId": "944a0a12-46a1-4a1e-9256-fe7b7fafa8e3",
        "colab": {
          "base_uri": "https://localhost:8080/",
          "height": 744
        }
      },
      "source": [
        "history = model.fit(X_train,y_train,batch_size=BATCH_SIZE,epochs=20,verbose=VERBOSE,validation_split=VALIDATION_SPLIT,callbacks=callbacks)"
      ],
      "execution_count": 0,
      "outputs": [
        {
          "output_type": "stream",
          "text": [
            "Epoch 1/20\n",
            "24/24 [==============================] - 2s 102ms/step - loss: 0.1051 - accuracy: 0.9720 - val_loss: 0.1668 - val_accuracy: 0.9480\n",
            "Epoch 2/20\n",
            "24/24 [==============================] - 2s 97ms/step - loss: 0.0890 - accuracy: 0.9750 - val_loss: 0.1404 - val_accuracy: 0.9574\n",
            "Epoch 3/20\n",
            "24/24 [==============================] - 2s 97ms/step - loss: 0.0720 - accuracy: 0.9793 - val_loss: 0.1361 - val_accuracy: 0.9571\n",
            "Epoch 4/20\n",
            "24/24 [==============================] - 2s 96ms/step - loss: 0.0561 - accuracy: 0.9843 - val_loss: 0.1276 - val_accuracy: 0.9606\n",
            "Epoch 5/20\n",
            "24/24 [==============================] - 2s 97ms/step - loss: 0.0437 - accuracy: 0.9883 - val_loss: 0.1227 - val_accuracy: 0.9643\n",
            "Epoch 6/20\n",
            "24/24 [==============================] - 2s 99ms/step - loss: 0.0350 - accuracy: 0.9907 - val_loss: 0.1244 - val_accuracy: 0.9634\n",
            "Epoch 7/20\n",
            "24/24 [==============================] - 2s 102ms/step - loss: 0.0302 - accuracy: 0.9927 - val_loss: 0.1269 - val_accuracy: 0.9632\n",
            "Epoch 8/20\n",
            "24/24 [==============================] - 2s 103ms/step - loss: 0.0175 - accuracy: 0.9967 - val_loss: 0.1154 - val_accuracy: 0.9675\n",
            "Epoch 9/20\n",
            "24/24 [==============================] - 2s 102ms/step - loss: 0.0160 - accuracy: 0.9970 - val_loss: 0.1345 - val_accuracy: 0.9637\n",
            "Epoch 10/20\n",
            "24/24 [==============================] - 2s 101ms/step - loss: 0.0155 - accuracy: 0.9973 - val_loss: 0.1324 - val_accuracy: 0.9627\n",
            "Epoch 11/20\n",
            "24/24 [==============================] - 2s 97ms/step - loss: 0.0098 - accuracy: 0.9987 - val_loss: 0.1256 - val_accuracy: 0.9662\n",
            "Epoch 12/20\n",
            "24/24 [==============================] - 2s 97ms/step - loss: 0.0053 - accuracy: 0.9997 - val_loss: 0.1207 - val_accuracy: 0.9680\n",
            "Epoch 13/20\n",
            "24/24 [==============================] - 2s 96ms/step - loss: 0.0032 - accuracy: 1.0000 - val_loss: 0.1214 - val_accuracy: 0.9688\n",
            "Epoch 14/20\n",
            "24/24 [==============================] - 2s 96ms/step - loss: 0.0023 - accuracy: 1.0000 - val_loss: 0.1227 - val_accuracy: 0.9689\n",
            "Epoch 15/20\n",
            "24/24 [==============================] - 2s 96ms/step - loss: 0.0020 - accuracy: 1.0000 - val_loss: 0.1258 - val_accuracy: 0.9694\n",
            "Epoch 16/20\n",
            "24/24 [==============================] - 2s 95ms/step - loss: 0.0017 - accuracy: 1.0000 - val_loss: 0.1260 - val_accuracy: 0.9693\n",
            "Epoch 17/20\n",
            "24/24 [==============================] - 2s 97ms/step - loss: 0.0014 - accuracy: 1.0000 - val_loss: 0.1282 - val_accuracy: 0.9692\n",
            "Epoch 18/20\n",
            "24/24 [==============================] - 2s 97ms/step - loss: 0.0012 - accuracy: 1.0000 - val_loss: 0.1272 - val_accuracy: 0.9699\n",
            "Epoch 19/20\n",
            "24/24 [==============================] - 2s 95ms/step - loss: 0.0011 - accuracy: 1.0000 - val_loss: 0.1313 - val_accuracy: 0.9689\n",
            "Epoch 20/20\n",
            "24/24 [==============================] - 2s 96ms/step - loss: 9.5872e-04 - accuracy: 1.0000 - val_loss: 0.1311 - val_accuracy: 0.9695\n"
          ],
          "name": "stdout"
        }
      ]
    },
    {
      "cell_type": "markdown",
      "metadata": {
        "id": "3TXoBX5JjJEn",
        "colab_type": "text"
      },
      "source": [
        "Score on X_test"
      ]
    },
    {
      "cell_type": "code",
      "metadata": {
        "id": "HgTr4lYTjof9",
        "colab_type": "code",
        "outputId": "5930c421-b878-4511-dfc2-7705c2e80bb0",
        "colab": {
          "base_uri": "https://localhost:8080/",
          "height": 35
        }
      },
      "source": [
        "score = model.evaluate(X_test,y_test,verbose = VERBOSE)"
      ],
      "execution_count": 0,
      "outputs": [
        {
          "output_type": "stream",
          "text": [
            "313/313 [==============================] - 1s 4ms/step - loss: 0.0992 - accuracy: 0.9736\n"
          ],
          "name": "stdout"
        }
      ]
    },
    {
      "cell_type": "markdown",
      "metadata": {
        "id": "yCupmlHhjtzy",
        "colab_type": "text"
      },
      "source": [
        "print score"
      ]
    },
    {
      "cell_type": "code",
      "metadata": {
        "id": "1zKtuGO3jyHX",
        "colab_type": "code",
        "outputId": "d38e37e1-6276-43fc-c558-6fe70364f360",
        "colab": {
          "base_uri": "https://localhost:8080/",
          "height": 90
        }
      },
      "source": [
        "print('\\nTest Score',score[0])\n",
        "print('\\nTest Accuracy',score[1])"
      ],
      "execution_count": 0,
      "outputs": [
        {
          "output_type": "stream",
          "text": [
            "\n",
            "Test Score 0.09916210174560547\n",
            "\n",
            "Test Accuracy 0.9735999703407288\n"
          ],
          "name": "stdout"
        }
      ]
    },
    {
      "cell_type": "markdown",
      "metadata": {
        "id": "yrjpxBrZj7L5",
        "colab_type": "text"
      },
      "source": [
        "We have achieved 97% accuracy on the test set"
      ]
    },
    {
      "cell_type": "markdown",
      "metadata": {
        "id": "2l2U4g-BkvW6",
        "colab_type": "text"
      },
      "source": [
        "#CIFAR 10 Image classification"
      ]
    },
    {
      "cell_type": "markdown",
      "metadata": {
        "id": "ISBKICHSz05m",
        "colab_type": "text"
      },
      "source": [
        "Load data and preprocess"
      ]
    },
    {
      "cell_type": "code",
      "metadata": {
        "id": "tiKwfYHqz5SA",
        "colab_type": "code",
        "colab": {
          "base_uri": "https://localhost:8080/",
          "height": 53
        },
        "outputId": "13c67a98-1175-43ee-b3cd-5d3041c00ee7"
      },
      "source": [
        "(X_train,y_train), (X_test,y_test) = tf.keras.datasets.cifar10.load_data()\n",
        "\n",
        "X_train = X_train.reshape((50000,32,32,3))\n",
        "X_test = X_test.reshape((10000,32,32,3))\n",
        "\n",
        "X_train, X_test = X_train / 255.0, X_test / 255.0\n",
        "\n",
        "X_train = X_train.astype('float32')\n",
        "X_test = X_test.astype('float32')\n",
        "\n",
        "y_train = tf.keras.utils.to_categorical(y_train,CLASSES)\n",
        "y_test = tf.keras.utils.to_categorical(y_test,CLASSES)"
      ],
      "execution_count": 10,
      "outputs": [
        {
          "output_type": "stream",
          "text": [
            "Downloading data from https://www.cs.toronto.edu/~kriz/cifar-10-python.tar.gz\n",
            "170500096/170498071 [==============================] - 13s 0us/step\n"
          ],
          "name": "stdout"
        }
      ]
    },
    {
      "cell_type": "markdown",
      "metadata": {
        "id": "VBRNCWhdxMnE",
        "colab_type": "text"
      },
      "source": [
        "Parameters"
      ]
    },
    {
      "cell_type": "code",
      "metadata": {
        "id": "fmRnnOSuwyC2",
        "colab_type": "code",
        "colab": {}
      },
      "source": [
        "IMG_CHANNELS = 3\n",
        "IMG_ROWS = 32\n",
        "IMG_COLS = 32\n",
        "\n",
        "BATCH_SIZE = 128\n",
        "EPOCHS = 10\n",
        "CLASSES = 10\n",
        "VERBOSE = 1\n",
        "VALIDATION_SPLIT = 0.2\n",
        "OPTIM = tf.keras.optimizers.Adam()"
      ],
      "execution_count": 0,
      "outputs": []
    },
    {
      "cell_type": "markdown",
      "metadata": {
        "id": "mE0Fp4K8xLRc",
        "colab_type": "text"
      },
      "source": [
        "Build model"
      ]
    },
    {
      "cell_type": "code",
      "metadata": {
        "id": "jpyqjU3VxltC",
        "colab_type": "code",
        "colab": {}
      },
      "source": [
        "def build(input_shape,classes):\n",
        "  model = models.Sequential()\n",
        "  model.add(layers.Conv2D(32,kernel_size = (3,3),activation = 'relu', input_shape = input_shape))\n",
        "  model.add(layers.MaxPooling2D(pool_size = (2,2)))\n",
        "  model.add(layers.Dropout(0.25))\n",
        "\n",
        "  model.add(layers.Flatten())\n",
        "  model.add(layers.Dense(512,activation = 'relu'))\n",
        "  model.add(layers.Dropout(0.5))\n",
        "  model.add(layers.Dense(classes,activation = 'softmax'))\n",
        "\n",
        "  return model"
      ],
      "execution_count": 0,
      "outputs": []
    },
    {
      "cell_type": "markdown",
      "metadata": {
        "id": "52whHN3IyuAB",
        "colab_type": "text"
      },
      "source": [
        "Callbacks"
      ]
    },
    {
      "cell_type": "code",
      "metadata": {
        "id": "cCnPBdicy3hP",
        "colab_type": "code",
        "colab": {}
      },
      "source": [
        "callbacks = [\n",
        "             tf.keras.callbacks.TensorBoard(log_dir = './logs')\n",
        "]"
      ],
      "execution_count": 0,
      "outputs": []
    },
    {
      "cell_type": "markdown",
      "metadata": {
        "id": "OTt_yIoRy_Q7",
        "colab_type": "text"
      },
      "source": [
        "Training"
      ]
    },
    {
      "cell_type": "code",
      "metadata": {
        "id": "uqEEZD56zAv3",
        "colab_type": "code",
        "colab": {}
      },
      "source": [
        "model = build((IMG_ROWS,IMG_COLS,IMG_CHANNELS),CLASSES)\n",
        "model.compile(loss = 'categorical_crossentropy',optimizer = OPTIM,metrics = ['accuracy'])"
      ],
      "execution_count": 0,
      "outputs": []
    },
    {
      "cell_type": "code",
      "metadata": {
        "id": "nJPOZPnuzQPx",
        "colab_type": "code",
        "colab": {
          "base_uri": "https://localhost:8080/",
          "height": 399
        },
        "outputId": "f1aec897-1d5d-43c5-8213-7d2fa805a30e"
      },
      "source": [
        "model.fit(X_train,y_train,batch_size = BATCH_SIZE,epochs = EPOCHS,verbose = VERBOSE,callbacks = callbacks)\n",
        "score = model.evaluate(X_test,y_test,batch_size = BATCH_SIZE,verbose = VERBOSE)"
      ],
      "execution_count": 11,
      "outputs": [
        {
          "output_type": "stream",
          "text": [
            "Epoch 1/10\n",
            "391/391 [==============================] - 5s 13ms/step - loss: 1.5832 - accuracy: 0.4317\n",
            "Epoch 2/10\n",
            "391/391 [==============================] - 5s 13ms/step - loss: 1.2844 - accuracy: 0.5424\n",
            "Epoch 3/10\n",
            "391/391 [==============================] - 5s 13ms/step - loss: 1.1786 - accuracy: 0.5815\n",
            "Epoch 4/10\n",
            "391/391 [==============================] - 5s 13ms/step - loss: 1.0986 - accuracy: 0.6116\n",
            "Epoch 5/10\n",
            "391/391 [==============================] - 5s 13ms/step - loss: 1.0437 - accuracy: 0.6276\n",
            "Epoch 6/10\n",
            "391/391 [==============================] - 5s 13ms/step - loss: 0.9912 - accuracy: 0.6496\n",
            "Epoch 7/10\n",
            "391/391 [==============================] - 5s 13ms/step - loss: 0.9429 - accuracy: 0.6669\n",
            "Epoch 8/10\n",
            "391/391 [==============================] - 5s 13ms/step - loss: 0.8985 - accuracy: 0.6823\n",
            "Epoch 9/10\n",
            "391/391 [==============================] - 5s 13ms/step - loss: 0.8599 - accuracy: 0.6937\n",
            "Epoch 10/10\n",
            "391/391 [==============================] - 5s 13ms/step - loss: 0.8135 - accuracy: 0.7148\n",
            "79/79 [==============================] - 1s 7ms/step - loss: 0.9449 - accuracy: 0.6760\n"
          ],
          "name": "stdout"
        }
      ]
    },
    {
      "cell_type": "code",
      "metadata": {
        "id": "lcoRE8300yXA",
        "colab_type": "code",
        "colab": {
          "base_uri": "https://localhost:8080/",
          "height": 90
        },
        "outputId": "8c15e162-8e52-4391-948f-fa8d32bcfb90"
      },
      "source": [
        "print('\\nTest Score:',score[0])\n",
        "print('\\nTest accuracy:',score[1])"
      ],
      "execution_count": 12,
      "outputs": [
        {
          "output_type": "stream",
          "text": [
            "\n",
            "Test Score: 0.9449126124382019\n",
            "\n",
            "Test accuracy: 0.6759999990463257\n"
          ],
          "name": "stdout"
        }
      ]
    },
    {
      "cell_type": "markdown",
      "metadata": {
        "id": "exld1dm_1Hfp",
        "colab_type": "text"
      },
      "source": [
        "Accuracy needs improvement"
      ]
    },
    {
      "cell_type": "markdown",
      "metadata": {
        "id": "Pax0509C1PrO",
        "colab_type": "text"
      },
      "source": [
        "#Imporving accuracy with Deep Neural Network\n",
        "\n",
        "**1st module**: (CONV+CONV+MaxPool+DropOut)\n",
        "\n",
        "**2nd: module**: (CONV+CONV+MaxPool+DropOut)\n",
        "\n",
        "3rd module: (CONV+CONV+MaxPool+DropOut)"
      ]
    },
    {
      "cell_type": "code",
      "metadata": {
        "id": "tUQ6R0rz4_NZ",
        "colab_type": "code",
        "colab": {}
      },
      "source": [
        "def build_model():\n",
        "  model = models.Sequential()\n",
        "\n",
        "  model.add(layers.Conv2D(32,kernel_size = (3,3), padding = 'same', input_shape = X_train.shape[1:], activation = 'relu'))\n",
        "  model.add(layers.BatchNormalization())\n",
        "  model.add(layers.Conv2D(32,kernel_size = (3,3), padding = 'same', activation = 'relu'))\n",
        "  model.add(layers.BatchNormalization())\n",
        "  model.add(layers.MaxPool2D(pool_size = (2,2)))\n",
        "  model.add(layers.Dropout(0.2))\n",
        "\n",
        "  model.add(layers.Conv2D(64,kernel_size = (3,3), padding = 'same', activation = 'relu'))\n",
        "  model.add(layers.BatchNormalization())\n",
        "  model.add(layers.Conv2D(64,kernel_size = (3,3), padding = 'same', activation = 'relu'))\n",
        "  model.add(layers.BatchNormalization())\n",
        "  model.add(layers.MaxPool2D(pool_size = (2,2)))\n",
        "  model.add(layers.Dropout(0.3))\n",
        "\n",
        "  model.add(layers.Conv2D(128,kernel_size = (3,3), padding = 'same', activation = 'relu'))\n",
        "  model.add(layers.BatchNormalization())\n",
        "  model.add(layers.Conv2D(128,kernel_size = (3,3), padding = 'same', activation = 'relu'))\n",
        "  model.add(layers.BatchNormalization())\n",
        "  model.add(layers.MaxPool2D(pool_size = (2,2)))\n",
        "  model.add(layers.Dropout(0.4))\n",
        "\n",
        "  model.add(layers.Flatten())\n",
        "  model.add(layers.Dense(NUM_CLASSES, activation = 'relu'))\n",
        "  return model"
      ],
      "execution_count": 0,
      "outputs": []
    },
    {
      "cell_type": "markdown",
      "metadata": {
        "id": "R6-XiSvq8KRB",
        "colab_type": "text"
      },
      "source": [
        "Loading data"
      ]
    },
    {
      "cell_type": "code",
      "metadata": {
        "id": "F2QIAvPr6iex",
        "colab_type": "code",
        "colab": {}
      },
      "source": [
        "import tensorflow as tf\n",
        "from tensorflow.keras import datasets, layers, models, regularizers, optimizers\n",
        "from tensorflow.keras.preprocessing.image import ImageDataGenerator\n",
        "import numpy as np"
      ],
      "execution_count": 0,
      "outputs": []
    },
    {
      "cell_type": "code",
      "metadata": {
        "id": "_qRpwXbM6kQj",
        "colab_type": "code",
        "colab": {}
      },
      "source": [
        "EPOCHS = 50\n",
        "NUM_CLASSES = 10"
      ],
      "execution_count": 0,
      "outputs": []
    },
    {
      "cell_type": "code",
      "metadata": {
        "id": "_XMvDyGe7MGg",
        "colab_type": "code",
        "colab": {}
      },
      "source": [
        "def load_data():\n",
        "  (X_train,y_train), (X_test,y_test) = datasets.cifar10.load_data()\n",
        "  X_train = X_train.astype('float32')\n",
        "  X_test = X_test.astype('float32')\n",
        "\n",
        "  mean = np.mean(X_train,axis = (0,1,2,3))\n",
        "  std = np.std(X_train,axis = (0,1,2,3))\n",
        "\n",
        "  X_train = X_train - mean / (std + 1e-7)\n",
        "  X_test = X_test - mean / (std + 1e-7)\n",
        "\n",
        "  y_train = tf.keras.utils.to_categorical(y_train,NUM_CLASSES)\n",
        "  y_test = tf.keras.utils.to_categorical(y_test,NUM_CLASSES)\n",
        "\n",
        "  return X_train, y_train, X_test, y_test"
      ],
      "execution_count": 0,
      "outputs": []
    },
    {
      "cell_type": "markdown",
      "metadata": {
        "id": "jJ-9GpDS8DxD",
        "colab_type": "text"
      },
      "source": [
        "Training"
      ]
    },
    {
      "cell_type": "code",
      "metadata": {
        "id": "JWDsNpdd8VoS",
        "colab_type": "code",
        "colab": {
          "base_uri": "https://localhost:8080/",
          "height": 1000
        },
        "outputId": "f88340ab-6fd4-461a-e08b-f681a9be10b8"
      },
      "source": [
        "(X_train,y_train, X_test,y_test) = load_data()\n",
        "\n",
        "model = build_model()\n",
        "\n",
        "model.compile(loss = 'categorical_crossentropy', optimizer= 'RMSProp', metrics = ['accuracy'])\n",
        "\n",
        "batch_size = 64\n",
        "\n",
        "model.fit(X_train,y_train,batch_size = batch_size, epochs=EPOCHS,validation_data = (X_test,y_test))\n",
        "score = model.evaluate(X_test,y_test,batch_size = batch_size)"
      ],
      "execution_count": 24,
      "outputs": [
        {
          "output_type": "stream",
          "text": [
            "Epoch 1/50\n",
            "782/782 [==============================] - 27s 35ms/step - loss: 2.5038 - accuracy: 0.3488 - val_loss: 5.0371 - val_accuracy: 0.2810\n",
            "Epoch 2/50\n",
            "782/782 [==============================] - 26s 34ms/step - loss: 2.2394 - accuracy: 0.4400 - val_loss: 5.7115 - val_accuracy: 0.3197\n",
            "Epoch 3/50\n",
            "782/782 [==============================] - 26s 34ms/step - loss: 2.1031 - accuracy: 0.4848 - val_loss: 4.5073 - val_accuracy: 0.4346\n",
            "Epoch 4/50\n",
            "782/782 [==============================] - 26s 34ms/step - loss: 2.0459 - accuracy: 0.5117 - val_loss: 2.0339 - val_accuracy: 0.4458\n",
            "Epoch 5/50\n",
            "782/782 [==============================] - 26s 34ms/step - loss: 1.8501 - accuracy: 0.5516 - val_loss: 2.9204 - val_accuracy: 0.4480\n",
            "Epoch 6/50\n",
            "782/782 [==============================] - 26s 34ms/step - loss: 1.7537 - accuracy: 0.5738 - val_loss: 1.8675 - val_accuracy: 0.5866\n",
            "Epoch 7/50\n",
            "782/782 [==============================] - 26s 34ms/step - loss: 1.6752 - accuracy: 0.5987 - val_loss: 3.3589 - val_accuracy: 0.5179\n",
            "Epoch 8/50\n",
            "782/782 [==============================] - 27s 34ms/step - loss: 1.6128 - accuracy: 0.6156 - val_loss: 1.8320 - val_accuracy: 0.5903\n",
            "Epoch 9/50\n",
            "782/782 [==============================] - 27s 34ms/step - loss: 1.5831 - accuracy: 0.6357 - val_loss: 1.9034 - val_accuracy: 0.5936\n",
            "Epoch 10/50\n",
            "782/782 [==============================] - 26s 34ms/step - loss: 1.5554 - accuracy: 0.6514 - val_loss: 1.7662 - val_accuracy: 0.6554\n",
            "Epoch 11/50\n",
            "782/782 [==============================] - 26s 34ms/step - loss: 1.4457 - accuracy: 0.6600 - val_loss: 1.9924 - val_accuracy: 0.5124\n",
            "Epoch 12/50\n",
            "782/782 [==============================] - 27s 34ms/step - loss: 1.5094 - accuracy: 0.6660 - val_loss: 1.5508 - val_accuracy: 0.5920\n",
            "Epoch 13/50\n",
            "782/782 [==============================] - 26s 34ms/step - loss: 1.4443 - accuracy: 0.6717 - val_loss: 1.6289 - val_accuracy: 0.6284\n",
            "Epoch 14/50\n",
            "782/782 [==============================] - 26s 34ms/step - loss: 1.4753 - accuracy: 0.6807 - val_loss: 1.3988 - val_accuracy: 0.6513\n",
            "Epoch 15/50\n",
            "782/782 [==============================] - 26s 34ms/step - loss: 1.3822 - accuracy: 0.6849 - val_loss: 1.9669 - val_accuracy: 0.6619\n",
            "Epoch 16/50\n",
            "782/782 [==============================] - 27s 34ms/step - loss: 1.3982 - accuracy: 0.6968 - val_loss: 1.4589 - val_accuracy: 0.6988\n",
            "Epoch 17/50\n",
            "782/782 [==============================] - 26s 34ms/step - loss: 1.3932 - accuracy: 0.7017 - val_loss: 1.6649 - val_accuracy: 0.6502\n",
            "Epoch 18/50\n",
            "782/782 [==============================] - 26s 34ms/step - loss: 1.4289 - accuracy: 0.7060 - val_loss: 1.6806 - val_accuracy: 0.6399\n",
            "Epoch 19/50\n",
            "782/782 [==============================] - 26s 34ms/step - loss: 1.3808 - accuracy: 0.7081 - val_loss: 1.8581 - val_accuracy: 0.6415\n",
            "Epoch 20/50\n",
            "782/782 [==============================] - 27s 34ms/step - loss: 1.3719 - accuracy: 0.7120 - val_loss: 2.1819 - val_accuracy: 0.6135\n",
            "Epoch 21/50\n",
            "782/782 [==============================] - 26s 34ms/step - loss: 1.3435 - accuracy: 0.7143 - val_loss: 1.8492 - val_accuracy: 0.6585\n",
            "Epoch 22/50\n",
            "782/782 [==============================] - 26s 34ms/step - loss: 1.3314 - accuracy: 0.7192 - val_loss: 1.6576 - val_accuracy: 0.6518\n",
            "Epoch 23/50\n",
            "782/782 [==============================] - 26s 34ms/step - loss: 1.3461 - accuracy: 0.7191 - val_loss: 1.2365 - val_accuracy: 0.7232\n",
            "Epoch 24/50\n",
            "782/782 [==============================] - 27s 34ms/step - loss: 1.3214 - accuracy: 0.7246 - val_loss: 1.7754 - val_accuracy: 0.6369\n",
            "Epoch 25/50\n",
            "782/782 [==============================] - 26s 34ms/step - loss: 1.3037 - accuracy: 0.7237 - val_loss: 1.7414 - val_accuracy: 0.6410\n",
            "Epoch 26/50\n",
            "782/782 [==============================] - 26s 34ms/step - loss: 1.2899 - accuracy: 0.7310 - val_loss: 1.4637 - val_accuracy: 0.7197\n",
            "Epoch 27/50\n",
            "782/782 [==============================] - 26s 34ms/step - loss: 1.2620 - accuracy: 0.7285 - val_loss: 1.3326 - val_accuracy: 0.7070\n",
            "Epoch 28/50\n",
            "782/782 [==============================] - 27s 34ms/step - loss: 1.2653 - accuracy: 0.7318 - val_loss: 1.6475 - val_accuracy: 0.6778\n",
            "Epoch 29/50\n",
            "782/782 [==============================] - 26s 34ms/step - loss: 1.2550 - accuracy: 0.7377 - val_loss: 1.4206 - val_accuracy: 0.7186\n",
            "Epoch 30/50\n",
            "782/782 [==============================] - 26s 34ms/step - loss: 1.2955 - accuracy: 0.7416 - val_loss: 1.4398 - val_accuracy: 0.7121\n",
            "Epoch 31/50\n",
            "782/782 [==============================] - 26s 34ms/step - loss: 1.2484 - accuracy: 0.7446 - val_loss: 1.7818 - val_accuracy: 0.6374\n",
            "Epoch 32/50\n",
            "782/782 [==============================] - 27s 34ms/step - loss: 1.2324 - accuracy: 0.7470 - val_loss: 1.3800 - val_accuracy: 0.7343\n",
            "Epoch 33/50\n",
            "782/782 [==============================] - 27s 34ms/step - loss: 1.2757 - accuracy: 0.7467 - val_loss: 1.6734 - val_accuracy: 0.6503\n",
            "Epoch 34/50\n",
            "782/782 [==============================] - 26s 34ms/step - loss: 1.2588 - accuracy: 0.7425 - val_loss: 1.2750 - val_accuracy: 0.7380\n",
            "Epoch 35/50\n",
            "782/782 [==============================] - 26s 34ms/step - loss: 1.2354 - accuracy: 0.7487 - val_loss: 2.2232 - val_accuracy: 0.6632\n",
            "Epoch 36/50\n",
            "782/782 [==============================] - 27s 34ms/step - loss: 1.2409 - accuracy: 0.7513 - val_loss: 1.2372 - val_accuracy: 0.7456\n",
            "Epoch 37/50\n",
            "782/782 [==============================] - 27s 34ms/step - loss: 1.2269 - accuracy: 0.7553 - val_loss: 1.1933 - val_accuracy: 0.7313\n",
            "Epoch 38/50\n",
            "782/782 [==============================] - 27s 34ms/step - loss: 1.2552 - accuracy: 0.7534 - val_loss: 1.2603 - val_accuracy: 0.7599\n",
            "Epoch 39/50\n",
            "782/782 [==============================] - 26s 34ms/step - loss: 1.2297 - accuracy: 0.7535 - val_loss: 1.6244 - val_accuracy: 0.7120\n",
            "Epoch 40/50\n",
            "782/782 [==============================] - 27s 34ms/step - loss: 1.2623 - accuracy: 0.7577 - val_loss: 1.2152 - val_accuracy: 0.7330\n",
            "Epoch 41/50\n",
            "782/782 [==============================] - 26s 34ms/step - loss: 1.2048 - accuracy: 0.7611 - val_loss: 1.3095 - val_accuracy: 0.7341\n",
            "Epoch 42/50\n",
            "782/782 [==============================] - 26s 34ms/step - loss: 1.2094 - accuracy: 0.7603 - val_loss: 1.4790 - val_accuracy: 0.7543\n",
            "Epoch 43/50\n",
            "782/782 [==============================] - 26s 34ms/step - loss: 1.1836 - accuracy: 0.7600 - val_loss: 1.1402 - val_accuracy: 0.7724\n",
            "Epoch 44/50\n",
            "782/782 [==============================] - 27s 34ms/step - loss: 1.1698 - accuracy: 0.7646 - val_loss: 1.1891 - val_accuracy: 0.7695\n",
            "Epoch 45/50\n",
            "782/782 [==============================] - 26s 34ms/step - loss: 1.1886 - accuracy: 0.7666 - val_loss: 1.1490 - val_accuracy: 0.7646\n",
            "Epoch 46/50\n",
            "782/782 [==============================] - 26s 34ms/step - loss: 1.1615 - accuracy: 0.7671 - val_loss: 1.3221 - val_accuracy: 0.7524\n",
            "Epoch 47/50\n",
            "782/782 [==============================] - 26s 34ms/step - loss: 1.1660 - accuracy: 0.7671 - val_loss: 1.5678 - val_accuracy: 0.7055\n",
            "Epoch 48/50\n",
            "782/782 [==============================] - 26s 34ms/step - loss: 1.1835 - accuracy: 0.7667 - val_loss: 1.2943 - val_accuracy: 0.7718\n",
            "Epoch 49/50\n",
            "782/782 [==============================] - 27s 34ms/step - loss: 1.1420 - accuracy: 0.7691 - val_loss: 1.2286 - val_accuracy: 0.7772\n",
            "Epoch 50/50\n",
            "782/782 [==============================] - 26s 34ms/step - loss: 1.1623 - accuracy: 0.7709 - val_loss: 1.1984 - val_accuracy: 0.7768\n",
            "157/157 [==============================] - 1s 8ms/step - loss: 1.1984 - accuracy: 0.7768\n"
          ],
          "name": "stdout"
        }
      ]
    },
    {
      "cell_type": "code",
      "metadata": {
        "id": "JvGqvaNG9GPq",
        "colab_type": "code",
        "colab": {
          "base_uri": "https://localhost:8080/",
          "height": 90
        },
        "outputId": "c5828e7e-c08d-41ac-a4e8-12e56e2b0ec9"
      },
      "source": [
        "print('\\nTest score:',score[0])\n",
        "print('\\nTest accuracy',score[1])"
      ],
      "execution_count": 25,
      "outputs": [
        {
          "output_type": "stream",
          "text": [
            "\n",
            "Test score: 1.1983559131622314\n",
            "\n",
            "Test accuracy 0.7767999768257141\n"
          ],
          "name": "stdout"
        }
      ]
    },
    {
      "cell_type": "markdown",
      "metadata": {
        "id": "bdtguPxHDE6u",
        "colab_type": "text"
      },
      "source": [
        "We got 77% accuracy on the test set"
      ]
    },
    {
      "cell_type": "markdown",
      "metadata": {
        "id": "Dor_GPifAdUQ",
        "colab_type": "text"
      },
      "source": [
        "Improving performance with Data Augmentation"
      ]
    },
    {
      "cell_type": "code",
      "metadata": {
        "id": "FoORcAJiAkp_",
        "colab_type": "code",
        "colab": {}
      },
      "source": [
        "datagen = ImageDataGenerator(\n",
        "    rotation_range = 30,\n",
        "    width_shift_range = 0.2,\n",
        "    height_shift_range = 0.2,\n",
        "    horizontal_flip = True\n",
        ")\n",
        "datagen.fit(X_train)\n",
        "\n",
        "batch_size = 64\n",
        "model.fit_generator(datagen.flow(X_train,y_train,batch_size = batch_size,epochs = Epochs,verbose = 1,validation_data = (X_test,y_test)))\n",
        "\n",
        "model_json = model.to_json()\n",
        "with open('model.json','w') as json_file:\n",
        "  json_file.write(model_json)\n",
        "model.save_weights('model.h5')\n",
        "\n",
        "scores = model.evaluate(X_test,y_test,batch_size = 128, verbose = 1)\n",
        "print('\\nTest result: %.3f loss: %.3f' % (scores[1]*100,scores[0]))"
      ],
      "execution_count": 0,
      "outputs": []
    },
    {
      "cell_type": "markdown",
      "metadata": {
        "id": "tvch1hyNB95R",
        "colab_type": "text"
      },
      "source": [
        "With data augmentation we achieve 85.91% accuracy on test set."
      ]
    },
    {
      "cell_type": "markdown",
      "metadata": {
        "id": "EWiPJcoH9xoF",
        "colab_type": "text"
      },
      "source": [
        "predicting with cifar10"
      ]
    },
    {
      "cell_type": "code",
      "metadata": {
        "id": "eKxcmn5SAR_S",
        "colab_type": "code",
        "colab": {}
      },
      "source": [
        "\n",
        "import numpy as np\n",
        "import scipy.misc\n",
        "from tf.keras.models import model_from_json\n",
        "from tf.keras.optimizers import SGD\n",
        "\n",
        "\"\"\" LOAD MODEL FROM DISK\n",
        "model_architecture = 'cifar10_architecture.json'\n",
        "model_weights = 'cifar10_weights.h5'\n",
        "model = model_from_json(open(model_architecture).read())\n",
        "model.load_weights(model_weights)\n",
        "\n",
        "\"\"\"\n",
        "# load images\n",
        "img_names = ['cat-standing.jpg', 'dog.jpg']\n",
        "imgs = [np.transpose(scipy.misc.imresize(scipy.misc.imread(img_name), (32, 32)), (2, 0, 1)).astype('float32') for img_name in img_names]\n",
        "imgs = np.array(imgs) / 255\n",
        "# train\n",
        "optim = SGD()\n",
        "model.compile(loss='categorical_crossentropy', optimizer=optim,metrics=['accuracy'])\n",
        "# predict \n",
        "predictions = model.predict_classes(imgs)\n",
        "print(predictions)"
      ],
      "execution_count": 0,
      "outputs": []
    },
    {
      "cell_type": "markdown",
      "metadata": {
        "id": "8reLiTxZDSkl",
        "colab_type": "text"
      },
      "source": [
        "![cat and dog](https://i0.wp.com/www.respectforanimals.org/wp-content/uploads/2017/07/cat-and-dog-500x300.jpg\n",
        ")\n",
        "\n",
        "we can predict for this image from the above code and get cat and dogs as o/p"
      ]
    }
  ]
}