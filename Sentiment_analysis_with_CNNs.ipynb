{
  "nbformat": 4,
  "nbformat_minor": 0,
  "metadata": {
    "colab": {
      "name": "Sentiment analysis with CNNs.ipynb",
      "provenance": [],
      "authorship_tag": "ABX9TyPeWjmdfdxdfSLPeGvwNIJ1",
      "include_colab_link": true
    },
    "kernelspec": {
      "name": "python3",
      "display_name": "Python 3"
    },
    "accelerator": "GPU"
  },
  "cells": [
    {
      "cell_type": "markdown",
      "metadata": {
        "id": "view-in-github",
        "colab_type": "text"
      },
      "source": [
        "<a href=\"https://colab.research.google.com/github/narsym/deep-learning-with-tensorflow-2.0/blob/master/Sentiment_analysis_with_CNNs.ipynb\" target=\"_parent\"><img src=\"https://colab.research.google.com/assets/colab-badge.svg\" alt=\"Open In Colab\"/></a>"
      ]
    },
    {
      "cell_type": "markdown",
      "metadata": {
        "id": "Cln3aGZWyjI2",
        "colab_type": "text"
      },
      "source": [
        "Importing libraries"
      ]
    },
    {
      "cell_type": "code",
      "metadata": {
        "id": "WGisWKkhsuYo",
        "colab_type": "code",
        "colab": {}
      },
      "source": [
        "import tensorflow as tf\n",
        "from tensorflow.keras import datasets, layers, models, preprocessing\n",
        "import tensorflow_datasets as tfds"
      ],
      "execution_count": 0,
      "outputs": []
    },
    {
      "cell_type": "markdown",
      "metadata": {
        "id": "hZSoTbfmynp6",
        "colab_type": "text"
      },
      "source": [
        "Constants:\n",
        "\n",
        "*   Maximum length of sentences\n",
        "*   no of words in sentences\n",
        "*   embeddings output dimensions\n",
        "*   no of epochs\n",
        "*   batch_size\n",
        "\n"
      ]
    },
    {
      "cell_type": "code",
      "metadata": {
        "id": "_Wy_IMmwu6t6",
        "colab_type": "code",
        "colab": {}
      },
      "source": [
        "max_len = 100\n",
        "n_words = 10000\n",
        "dim_embedding = 256\n",
        "EPOCHS = 20\n",
        "BATCH_SIZE = 500"
      ],
      "execution_count": 0,
      "outputs": []
    },
    {
      "cell_type": "markdown",
      "metadata": {
        "id": "88qbRZ9dy7iM",
        "colab_type": "text"
      },
      "source": [
        "Loading IMDB movie review dataset from the kaggle and preprocess it by setting maximum length and padding "
      ]
    },
    {
      "cell_type": "code",
      "metadata": {
        "id": "r_bm-G4MvKsN",
        "colab_type": "code",
        "colab": {}
      },
      "source": [
        "def load_data():\n",
        "  (X_train, y_train), (X_test, y_test) = datasets.imdb.load_data(num_words = n_words)\n",
        "  X_train = preprocessing.sequence.pad_sequences(X_train, maxlen = max_len)\n",
        "  X_test = preprocessing.sequence.pad_sequences(X_test, maxlen = max_len)\n",
        "  return (X_train, y_train), (X_test, y_test)"
      ],
      "execution_count": 0,
      "outputs": []
    },
    {
      "cell_type": "markdown",
      "metadata": {
        "id": "Sy2J6Hx2zMdf",
        "colab_type": "text"
      },
      "source": [
        "Building model using Embedding layer which is autoencoder layer and using 1D layers for the text"
      ]
    },
    {
      "cell_type": "code",
      "metadata": {
        "id": "19OtJbk-v7sN",
        "colab_type": "code",
        "colab": {}
      },
      "source": [
        "def build_model():\n",
        "  model = models.Sequential()\n",
        "  model.add(layers.Embedding(n_words,dim_embedding,input_length = max_len))\n",
        "  model.add(layers.Dropout(0.3))\n",
        "  model.add(layers.Conv1D(256,3,padding = 'valid',  activation = 'relu'))\n",
        "  model.add(layers.GlobalMaxPool1D())\n",
        "  model.add(layers.Dense(128,activation = 'relu'))\n",
        "  model.add(layers.Dropout(0.5))\n",
        "  model.add(layers.Dense(1,activation = 'sigmoid'))\n",
        "  return model"
      ],
      "execution_count": 0,
      "outputs": []
    },
    {
      "cell_type": "markdown",
      "metadata": {
        "id": "PETrFCWfzUyM",
        "colab_type": "text"
      },
      "source": [
        "Now using above function to instantiate model"
      ]
    },
    {
      "cell_type": "code",
      "metadata": {
        "id": "F6aE_Ds0w5_g",
        "colab_type": "code",
        "colab": {
          "base_uri": "https://localhost:8080/",
          "height": 453
        },
        "outputId": "ed4d7973-fb59-4777-bcd6-cbbe3efe57e8"
      },
      "source": [
        "(X_train, y_train), (X_test, y_test) = load_data()\n",
        "model = build_model()\n",
        "model.summary()"
      ],
      "execution_count": 5,
      "outputs": [
        {
          "output_type": "stream",
          "text": [
            "Downloading data from https://storage.googleapis.com/tensorflow/tf-keras-datasets/imdb.npz\n",
            "17465344/17464789 [==============================] - 0s 0us/step\n",
            "Model: \"sequential\"\n",
            "_________________________________________________________________\n",
            "Layer (type)                 Output Shape              Param #   \n",
            "=================================================================\n",
            "embedding (Embedding)        (None, 100, 256)          2560000   \n",
            "_________________________________________________________________\n",
            "dropout (Dropout)            (None, 100, 256)          0         \n",
            "_________________________________________________________________\n",
            "conv1d (Conv1D)              (None, 98, 256)           196864    \n",
            "_________________________________________________________________\n",
            "global_max_pooling1d (Global (None, 256)               0         \n",
            "_________________________________________________________________\n",
            "dense (Dense)                (None, 128)               32896     \n",
            "_________________________________________________________________\n",
            "dropout_1 (Dropout)          (None, 128)               0         \n",
            "_________________________________________________________________\n",
            "dense_1 (Dense)              (None, 1)                 129       \n",
            "=================================================================\n",
            "Total params: 2,789,889\n",
            "Trainable params: 2,789,889\n",
            "Non-trainable params: 0\n",
            "_________________________________________________________________\n"
          ],
          "name": "stdout"
        }
      ]
    },
    {
      "cell_type": "markdown",
      "metadata": {
        "id": "jFDZuF0VzbPI",
        "colab_type": "text"
      },
      "source": [
        "Compiling model with adam optimizer, binary_crossentropy loss and accuracy as metrics"
      ]
    },
    {
      "cell_type": "code",
      "metadata": {
        "id": "RBfD7CksxD-3",
        "colab_type": "code",
        "colab": {}
      },
      "source": [
        "model.compile(optimizer = 'adam', loss = 'binary_crossentropy', metrics = ['accuracy'])"
      ],
      "execution_count": 0,
      "outputs": []
    },
    {
      "cell_type": "markdown",
      "metadata": {
        "id": "LCQGilBVzk1d",
        "colab_type": "text"
      },
      "source": [
        "Training the model"
      ]
    },
    {
      "cell_type": "code",
      "metadata": {
        "id": "E4IJkh5rxS-E",
        "colab_type": "code",
        "colab": {
          "base_uri": "https://localhost:8080/",
          "height": 762
        },
        "outputId": "d5f687d6-f8cd-4a2a-b304-0396085ab514"
      },
      "source": [
        "model.fit(X_train, y_train, epochs = EPOCHS, batch_size = BATCH_SIZE, validation_data = (X_test, y_test))"
      ],
      "execution_count": 7,
      "outputs": [
        {
          "output_type": "stream",
          "text": [
            "Epoch 1/20\n",
            "50/50 [==============================] - 4s 88ms/step - loss: 0.6568 - accuracy: 0.6209 - val_loss: 0.5455 - val_accuracy: 0.7436\n",
            "Epoch 2/20\n",
            "50/50 [==============================] - 4s 85ms/step - loss: 0.4233 - accuracy: 0.8058 - val_loss: 0.3466 - val_accuracy: 0.8482\n",
            "Epoch 3/20\n",
            "50/50 [==============================] - 4s 85ms/step - loss: 0.2788 - accuracy: 0.8877 - val_loss: 0.3208 - val_accuracy: 0.8604\n",
            "Epoch 4/20\n",
            "50/50 [==============================] - 4s 85ms/step - loss: 0.1888 - accuracy: 0.9319 - val_loss: 0.3266 - val_accuracy: 0.8608\n",
            "Epoch 5/20\n",
            "50/50 [==============================] - 4s 84ms/step - loss: 0.1186 - accuracy: 0.9620 - val_loss: 0.3643 - val_accuracy: 0.8570\n",
            "Epoch 6/20\n",
            "50/50 [==============================] - 4s 84ms/step - loss: 0.0691 - accuracy: 0.9822 - val_loss: 0.4254 - val_accuracy: 0.8493\n",
            "Epoch 7/20\n",
            "50/50 [==============================] - 4s 84ms/step - loss: 0.0363 - accuracy: 0.9924 - val_loss: 0.4824 - val_accuracy: 0.8474\n",
            "Epoch 8/20\n",
            "50/50 [==============================] - 4s 86ms/step - loss: 0.0176 - accuracy: 0.9971 - val_loss: 0.5290 - val_accuracy: 0.8478\n",
            "Epoch 9/20\n",
            "50/50 [==============================] - 4s 84ms/step - loss: 0.0114 - accuracy: 0.9984 - val_loss: 0.5714 - val_accuracy: 0.8485\n",
            "Epoch 10/20\n",
            "50/50 [==============================] - 4s 84ms/step - loss: 0.0073 - accuracy: 0.9992 - val_loss: 0.6105 - val_accuracy: 0.8473\n",
            "Epoch 11/20\n",
            "50/50 [==============================] - 4s 84ms/step - loss: 0.0048 - accuracy: 0.9995 - val_loss: 0.6389 - val_accuracy: 0.8472\n",
            "Epoch 12/20\n",
            "50/50 [==============================] - 4s 83ms/step - loss: 0.0034 - accuracy: 0.9998 - val_loss: 0.6810 - val_accuracy: 0.8482\n",
            "Epoch 13/20\n",
            "50/50 [==============================] - 4s 85ms/step - loss: 0.0024 - accuracy: 0.9998 - val_loss: 0.6953 - val_accuracy: 0.8469\n",
            "Epoch 14/20\n",
            "50/50 [==============================] - 4s 85ms/step - loss: 0.0023 - accuracy: 0.9998 - val_loss: 0.7130 - val_accuracy: 0.8470\n",
            "Epoch 15/20\n",
            "50/50 [==============================] - 4s 86ms/step - loss: 0.0021 - accuracy: 0.9997 - val_loss: 0.7313 - val_accuracy: 0.8472\n",
            "Epoch 16/20\n",
            "50/50 [==============================] - 4s 84ms/step - loss: 0.0015 - accuracy: 0.9999 - val_loss: 0.7568 - val_accuracy: 0.8472\n",
            "Epoch 17/20\n",
            "50/50 [==============================] - 4s 85ms/step - loss: 0.0013 - accuracy: 1.0000 - val_loss: 0.7836 - val_accuracy: 0.8466\n",
            "Epoch 18/20\n",
            "50/50 [==============================] - 4s 85ms/step - loss: 0.0012 - accuracy: 1.0000 - val_loss: 0.8040 - val_accuracy: 0.8463\n",
            "Epoch 19/20\n",
            "50/50 [==============================] - 4s 86ms/step - loss: 0.0011 - accuracy: 0.9999 - val_loss: 0.8245 - val_accuracy: 0.8450\n",
            "Epoch 20/20\n",
            "50/50 [==============================] - 4s 87ms/step - loss: 8.6545e-04 - accuracy: 1.0000 - val_loss: 0.8321 - val_accuracy: 0.8460\n"
          ],
          "name": "stdout"
        },
        {
          "output_type": "execute_result",
          "data": {
            "text/plain": [
              "<tensorflow.python.keras.callbacks.History at 0x7fc5b54aab70>"
            ]
          },
          "metadata": {
            "tags": []
          },
          "execution_count": 7
        }
      ]
    },
    {
      "cell_type": "markdown",
      "metadata": {
        "id": "CSGmbnyZzna9",
        "colab_type": "text"
      },
      "source": [
        "Evaluating the model on the test set"
      ]
    },
    {
      "cell_type": "code",
      "metadata": {
        "id": "02b_GtTtxn2Z",
        "colab_type": "code",
        "colab": {
          "base_uri": "https://localhost:8080/",
          "height": 108
        },
        "outputId": "0b9a9ab4-cb64-43da-c853-04f62cb7a0c1"
      },
      "source": [
        "score = model.evaluate(X_test, y_test, batch_size = BATCH_SIZE)\n",
        "print('\\nTest score:',score[0])\n",
        "print('\\nTest accuracy:',score[1])"
      ],
      "execution_count": 8,
      "outputs": [
        {
          "output_type": "stream",
          "text": [
            "50/50 [==============================] - 1s 18ms/step - loss: 0.8321 - accuracy: 0.8460\n",
            "\n",
            "Test score: 0.8320747017860413\n",
            "\n",
            "Test accuracy: 0.8459600210189819\n"
          ],
          "name": "stdout"
        }
      ]
    },
    {
      "cell_type": "markdown",
      "metadata": {
        "id": "VfTKBYCAx_FS",
        "colab_type": "text"
      },
      "source": [
        "We got 84% accuracy"
      ]
    }
  ]
}