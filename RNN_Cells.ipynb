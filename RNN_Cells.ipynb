{
  "nbformat": 4,
  "nbformat_minor": 0,
  "metadata": {
    "colab": {
      "name": "RNN Cells.ipynb",
      "provenance": [],
      "authorship_tag": "ABX9TyP21LkhT319MxDzefkEYkDG",
      "include_colab_link": true
    },
    "kernelspec": {
      "name": "python3",
      "display_name": "Python 3"
    }
  },
  "cells": [
    {
      "cell_type": "markdown",
      "metadata": {
        "id": "view-in-github",
        "colab_type": "text"
      },
      "source": [
        "<a href=\"https://colab.research.google.com/github/narsym/deep-learning-with-tensorflow-2.0/blob/master/RNN_Cells.ipynb\" target=\"_parent\"><img src=\"https://colab.research.google.com/assets/colab-badge.svg\" alt=\"Open In Colab\"/></a>"
      ]
    },
    {
      "cell_type": "markdown",
      "metadata": {
        "id": "1Djg2IKJ1tXJ",
        "colab_type": "text"
      },
      "source": [
        "#RNN variants"
      ]
    },
    {
      "cell_type": "markdown",
      "metadata": {
        "id": "ucjIA-sD-BTE",
        "colab_type": "text"
      },
      "source": [
        "PeepholeLSTMCell"
      ]
    },
    {
      "cell_type": "code",
      "metadata": {
        "id": "7h9DzWbL1RMD",
        "colab_type": "code",
        "colab": {}
      },
      "source": [
        "import tensorflow as tf\n",
        "hidden_dim = 256\n",
        "peephole_cell = tf.keras.experimental.PeepholeLSTMCell(hidden_dim)\n",
        "rnn_layer = tf.keras.layers.RNN(peephole_cell)"
      ],
      "execution_count": 0,
      "outputs": []
    },
    {
      "cell_type": "markdown",
      "metadata": {
        "id": "OThq_zUi-FI1",
        "colab_type": "text"
      },
      "source": [
        "Bidirectional LSTM"
      ]
    },
    {
      "cell_type": "code",
      "metadata": {
        "id": "crb1M2YZ-HmU",
        "colab_type": "code",
        "colab": {}
      },
      "source": [
        "lstm = tf.keras.layers.Bidirectional(tf.keras.layers.LSTM(10, return_sequences= True, input_shape = (5, 10)))"
      ],
      "execution_count": 0,
      "outputs": []
    }
  ]
}